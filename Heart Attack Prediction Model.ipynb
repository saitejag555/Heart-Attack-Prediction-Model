{
 "cells": [
  {
   "cell_type": "markdown",
   "id": "c0d110ae",
   "metadata": {},
   "source": [
    "###  Objective: Binary Classification model to predict whether the patient will have risk to have heart attack or not\n",
    "\n",
    "### Steps Performed:\n",
    "    ### 1. EDA (Univariate Analysis, Bi- Variate Analysis, Missing Value Analysis, Outlier Analysis)\n",
    "    ### 2. Data Preprocessing \n",
    "    ### 3. Data Preparation\n",
    "    ### 4. Feature selection\n",
    "    ### 5. Model building\n",
    "    ### 6. Model Evaluation\n",
    "    ### 7. Model Tuning\n"
   ]
  },
  {
   "cell_type": "markdown",
   "id": "2414eb21",
   "metadata": {},
   "source": [
    "### Importing libraries"
   ]
  },
  {
   "cell_type": "code",
   "execution_count": 1,
   "id": "4d089ff7",
   "metadata": {},
   "outputs": [],
   "source": [
    "import pandas as pd\n",
    "import numpy as np\n",
    "from scipy.stats import chi2_contingency\n",
    "\n",
    "import matplotlib.pyplot as plt\n",
    "import seaborn as sns\n",
    "\n",
    "from sklearn.model_selection import train_test_split, RepeatedStratifiedKFold, GridSearchCV\n",
    "from sklearn.linear_model import LogisticRegression\n",
    "from sklearn.tree import DecisionTreeClassifier\n",
    "from sklearn.metrics import classification_report, confusion_matrix, roc_auc_score, roc_curve\n",
    "\n",
    "%matplotlib inline"
   ]
  },
  {
   "cell_type": "markdown",
   "id": "07e66821",
   "metadata": {},
   "source": [
    "### Reading the data"
   ]
  },
  {
   "cell_type": "code",
   "execution_count": 2,
   "id": "5dc006a4",
   "metadata": {},
   "outputs": [],
   "source": [
    "df = pd.read_csv('take_home_assign_set.csv')"
   ]
  },
  {
   "cell_type": "code",
   "execution_count": 3,
   "id": "8c256ad2",
   "metadata": {},
   "outputs": [
    {
     "data": {
      "text/plain": [
       "(303, 14)"
      ]
     },
     "execution_count": 3,
     "metadata": {},
     "output_type": "execute_result"
    }
   ],
   "source": [
    "df.shape"
   ]
  },
  {
   "cell_type": "code",
   "execution_count": 4,
   "id": "723b7d59",
   "metadata": {},
   "outputs": [
    {
     "data": {
      "text/plain": [
       "Index(['age', 'gender', 'chest_pain_type', 'rest_blood_pressure',\n",
       "       'cholesterol', 'fast_blood_sugar', 'rest_ecg', 'max_heart_rate',\n",
       "       'ex_ind_ang', 'prev_peak', 'slope', 'vessels_num', 'thal_result',\n",
       "       'output'],\n",
       "      dtype='object')"
      ]
     },
     "execution_count": 4,
     "metadata": {},
     "output_type": "execute_result"
    }
   ],
   "source": [
    "df.columns"
   ]
  },
  {
   "cell_type": "code",
   "execution_count": 5,
   "id": "0cb9fe06",
   "metadata": {},
   "outputs": [
    {
     "data": {
      "text/html": [
       "<div>\n",
       "<style scoped>\n",
       "    .dataframe tbody tr th:only-of-type {\n",
       "        vertical-align: middle;\n",
       "    }\n",
       "\n",
       "    .dataframe tbody tr th {\n",
       "        vertical-align: top;\n",
       "    }\n",
       "\n",
       "    .dataframe thead th {\n",
       "        text-align: right;\n",
       "    }\n",
       "</style>\n",
       "<table border=\"1\" class=\"dataframe\">\n",
       "  <thead>\n",
       "    <tr style=\"text-align: right;\">\n",
       "      <th></th>\n",
       "      <th>age</th>\n",
       "      <th>gender</th>\n",
       "      <th>chest_pain_type</th>\n",
       "      <th>rest_blood_pressure</th>\n",
       "      <th>cholesterol</th>\n",
       "      <th>fast_blood_sugar</th>\n",
       "      <th>rest_ecg</th>\n",
       "      <th>max_heart_rate</th>\n",
       "      <th>ex_ind_ang</th>\n",
       "      <th>prev_peak</th>\n",
       "      <th>slope</th>\n",
       "      <th>vessels_num</th>\n",
       "      <th>thal_result</th>\n",
       "      <th>output</th>\n",
       "    </tr>\n",
       "  </thead>\n",
       "  <tbody>\n",
       "    <tr>\n",
       "      <th>0</th>\n",
       "      <td>63</td>\n",
       "      <td>1</td>\n",
       "      <td>Non-anginal pain</td>\n",
       "      <td>145</td>\n",
       "      <td>233</td>\n",
       "      <td>Yes</td>\n",
       "      <td>Normal</td>\n",
       "      <td>150</td>\n",
       "      <td>No</td>\n",
       "      <td>2.3</td>\n",
       "      <td>0</td>\n",
       "      <td>0</td>\n",
       "      <td>1</td>\n",
       "      <td>1</td>\n",
       "    </tr>\n",
       "    <tr>\n",
       "      <th>1</th>\n",
       "      <td>37</td>\n",
       "      <td>1</td>\n",
       "      <td>Atypical angina</td>\n",
       "      <td>130</td>\n",
       "      <td>250</td>\n",
       "      <td>No</td>\n",
       "      <td>ST-T wave normality</td>\n",
       "      <td>187</td>\n",
       "      <td>No</td>\n",
       "      <td>3.5</td>\n",
       "      <td>0</td>\n",
       "      <td>0</td>\n",
       "      <td>2</td>\n",
       "      <td>1</td>\n",
       "    </tr>\n",
       "    <tr>\n",
       "      <th>2</th>\n",
       "      <td>41</td>\n",
       "      <td>0</td>\n",
       "      <td>Typical angina</td>\n",
       "      <td>130</td>\n",
       "      <td>204</td>\n",
       "      <td>No</td>\n",
       "      <td>Normal</td>\n",
       "      <td>172</td>\n",
       "      <td>No</td>\n",
       "      <td>1.4</td>\n",
       "      <td>2</td>\n",
       "      <td>0</td>\n",
       "      <td>2</td>\n",
       "      <td>1</td>\n",
       "    </tr>\n",
       "    <tr>\n",
       "      <th>3</th>\n",
       "      <td>56</td>\n",
       "      <td>1</td>\n",
       "      <td>Typical angina</td>\n",
       "      <td>120</td>\n",
       "      <td>236</td>\n",
       "      <td>No</td>\n",
       "      <td>ST-T wave normality</td>\n",
       "      <td>178</td>\n",
       "      <td>No</td>\n",
       "      <td>0.8</td>\n",
       "      <td>2</td>\n",
       "      <td>0</td>\n",
       "      <td>2</td>\n",
       "      <td>1</td>\n",
       "    </tr>\n",
       "    <tr>\n",
       "      <th>4</th>\n",
       "      <td>57</td>\n",
       "      <td>0</td>\n",
       "      <td>NaN</td>\n",
       "      <td>120</td>\n",
       "      <td>354</td>\n",
       "      <td>No</td>\n",
       "      <td>ST-T wave normality</td>\n",
       "      <td>163</td>\n",
       "      <td>Yes</td>\n",
       "      <td>0.6</td>\n",
       "      <td>2</td>\n",
       "      <td>0</td>\n",
       "      <td>2</td>\n",
       "      <td>1</td>\n",
       "    </tr>\n",
       "  </tbody>\n",
       "</table>\n",
       "</div>"
      ],
      "text/plain": [
       "   age  gender   chest_pain_type  rest_blood_pressure  cholesterol  \\\n",
       "0   63       1  Non-anginal pain                  145          233   \n",
       "1   37       1   Atypical angina                  130          250   \n",
       "2   41       0    Typical angina                  130          204   \n",
       "3   56       1    Typical angina                  120          236   \n",
       "4   57       0               NaN                  120          354   \n",
       "\n",
       "  fast_blood_sugar             rest_ecg  max_heart_rate ex_ind_ang  prev_peak  \\\n",
       "0              Yes               Normal             150         No        2.3   \n",
       "1               No  ST-T wave normality             187         No        3.5   \n",
       "2               No               Normal             172         No        1.4   \n",
       "3               No  ST-T wave normality             178         No        0.8   \n",
       "4               No  ST-T wave normality             163        Yes        0.6   \n",
       "\n",
       "   slope  vessels_num  thal_result  output  \n",
       "0      0            0            1       1  \n",
       "1      0            0            2       1  \n",
       "2      2            0            2       1  \n",
       "3      2            0            2       1  \n",
       "4      2            0            2       1  "
      ]
     },
     "execution_count": 5,
     "metadata": {},
     "output_type": "execute_result"
    }
   ],
   "source": [
    "df.head()"
   ]
  },
  {
   "cell_type": "code",
   "execution_count": 6,
   "id": "34afbe77",
   "metadata": {},
   "outputs": [
    {
     "name": "stdout",
     "output_type": "stream",
     "text": [
      "<class 'pandas.core.frame.DataFrame'>\n",
      "RangeIndex: 303 entries, 0 to 302\n",
      "Data columns (total 14 columns):\n",
      " #   Column               Non-Null Count  Dtype  \n",
      "---  ------               --------------  -----  \n",
      " 0   age                  303 non-null    int64  \n",
      " 1   gender               303 non-null    int64  \n",
      " 2   chest_pain_type      160 non-null    object \n",
      " 3   rest_blood_pressure  303 non-null    int64  \n",
      " 4   cholesterol          303 non-null    int64  \n",
      " 5   fast_blood_sugar     303 non-null    object \n",
      " 6   rest_ecg             303 non-null    object \n",
      " 7   max_heart_rate       303 non-null    int64  \n",
      " 8   ex_ind_ang           303 non-null    object \n",
      " 9   prev_peak            303 non-null    float64\n",
      " 10  slope                303 non-null    int64  \n",
      " 11  vessels_num          303 non-null    int64  \n",
      " 12  thal_result          303 non-null    int64  \n",
      " 13  output               303 non-null    int64  \n",
      "dtypes: float64(1), int64(9), object(4)\n",
      "memory usage: 33.3+ KB\n"
     ]
    }
   ],
   "source": [
    "df.info()"
   ]
  },
  {
   "cell_type": "markdown",
   "id": "c8e1568b",
   "metadata": {},
   "source": [
    "### Exploratory Data Analysis"
   ]
  },
  {
   "cell_type": "code",
   "execution_count": 7,
   "id": "d3f01f5b",
   "metadata": {},
   "outputs": [
    {
     "data": {
      "text/html": [
       "<div>\n",
       "<style scoped>\n",
       "    .dataframe tbody tr th:only-of-type {\n",
       "        vertical-align: middle;\n",
       "    }\n",
       "\n",
       "    .dataframe tbody tr th {\n",
       "        vertical-align: top;\n",
       "    }\n",
       "\n",
       "    .dataframe thead th {\n",
       "        text-align: right;\n",
       "    }\n",
       "</style>\n",
       "<table border=\"1\" class=\"dataframe\">\n",
       "  <thead>\n",
       "    <tr style=\"text-align: right;\">\n",
       "      <th></th>\n",
       "      <th>age</th>\n",
       "      <th>gender</th>\n",
       "      <th>rest_blood_pressure</th>\n",
       "      <th>cholesterol</th>\n",
       "      <th>max_heart_rate</th>\n",
       "      <th>prev_peak</th>\n",
       "      <th>slope</th>\n",
       "      <th>vessels_num</th>\n",
       "      <th>thal_result</th>\n",
       "      <th>output</th>\n",
       "    </tr>\n",
       "  </thead>\n",
       "  <tbody>\n",
       "    <tr>\n",
       "      <th>count</th>\n",
       "      <td>303.000000</td>\n",
       "      <td>303.000000</td>\n",
       "      <td>303.000000</td>\n",
       "      <td>303.000000</td>\n",
       "      <td>303.000000</td>\n",
       "      <td>303.000000</td>\n",
       "      <td>303.000000</td>\n",
       "      <td>303.000000</td>\n",
       "      <td>303.000000</td>\n",
       "      <td>303.000000</td>\n",
       "    </tr>\n",
       "    <tr>\n",
       "      <th>mean</th>\n",
       "      <td>54.366337</td>\n",
       "      <td>0.683168</td>\n",
       "      <td>131.623762</td>\n",
       "      <td>246.264026</td>\n",
       "      <td>149.646865</td>\n",
       "      <td>1.039604</td>\n",
       "      <td>1.399340</td>\n",
       "      <td>0.729373</td>\n",
       "      <td>2.313531</td>\n",
       "      <td>0.544554</td>\n",
       "    </tr>\n",
       "    <tr>\n",
       "      <th>std</th>\n",
       "      <td>9.082101</td>\n",
       "      <td>0.466011</td>\n",
       "      <td>17.538143</td>\n",
       "      <td>51.830751</td>\n",
       "      <td>22.905161</td>\n",
       "      <td>1.161075</td>\n",
       "      <td>0.616226</td>\n",
       "      <td>1.022606</td>\n",
       "      <td>0.612277</td>\n",
       "      <td>0.498835</td>\n",
       "    </tr>\n",
       "    <tr>\n",
       "      <th>min</th>\n",
       "      <td>29.000000</td>\n",
       "      <td>0.000000</td>\n",
       "      <td>94.000000</td>\n",
       "      <td>126.000000</td>\n",
       "      <td>71.000000</td>\n",
       "      <td>0.000000</td>\n",
       "      <td>0.000000</td>\n",
       "      <td>0.000000</td>\n",
       "      <td>0.000000</td>\n",
       "      <td>0.000000</td>\n",
       "    </tr>\n",
       "    <tr>\n",
       "      <th>25%</th>\n",
       "      <td>47.500000</td>\n",
       "      <td>0.000000</td>\n",
       "      <td>120.000000</td>\n",
       "      <td>211.000000</td>\n",
       "      <td>133.500000</td>\n",
       "      <td>0.000000</td>\n",
       "      <td>1.000000</td>\n",
       "      <td>0.000000</td>\n",
       "      <td>2.000000</td>\n",
       "      <td>0.000000</td>\n",
       "    </tr>\n",
       "    <tr>\n",
       "      <th>50%</th>\n",
       "      <td>55.000000</td>\n",
       "      <td>1.000000</td>\n",
       "      <td>130.000000</td>\n",
       "      <td>240.000000</td>\n",
       "      <td>153.000000</td>\n",
       "      <td>0.800000</td>\n",
       "      <td>1.000000</td>\n",
       "      <td>0.000000</td>\n",
       "      <td>2.000000</td>\n",
       "      <td>1.000000</td>\n",
       "    </tr>\n",
       "    <tr>\n",
       "      <th>75%</th>\n",
       "      <td>61.000000</td>\n",
       "      <td>1.000000</td>\n",
       "      <td>140.000000</td>\n",
       "      <td>274.500000</td>\n",
       "      <td>166.000000</td>\n",
       "      <td>1.600000</td>\n",
       "      <td>2.000000</td>\n",
       "      <td>1.000000</td>\n",
       "      <td>3.000000</td>\n",
       "      <td>1.000000</td>\n",
       "    </tr>\n",
       "    <tr>\n",
       "      <th>max</th>\n",
       "      <td>77.000000</td>\n",
       "      <td>1.000000</td>\n",
       "      <td>200.000000</td>\n",
       "      <td>564.000000</td>\n",
       "      <td>202.000000</td>\n",
       "      <td>6.200000</td>\n",
       "      <td>2.000000</td>\n",
       "      <td>4.000000</td>\n",
       "      <td>3.000000</td>\n",
       "      <td>1.000000</td>\n",
       "    </tr>\n",
       "  </tbody>\n",
       "</table>\n",
       "</div>"
      ],
      "text/plain": [
       "              age      gender  rest_blood_pressure  cholesterol  \\\n",
       "count  303.000000  303.000000           303.000000   303.000000   \n",
       "mean    54.366337    0.683168           131.623762   246.264026   \n",
       "std      9.082101    0.466011            17.538143    51.830751   \n",
       "min     29.000000    0.000000            94.000000   126.000000   \n",
       "25%     47.500000    0.000000           120.000000   211.000000   \n",
       "50%     55.000000    1.000000           130.000000   240.000000   \n",
       "75%     61.000000    1.000000           140.000000   274.500000   \n",
       "max     77.000000    1.000000           200.000000   564.000000   \n",
       "\n",
       "       max_heart_rate   prev_peak       slope  vessels_num  thal_result  \\\n",
       "count      303.000000  303.000000  303.000000   303.000000   303.000000   \n",
       "mean       149.646865    1.039604    1.399340     0.729373     2.313531   \n",
       "std         22.905161    1.161075    0.616226     1.022606     0.612277   \n",
       "min         71.000000    0.000000    0.000000     0.000000     0.000000   \n",
       "25%        133.500000    0.000000    1.000000     0.000000     2.000000   \n",
       "50%        153.000000    0.800000    1.000000     0.000000     2.000000   \n",
       "75%        166.000000    1.600000    2.000000     1.000000     3.000000   \n",
       "max        202.000000    6.200000    2.000000     4.000000     3.000000   \n",
       "\n",
       "           output  \n",
       "count  303.000000  \n",
       "mean     0.544554  \n",
       "std      0.498835  \n",
       "min      0.000000  \n",
       "25%      0.000000  \n",
       "50%      1.000000  \n",
       "75%      1.000000  \n",
       "max      1.000000  "
      ]
     },
     "execution_count": 7,
     "metadata": {},
     "output_type": "execute_result"
    }
   ],
   "source": [
    "df.describe()"
   ]
  },
  {
   "cell_type": "markdown",
   "id": "21665460",
   "metadata": {},
   "source": [
    "### Target variable - Frequency table"
   ]
  },
  {
   "cell_type": "code",
   "execution_count": 8,
   "id": "93197ebe",
   "metadata": {},
   "outputs": [
    {
     "data": {
      "text/plain": [
       "1    165\n",
       "0    138\n",
       "Name: output, dtype: int64"
      ]
     },
     "execution_count": 8,
     "metadata": {},
     "output_type": "execute_result"
    }
   ],
   "source": [
    "df[\"output\"].value_counts()"
   ]
  },
  {
   "cell_type": "markdown",
   "id": "3cfc36f2",
   "metadata": {},
   "source": [
    "### we have nearly equal proportions of the target variable . Hence the dataset is Balanced dataset"
   ]
  },
  {
   "cell_type": "code",
   "execution_count": 9,
   "id": "dc078d4f",
   "metadata": {},
   "outputs": [
    {
     "data": {
      "text/plain": [
       "1    54.455446\n",
       "0    45.544554\n",
       "Name: output, dtype: float64"
      ]
     },
     "execution_count": 9,
     "metadata": {},
     "output_type": "execute_result"
    }
   ],
   "source": [
    "df[\"output\"].value_counts(1)*100"
   ]
  },
  {
   "cell_type": "markdown",
   "id": "6e82879f",
   "metadata": {},
   "source": [
    "###  Visualization of the target variable proportions in the Dataset"
   ]
  },
  {
   "cell_type": "code",
   "execution_count": 10,
   "id": "958ab6f5",
   "metadata": {},
   "outputs": [
    {
     "data": {
      "image/png": "[encoded data removed]",
      "text/plain": [
       "<Figure size 432x288 with 1 Axes>"
      ]
     },
     "metadata": {
      "needs_background": "light"
     },
     "output_type": "display_data"
    }
   ],
   "source": [
    "ax = sns.countplot(y=\"output\",data=df)\n",
    "total = len(df['output'])\n",
    "for p in ax.patches:\n",
    "        percentage = '{:.1f}%'.format(100 * p.get_width()/total)\n",
    "        x = p.get_x() + p.get_width() + 0.02\n",
    "        y = p.get_y() + p.get_height()/2\n",
    "        ax.annotate(percentage, (x, y))\n",
    "\n",
    "plt.show()"
   ]
  },
  {
   "cell_type": "markdown",
   "id": "b587f68e",
   "metadata": {},
   "source": [
    "### Columnwise # of null values in the data - only chest pain type column (chest_pain_type) has null values"
   ]
  },
  {
   "cell_type": "code",
   "execution_count": 11,
   "id": "a297a67c",
   "metadata": {},
   "outputs": [
    {
     "data": {
      "text/plain": [
       "age                      0\n",
       "gender                   0\n",
       "chest_pain_type        143\n",
       "rest_blood_pressure      0\n",
       "cholesterol              0\n",
       "fast_blood_sugar         0\n",
       "rest_ecg                 0\n",
       "max_heart_rate           0\n",
       "ex_ind_ang               0\n",
       "prev_peak                0\n",
       "slope                    0\n",
       "vessels_num              0\n",
       "thal_result              0\n",
       "output                   0\n",
       "dtype: int64"
      ]
     },
     "execution_count": 11,
     "metadata": {},
     "output_type": "execute_result"
    }
   ],
   "source": [
    "df.isnull().sum()"
   ]
  },
  {
   "cell_type": "markdown",
   "id": "471be5b2",
   "metadata": {},
   "source": [
    "## Univariate analysis on categorical variables"
   ]
  },
  {
   "cell_type": "markdown",
   "id": "f1a114c9",
   "metadata": {},
   "source": [
    "### chest_pain_type"
   ]
  },
  {
   "cell_type": "code",
   "execution_count": 12,
   "id": "909ca2ee",
   "metadata": {},
   "outputs": [
    {
     "data": {
      "text/plain": [
       "NaN                 143\n",
       "Atypical angina      87\n",
       "Typical angina       50\n",
       "Non-anginal pain     23\n",
       "Name: chest_pain_type, dtype: int64"
      ]
     },
     "execution_count": 12,
     "metadata": {},
     "output_type": "execute_result"
    }
   ],
   "source": [
    "df[\"chest_pain_type\"].value_counts(dropna=False)"
   ]
  },
  {
   "cell_type": "markdown",
   "id": "62a75fa7",
   "metadata": {},
   "source": [
    "### ~47% null values presented in the chest_pain_type  "
   ]
  },
  {
   "cell_type": "code",
   "execution_count": 13,
   "id": "53b05e0f",
   "metadata": {},
   "outputs": [
    {
     "data": {
      "text/plain": [
       "NaN                 47.194719\n",
       "Atypical angina     28.712871\n",
       "Typical angina      16.501650\n",
       "Non-anginal pain     7.590759\n",
       "Name: chest_pain_type, dtype: float64"
      ]
     },
     "execution_count": 13,
     "metadata": {},
     "output_type": "execute_result"
    }
   ],
   "source": [
    "df[\"chest_pain_type\"].value_counts(1, dropna=False)*100"
   ]
  },
  {
   "cell_type": "code",
   "execution_count": 14,
   "id": "e13df37e",
   "metadata": {},
   "outputs": [
    {
     "data": {
      "image/png": "[encoded data removed]",
      "text/plain": [
       "<Figure size 432x288 with 1 Axes>"
      ]
     },
     "metadata": {
      "needs_background": "light"
     },
     "output_type": "display_data"
    }
   ],
   "source": [
    "#sns.countplot(x=df[\"chest_pain_type\"].fillna(\"NA\"), color=sns.color_palette()[0]);\n",
    "df[\"chest_pain_type\"]=df[\"chest_pain_type\"].fillna(\"NA\")\n",
    "ax = sns.countplot(y=\"chest_pain_type\",data=df)\n",
    "total = len(df['chest_pain_type'])\n",
    "for p in ax.patches:\n",
    "        percentage = '{:.1f}%'.format(100 * p.get_width()/total)\n",
    "        x = p.get_x() + p.get_width() + 0.02\n",
    "        y = p.get_y() + p.get_height()/2\n",
    "        ax.annotate(percentage, (x, y))\n",
    "\n",
    "plt.show()"
   ]
  },
  {
   "cell_type": "markdown",
   "id": "6e42416e",
   "metadata": {},
   "source": [
    "### rest_ecg"
   ]
  },
  {
   "cell_type": "code",
   "execution_count": 15,
   "id": "7f96f8db",
   "metadata": {},
   "outputs": [
    {
     "data": {
      "text/plain": [
       "ST-T wave normality             152\n",
       "Normal                          147\n",
       "Left ventricular hypertrophy      4\n",
       "Name: rest_ecg, dtype: int64"
      ]
     },
     "execution_count": 15,
     "metadata": {},
     "output_type": "execute_result"
    }
   ],
   "source": [
    "df[\"rest_ecg\"].value_counts(dropna=False)"
   ]
  },
  {
   "cell_type": "markdown",
   "id": "100469ea",
   "metadata": {},
   "source": [
    "### Left ventricular hypertrophy is a very low frequent category (~1.3%) in rest_ecg column"
   ]
  },
  {
   "cell_type": "code",
   "execution_count": 16,
   "id": "db12a1f5",
   "metadata": {},
   "outputs": [
    {
     "data": {
      "text/plain": [
       "ST-T wave normality             50.165017\n",
       "Normal                          48.514851\n",
       "Left ventricular hypertrophy     1.320132\n",
       "Name: rest_ecg, dtype: float64"
      ]
     },
     "execution_count": 16,
     "metadata": {},
     "output_type": "execute_result"
    }
   ],
   "source": [
    "df[\"rest_ecg\"].value_counts(1, dropna=False)*100"
   ]
  },
  {
   "cell_type": "code",
   "execution_count": 17,
   "id": "ee68408e",
   "metadata": {},
   "outputs": [
    {
     "data": {
      "image/png": "[encoded data removed]",
      "text/plain": [
       "<Figure size 432x288 with 1 Axes>"
      ]
     },
     "metadata": {
      "needs_background": "light"
     },
     "output_type": "display_data"
    }
   ],
   "source": [
    "ax = sns.countplot(y=\"rest_ecg\",data=df)\n",
    "total = len(df['rest_ecg'])\n",
    "for p in ax.patches:\n",
    "        percentage = '{:.1f}%'.format(100 * p.get_width()/total)\n",
    "        x = p.get_x() + p.get_width() + 0.02\n",
    "        y = p.get_y() + p.get_height()/2\n",
    "        ax.annotate(percentage, (x, y))\n",
    "\n",
    "plt.show()"
   ]
  },
  {
   "cell_type": "markdown",
   "id": "33aae363",
   "metadata": {},
   "source": [
    "### ex_ind_ang"
   ]
  },
  {
   "cell_type": "code",
   "execution_count": 18,
   "id": "61917c72",
   "metadata": {
    "scrolled": true
   },
   "outputs": [
    {
     "data": {
      "text/plain": [
       "No     204\n",
       "Yes     99\n",
       "Name: ex_ind_ang, dtype: int64"
      ]
     },
     "execution_count": 18,
     "metadata": {},
     "output_type": "execute_result"
    }
   ],
   "source": [
    "df[\"ex_ind_ang\"].value_counts(dropna=False)"
   ]
  },
  {
   "cell_type": "markdown",
   "id": "2ed5a96c",
   "metadata": {},
   "source": [
    "### Most of the patients (~67%) don't have exercise induced angina"
   ]
  },
  {
   "cell_type": "code",
   "execution_count": 19,
   "id": "68bc3342",
   "metadata": {},
   "outputs": [
    {
     "data": {
      "text/plain": [
       "No     67.326733\n",
       "Yes    32.673267\n",
       "Name: ex_ind_ang, dtype: float64"
      ]
     },
     "execution_count": 19,
     "metadata": {},
     "output_type": "execute_result"
    }
   ],
   "source": [
    "df[\"ex_ind_ang\"].value_counts(1, dropna=False)*100"
   ]
  },
  {
   "cell_type": "code",
   "execution_count": 20,
   "id": "913ee70f",
   "metadata": {},
   "outputs": [
    {
     "data": {
      "image/png": "[encoded data removed]",
      "text/plain": [
       "<Figure size 432x288 with 1 Axes>"
      ]
     },
     "metadata": {
      "needs_background": "light"
     },
     "output_type": "display_data"
    }
   ],
   "source": [
    "sns.countplot(x=\"ex_ind_ang\",data=df, color=sns.color_palette()[0]);"
   ]
  },
  {
   "cell_type": "code",
   "execution_count": 21,
   "id": "93891313",
   "metadata": {},
   "outputs": [
    {
     "data": {
      "image/png": "[encoded data removed]",
      "text/plain": [
       "<Figure size 432x288 with 1 Axes>"
      ]
     },
     "metadata": {
      "needs_background": "light"
     },
     "output_type": "display_data"
    }
   ],
   "source": [
    "ax = sns.countplot(y=\"ex_ind_ang\",data=df)\n",
    "total = len(df['ex_ind_ang'])\n",
    "for p in ax.patches:\n",
    "        percentage = '{:.1f}%'.format(100 * p.get_width()/total)\n",
    "        x = p.get_x() + p.get_width() + 0.02\n",
    "        y = p.get_y() + p.get_height()/2\n",
    "        ax.annotate(percentage, (x, y))\n",
    "\n",
    "plt.show()"
   ]
  },
  {
   "cell_type": "markdown",
   "id": "d1f4d239",
   "metadata": {},
   "source": [
    "### gender"
   ]
  },
  {
   "cell_type": "code",
   "execution_count": 22,
   "id": "ce81759e",
   "metadata": {},
   "outputs": [
    {
     "data": {
      "text/plain": [
       "1    207\n",
       "0     96\n",
       "Name: gender, dtype: int64"
      ]
     },
     "execution_count": 22,
     "metadata": {},
     "output_type": "execute_result"
    }
   ],
   "source": [
    "df[\"gender\"].value_counts(dropna=False)"
   ]
  },
  {
   "cell_type": "code",
   "execution_count": 23,
   "id": "aac377e2",
   "metadata": {},
   "outputs": [
    {
     "data": {
      "text/plain": [
       "1    68.316832\n",
       "0    31.683168\n",
       "Name: gender, dtype: float64"
      ]
     },
     "execution_count": 23,
     "metadata": {},
     "output_type": "execute_result"
    }
   ],
   "source": [
    "df[\"gender\"].value_counts(1, dropna=False)*100"
   ]
  },
  {
   "cell_type": "code",
   "execution_count": 24,
   "id": "515c1b69",
   "metadata": {},
   "outputs": [
    {
     "data": {
      "image/png": "[encoded data removed]",
      "text/plain": [
       "<Figure size 432x288 with 1 Axes>"
      ]
     },
     "metadata": {
      "needs_background": "light"
     },
     "output_type": "display_data"
    }
   ],
   "source": [
    "sns.countplot(x=\"gender\",data=df, color=sns.color_palette()[0]);"
   ]
  },
  {
   "cell_type": "code",
   "execution_count": 25,
   "id": "195e05be",
   "metadata": {},
   "outputs": [
    {
     "data": {
      "image/png": "[encoded data removed]",
      "text/plain": [
       "<Figure size 432x288 with 1 Axes>"
      ]
     },
     "metadata": {
      "needs_background": "light"
     },
     "output_type": "display_data"
    }
   ],
   "source": [
    "ax = sns.countplot(y=\"gender\",data=df)\n",
    "total = len(df['gender'])\n",
    "for p in ax.patches:\n",
    "        percentage = '{:.1f}%'.format(100 * p.get_width()/total)\n",
    "        x = p.get_x() + p.get_width() + 0.02\n",
    "        y = p.get_y() + p.get_height()/2\n",
    "        ax.annotate(percentage, (x, y))\n",
    "\n",
    "plt.show()"
   ]
  },
  {
   "cell_type": "markdown",
   "id": "1de65b25",
   "metadata": {},
   "source": [
    "### fast_blood_sugar"
   ]
  },
  {
   "cell_type": "code",
   "execution_count": 26,
   "id": "2cbbd464",
   "metadata": {},
   "outputs": [
    {
     "data": {
      "text/plain": [
       "No     258\n",
       "Yes     45\n",
       "Name: fast_blood_sugar, dtype: int64"
      ]
     },
     "execution_count": 26,
     "metadata": {},
     "output_type": "execute_result"
    }
   ],
   "source": [
    "df[\"fast_blood_sugar\"].value_counts()"
   ]
  },
  {
   "cell_type": "markdown",
   "id": "980e4ba2",
   "metadata": {},
   "source": [
    "### Very few patients have fasting blood sugar"
   ]
  },
  {
   "cell_type": "code",
   "execution_count": 27,
   "id": "5e917702",
   "metadata": {},
   "outputs": [
    {
     "data": {
      "text/plain": [
       "No     85.148515\n",
       "Yes    14.851485\n",
       "Name: fast_blood_sugar, dtype: float64"
      ]
     },
     "execution_count": 27,
     "metadata": {},
     "output_type": "execute_result"
    }
   ],
   "source": [
    "df[\"fast_blood_sugar\"].value_counts(1, dropna=False)*100"
   ]
  },
  {
   "cell_type": "code",
   "execution_count": 28,
   "id": "7bcbda62",
   "metadata": {},
   "outputs": [
    {
     "data": {
      "image/png": "[encoded data removed]",
      "text/plain": [
       "<Figure size 432x288 with 1 Axes>"
      ]
     },
     "metadata": {
      "needs_background": "light"
     },
     "output_type": "display_data"
    }
   ],
   "source": [
    "sns.countplot(x=\"fast_blood_sugar\",data=df, color=sns.color_palette()[0]);"
   ]
  },
  {
   "cell_type": "code",
   "execution_count": 29,
   "id": "88eea499",
   "metadata": {},
   "outputs": [
    {
     "data": {
      "image/png": "[encoded data removed]",
      "text/plain": [
       "<Figure size 432x288 with 1 Axes>"
      ]
     },
     "metadata": {
      "needs_background": "light"
     },
     "output_type": "display_data"
    }
   ],
   "source": [
    "ax = sns.countplot(y=\"fast_blood_sugar\",data=df)\n",
    "total = len(df['fast_blood_sugar'])\n",
    "for p in ax.patches:\n",
    "        percentage = '{:.1f}%'.format(100 * p.get_width()/total)\n",
    "        x = p.get_x() + p.get_width() + 0.02\n",
    "        y = p.get_y() + p.get_height()/2\n",
    "        ax.annotate(percentage, (x, y))\n",
    "\n",
    "plt.show()"
   ]
  },
  {
   "cell_type": "markdown",
   "id": "9c5c3c53",
   "metadata": {},
   "source": [
    "### Bi-variate analysis between each categorical variable/feature and target variable"
   ]
  },
  {
   "cell_type": "markdown",
   "id": "f1f93589",
   "metadata": {},
   "source": [
    "### chest_pain_type - output/heart attack"
   ]
  },
  {
   "cell_type": "code",
   "execution_count": 30,
   "id": "fabe3208",
   "metadata": {},
   "outputs": [
    {
     "data": {
      "text/html": [
       "<div>\n",
       "<style scoped>\n",
       "    .dataframe tbody tr th:only-of-type {\n",
       "        vertical-align: middle;\n",
       "    }\n",
       "\n",
       "    .dataframe tbody tr th {\n",
       "        vertical-align: top;\n",
       "    }\n",
       "\n",
       "    .dataframe thead th {\n",
       "        text-align: right;\n",
       "    }\n",
       "</style>\n",
       "<table border=\"1\" class=\"dataframe\">\n",
       "  <thead>\n",
       "    <tr style=\"text-align: right;\">\n",
       "      <th>output</th>\n",
       "      <th>0</th>\n",
       "      <th>1</th>\n",
       "      <th>All</th>\n",
       "    </tr>\n",
       "    <tr>\n",
       "      <th>chest_pain_type</th>\n",
       "      <th></th>\n",
       "      <th></th>\n",
       "      <th></th>\n",
       "    </tr>\n",
       "  </thead>\n",
       "  <tbody>\n",
       "    <tr>\n",
       "      <th>Atypical angina</th>\n",
       "      <td>18</td>\n",
       "      <td>69</td>\n",
       "      <td>87</td>\n",
       "    </tr>\n",
       "    <tr>\n",
       "      <th>NA</th>\n",
       "      <td>104</td>\n",
       "      <td>39</td>\n",
       "      <td>143</td>\n",
       "    </tr>\n",
       "    <tr>\n",
       "      <th>Non-anginal pain</th>\n",
       "      <td>7</td>\n",
       "      <td>16</td>\n",
       "      <td>23</td>\n",
       "    </tr>\n",
       "    <tr>\n",
       "      <th>Typical angina</th>\n",
       "      <td>9</td>\n",
       "      <td>41</td>\n",
       "      <td>50</td>\n",
       "    </tr>\n",
       "    <tr>\n",
       "      <th>All</th>\n",
       "      <td>138</td>\n",
       "      <td>165</td>\n",
       "      <td>303</td>\n",
       "    </tr>\n",
       "  </tbody>\n",
       "</table>\n",
       "</div>"
      ],
      "text/plain": [
       "output              0    1  All\n",
       "chest_pain_type                \n",
       "Atypical angina    18   69   87\n",
       "NA                104   39  143\n",
       "Non-anginal pain    7   16   23\n",
       "Typical angina      9   41   50\n",
       "All               138  165  303"
      ]
     },
     "execution_count": 30,
     "metadata": {},
     "output_type": "execute_result"
    }
   ],
   "source": [
    "pd.crosstab(df[\"chest_pain_type\"].fillna(\"NA\"), df[\"output\"], margins=2)"
   ]
  },
  {
   "cell_type": "markdown",
   "id": "d41535f4",
   "metadata": {},
   "source": [
    "###  patients with angina problems (atypical/typical) has high chance of heart attack"
   ]
  },
  {
   "cell_type": "code",
   "execution_count": 31,
   "id": "b95f67d4",
   "metadata": {},
   "outputs": [
    {
     "data": {
      "text/html": [
       "<div>\n",
       "<style scoped>\n",
       "    .dataframe tbody tr th:only-of-type {\n",
       "        vertical-align: middle;\n",
       "    }\n",
       "\n",
       "    .dataframe tbody tr th {\n",
       "        vertical-align: top;\n",
       "    }\n",
       "\n",
       "    .dataframe thead th {\n",
       "        text-align: right;\n",
       "    }\n",
       "</style>\n",
       "<table border=\"1\" class=\"dataframe\">\n",
       "  <thead>\n",
       "    <tr style=\"text-align: right;\">\n",
       "      <th>output</th>\n",
       "      <th>0</th>\n",
       "      <th>1</th>\n",
       "    </tr>\n",
       "    <tr>\n",
       "      <th>chest_pain_type</th>\n",
       "      <th></th>\n",
       "      <th></th>\n",
       "    </tr>\n",
       "  </thead>\n",
       "  <tbody>\n",
       "    <tr>\n",
       "      <th>Atypical angina</th>\n",
       "      <td>0.206897</td>\n",
       "      <td>0.793103</td>\n",
       "    </tr>\n",
       "    <tr>\n",
       "      <th>NA</th>\n",
       "      <td>0.727273</td>\n",
       "      <td>0.272727</td>\n",
       "    </tr>\n",
       "    <tr>\n",
       "      <th>Non-anginal pain</th>\n",
       "      <td>0.304348</td>\n",
       "      <td>0.695652</td>\n",
       "    </tr>\n",
       "    <tr>\n",
       "      <th>Typical angina</th>\n",
       "      <td>0.180000</td>\n",
       "      <td>0.820000</td>\n",
       "    </tr>\n",
       "  </tbody>\n",
       "</table>\n",
       "</div>"
      ],
      "text/plain": [
       "output                   0         1\n",
       "chest_pain_type                     \n",
       "Atypical angina   0.206897  0.793103\n",
       "NA                0.727273  0.272727\n",
       "Non-anginal pain  0.304348  0.695652\n",
       "Typical angina    0.180000  0.820000"
      ]
     },
     "execution_count": 31,
     "metadata": {},
     "output_type": "execute_result"
    }
   ],
   "source": [
    "pd.crosstab(df[\"chest_pain_type\"].fillna(\"NA\"), df[\"output\"], normalize=\"index\")"
   ]
  },
  {
   "cell_type": "code",
   "execution_count": 32,
   "id": "1e82bd8e",
   "metadata": {},
   "outputs": [
    {
     "data": {
      "image/png": "[encoded data removed]",
      "text/plain": [
       "<Figure size 432x288 with 1 Axes>"
      ]
     },
     "metadata": {
      "needs_background": "light"
     },
     "output_type": "display_data"
    }
   ],
   "source": [
    "ct=pd.crosstab(df[\"chest_pain_type\"].fillna(\"NA\"), df[\"output\"], normalize=\"index\")\n",
    "ax=ct.plot.bar()"
   ]
  },
  {
   "cell_type": "markdown",
   "id": "26604ac0",
   "metadata": {},
   "source": [
    "### rest_ecg - output/heart attack"
   ]
  },
  {
   "cell_type": "code",
   "execution_count": 33,
   "id": "f917c952",
   "metadata": {},
   "outputs": [
    {
     "data": {
      "text/html": [
       "<div>\n",
       "<style scoped>\n",
       "    .dataframe tbody tr th:only-of-type {\n",
       "        vertical-align: middle;\n",
       "    }\n",
       "\n",
       "    .dataframe tbody tr th {\n",
       "        vertical-align: top;\n",
       "    }\n",
       "\n",
       "    .dataframe thead th {\n",
       "        text-align: right;\n",
       "    }\n",
       "</style>\n",
       "<table border=\"1\" class=\"dataframe\">\n",
       "  <thead>\n",
       "    <tr style=\"text-align: right;\">\n",
       "      <th>output</th>\n",
       "      <th>0</th>\n",
       "      <th>1</th>\n",
       "      <th>All</th>\n",
       "    </tr>\n",
       "    <tr>\n",
       "      <th>rest_ecg</th>\n",
       "      <th></th>\n",
       "      <th></th>\n",
       "      <th></th>\n",
       "    </tr>\n",
       "  </thead>\n",
       "  <tbody>\n",
       "    <tr>\n",
       "      <th>Left ventricular hypertrophy</th>\n",
       "      <td>3</td>\n",
       "      <td>1</td>\n",
       "      <td>4</td>\n",
       "    </tr>\n",
       "    <tr>\n",
       "      <th>Normal</th>\n",
       "      <td>79</td>\n",
       "      <td>68</td>\n",
       "      <td>147</td>\n",
       "    </tr>\n",
       "    <tr>\n",
       "      <th>ST-T wave normality</th>\n",
       "      <td>56</td>\n",
       "      <td>96</td>\n",
       "      <td>152</td>\n",
       "    </tr>\n",
       "    <tr>\n",
       "      <th>All</th>\n",
       "      <td>138</td>\n",
       "      <td>165</td>\n",
       "      <td>303</td>\n",
       "    </tr>\n",
       "  </tbody>\n",
       "</table>\n",
       "</div>"
      ],
      "text/plain": [
       "output                          0    1  All\n",
       "rest_ecg                                   \n",
       "Left ventricular hypertrophy    3    1    4\n",
       "Normal                         79   68  147\n",
       "ST-T wave normality            56   96  152\n",
       "All                           138  165  303"
      ]
     },
     "execution_count": 33,
     "metadata": {},
     "output_type": "execute_result"
    }
   ],
   "source": [
    "pd.crosstab(df[\"rest_ecg\"], df[\"output\"], margins=2)"
   ]
  },
  {
   "cell_type": "markdown",
   "id": "5081b043",
   "metadata": {},
   "source": [
    "### patients ecg results with ST-T wave normality has high chance of heart attack"
   ]
  },
  {
   "cell_type": "code",
   "execution_count": 34,
   "id": "9de31641",
   "metadata": {},
   "outputs": [
    {
     "data": {
      "text/html": [
       "<div>\n",
       "<style scoped>\n",
       "    .dataframe tbody tr th:only-of-type {\n",
       "        vertical-align: middle;\n",
       "    }\n",
       "\n",
       "    .dataframe tbody tr th {\n",
       "        vertical-align: top;\n",
       "    }\n",
       "\n",
       "    .dataframe thead th {\n",
       "        text-align: right;\n",
       "    }\n",
       "</style>\n",
       "<table border=\"1\" class=\"dataframe\">\n",
       "  <thead>\n",
       "    <tr style=\"text-align: right;\">\n",
       "      <th>output</th>\n",
       "      <th>0</th>\n",
       "      <th>1</th>\n",
       "    </tr>\n",
       "    <tr>\n",
       "      <th>rest_ecg</th>\n",
       "      <th></th>\n",
       "      <th></th>\n",
       "    </tr>\n",
       "  </thead>\n",
       "  <tbody>\n",
       "    <tr>\n",
       "      <th>Left ventricular hypertrophy</th>\n",
       "      <td>0.750000</td>\n",
       "      <td>0.250000</td>\n",
       "    </tr>\n",
       "    <tr>\n",
       "      <th>Normal</th>\n",
       "      <td>0.537415</td>\n",
       "      <td>0.462585</td>\n",
       "    </tr>\n",
       "    <tr>\n",
       "      <th>ST-T wave normality</th>\n",
       "      <td>0.368421</td>\n",
       "      <td>0.631579</td>\n",
       "    </tr>\n",
       "  </tbody>\n",
       "</table>\n",
       "</div>"
      ],
      "text/plain": [
       "output                               0         1\n",
       "rest_ecg                                        \n",
       "Left ventricular hypertrophy  0.750000  0.250000\n",
       "Normal                        0.537415  0.462585\n",
       "ST-T wave normality           0.368421  0.631579"
      ]
     },
     "execution_count": 34,
     "metadata": {},
     "output_type": "execute_result"
    }
   ],
   "source": [
    "pd.crosstab(df[\"rest_ecg\"], df[\"output\"], normalize=\"index\")"
   ]
  },
  {
   "cell_type": "code",
   "execution_count": 35,
   "id": "25b0cfe6",
   "metadata": {},
   "outputs": [
    {
     "data": {
      "image/png": "[encoded data removed]",
      "text/plain": [
       "<Figure size 432x288 with 1 Axes>"
      ]
     },
     "metadata": {
      "needs_background": "light"
     },
     "output_type": "display_data"
    }
   ],
   "source": [
    "ct=pd.crosstab(df[\"rest_ecg\"].fillna(\"NA\"), df[\"output\"], normalize=\"index\")\n",
    "ax=ct.plot.bar()"
   ]
  },
  {
   "cell_type": "markdown",
   "id": "926c63d9",
   "metadata": {},
   "source": [
    "### ex_ind_ang - output/heart attack"
   ]
  },
  {
   "cell_type": "code",
   "execution_count": 36,
   "id": "6246c19a",
   "metadata": {},
   "outputs": [
    {
     "data": {
      "text/html": [
       "<div>\n",
       "<style scoped>\n",
       "    .dataframe tbody tr th:only-of-type {\n",
       "        vertical-align: middle;\n",
       "    }\n",
       "\n",
       "    .dataframe tbody tr th {\n",
       "        vertical-align: top;\n",
       "    }\n",
       "\n",
       "    .dataframe thead th {\n",
       "        text-align: right;\n",
       "    }\n",
       "</style>\n",
       "<table border=\"1\" class=\"dataframe\">\n",
       "  <thead>\n",
       "    <tr style=\"text-align: right;\">\n",
       "      <th>output</th>\n",
       "      <th>0</th>\n",
       "      <th>1</th>\n",
       "      <th>All</th>\n",
       "    </tr>\n",
       "    <tr>\n",
       "      <th>ex_ind_ang</th>\n",
       "      <th></th>\n",
       "      <th></th>\n",
       "      <th></th>\n",
       "    </tr>\n",
       "  </thead>\n",
       "  <tbody>\n",
       "    <tr>\n",
       "      <th>No</th>\n",
       "      <td>62</td>\n",
       "      <td>142</td>\n",
       "      <td>204</td>\n",
       "    </tr>\n",
       "    <tr>\n",
       "      <th>Yes</th>\n",
       "      <td>76</td>\n",
       "      <td>23</td>\n",
       "      <td>99</td>\n",
       "    </tr>\n",
       "    <tr>\n",
       "      <th>All</th>\n",
       "      <td>138</td>\n",
       "      <td>165</td>\n",
       "      <td>303</td>\n",
       "    </tr>\n",
       "  </tbody>\n",
       "</table>\n",
       "</div>"
      ],
      "text/plain": [
       "output        0    1  All\n",
       "ex_ind_ang               \n",
       "No           62  142  204\n",
       "Yes          76   23   99\n",
       "All         138  165  303"
      ]
     },
     "execution_count": 36,
     "metadata": {},
     "output_type": "execute_result"
    }
   ],
   "source": [
    "pd.crosstab(df[\"ex_ind_ang\"], df[\"output\"], margins=2)"
   ]
  },
  {
   "cell_type": "markdown",
   "id": "d24a0428",
   "metadata": {},
   "source": [
    "### patients don't have exercise induced angina has high chance of heart attack"
   ]
  },
  {
   "cell_type": "code",
   "execution_count": 37,
   "id": "c1dd8abd",
   "metadata": {},
   "outputs": [
    {
     "data": {
      "text/html": [
       "<div>\n",
       "<style scoped>\n",
       "    .dataframe tbody tr th:only-of-type {\n",
       "        vertical-align: middle;\n",
       "    }\n",
       "\n",
       "    .dataframe tbody tr th {\n",
       "        vertical-align: top;\n",
       "    }\n",
       "\n",
       "    .dataframe thead th {\n",
       "        text-align: right;\n",
       "    }\n",
       "</style>\n",
       "<table border=\"1\" class=\"dataframe\">\n",
       "  <thead>\n",
       "    <tr style=\"text-align: right;\">\n",
       "      <th>output</th>\n",
       "      <th>0</th>\n",
       "      <th>1</th>\n",
       "    </tr>\n",
       "    <tr>\n",
       "      <th>ex_ind_ang</th>\n",
       "      <th></th>\n",
       "      <th></th>\n",
       "    </tr>\n",
       "  </thead>\n",
       "  <tbody>\n",
       "    <tr>\n",
       "      <th>No</th>\n",
       "      <td>0.303922</td>\n",
       "      <td>0.696078</td>\n",
       "    </tr>\n",
       "    <tr>\n",
       "      <th>Yes</th>\n",
       "      <td>0.767677</td>\n",
       "      <td>0.232323</td>\n",
       "    </tr>\n",
       "  </tbody>\n",
       "</table>\n",
       "</div>"
      ],
      "text/plain": [
       "output             0         1\n",
       "ex_ind_ang                    \n",
       "No          0.303922  0.696078\n",
       "Yes         0.767677  0.232323"
      ]
     },
     "execution_count": 37,
     "metadata": {},
     "output_type": "execute_result"
    }
   ],
   "source": [
    "pd.crosstab(df[\"ex_ind_ang\"], df[\"output\"], normalize=\"index\")"
   ]
  },
  {
   "cell_type": "code",
   "execution_count": 38,
   "id": "df208077",
   "metadata": {},
   "outputs": [
    {
     "data": {
      "image/png": "[encoded data removed]",
      "text/plain": [
       "<Figure size 432x288 with 1 Axes>"
      ]
     },
     "metadata": {
      "needs_background": "light"
     },
     "output_type": "display_data"
    }
   ],
   "source": [
    "ct=pd.crosstab(df[\"ex_ind_ang\"].fillna(\"NA\"), df[\"output\"], normalize=\"index\")\n",
    "ax=ct.plot.bar()"
   ]
  },
  {
   "cell_type": "markdown",
   "id": "62251c1a",
   "metadata": {},
   "source": [
    "### gender - output/heart attack"
   ]
  },
  {
   "cell_type": "code",
   "execution_count": 39,
   "id": "fc6b692a",
   "metadata": {},
   "outputs": [
    {
     "data": {
      "text/html": [
       "<div>\n",
       "<style scoped>\n",
       "    .dataframe tbody tr th:only-of-type {\n",
       "        vertical-align: middle;\n",
       "    }\n",
       "\n",
       "    .dataframe tbody tr th {\n",
       "        vertical-align: top;\n",
       "    }\n",
       "\n",
       "    .dataframe thead th {\n",
       "        text-align: right;\n",
       "    }\n",
       "</style>\n",
       "<table border=\"1\" class=\"dataframe\">\n",
       "  <thead>\n",
       "    <tr style=\"text-align: right;\">\n",
       "      <th>output</th>\n",
       "      <th>0</th>\n",
       "      <th>1</th>\n",
       "      <th>All</th>\n",
       "    </tr>\n",
       "    <tr>\n",
       "      <th>gender</th>\n",
       "      <th></th>\n",
       "      <th></th>\n",
       "      <th></th>\n",
       "    </tr>\n",
       "  </thead>\n",
       "  <tbody>\n",
       "    <tr>\n",
       "      <th>0</th>\n",
       "      <td>24</td>\n",
       "      <td>72</td>\n",
       "      <td>96</td>\n",
       "    </tr>\n",
       "    <tr>\n",
       "      <th>1</th>\n",
       "      <td>114</td>\n",
       "      <td>93</td>\n",
       "      <td>207</td>\n",
       "    </tr>\n",
       "    <tr>\n",
       "      <th>All</th>\n",
       "      <td>138</td>\n",
       "      <td>165</td>\n",
       "      <td>303</td>\n",
       "    </tr>\n",
       "  </tbody>\n",
       "</table>\n",
       "</div>"
      ],
      "text/plain": [
       "output    0    1  All\n",
       "gender               \n",
       "0        24   72   96\n",
       "1       114   93  207\n",
       "All     138  165  303"
      ]
     },
     "execution_count": 39,
     "metadata": {},
     "output_type": "execute_result"
    }
   ],
   "source": [
    "pd.crosstab(df[\"gender\"], df[\"output\"], margins=2)"
   ]
  },
  {
   "cell_type": "markdown",
   "id": "eca4734d",
   "metadata": {},
   "source": [
    "### gender with 0 category have high chance of heart attack "
   ]
  },
  {
   "cell_type": "code",
   "execution_count": 40,
   "id": "fc6e0418",
   "metadata": {},
   "outputs": [
    {
     "data": {
      "text/html": [
       "<div>\n",
       "<style scoped>\n",
       "    .dataframe tbody tr th:only-of-type {\n",
       "        vertical-align: middle;\n",
       "    }\n",
       "\n",
       "    .dataframe tbody tr th {\n",
       "        vertical-align: top;\n",
       "    }\n",
       "\n",
       "    .dataframe thead th {\n",
       "        text-align: right;\n",
       "    }\n",
       "</style>\n",
       "<table border=\"1\" class=\"dataframe\">\n",
       "  <thead>\n",
       "    <tr style=\"text-align: right;\">\n",
       "      <th>output</th>\n",
       "      <th>0</th>\n",
       "      <th>1</th>\n",
       "    </tr>\n",
       "    <tr>\n",
       "      <th>gender</th>\n",
       "      <th></th>\n",
       "      <th></th>\n",
       "    </tr>\n",
       "  </thead>\n",
       "  <tbody>\n",
       "    <tr>\n",
       "      <th>0</th>\n",
       "      <td>0.250000</td>\n",
       "      <td>0.750000</td>\n",
       "    </tr>\n",
       "    <tr>\n",
       "      <th>1</th>\n",
       "      <td>0.550725</td>\n",
       "      <td>0.449275</td>\n",
       "    </tr>\n",
       "  </tbody>\n",
       "</table>\n",
       "</div>"
      ],
      "text/plain": [
       "output         0         1\n",
       "gender                    \n",
       "0       0.250000  0.750000\n",
       "1       0.550725  0.449275"
      ]
     },
     "execution_count": 40,
     "metadata": {},
     "output_type": "execute_result"
    }
   ],
   "source": [
    "pd.crosstab(df[\"gender\"], df[\"output\"], normalize=\"index\")"
   ]
  },
  {
   "cell_type": "code",
   "execution_count": 41,
   "id": "7706c15a",
   "metadata": {},
   "outputs": [
    {
     "data": {
      "image/png": "[encoded data removed]",
      "text/plain": [
       "<Figure size 432x288 with 1 Axes>"
      ]
     },
     "metadata": {
      "needs_background": "light"
     },
     "output_type": "display_data"
    }
   ],
   "source": [
    "ct=pd.crosstab(df[\"gender\"].fillna(\"NA\"), df[\"output\"], normalize=\"index\")\n",
    "ax=ct.plot.bar()"
   ]
  },
  {
   "cell_type": "markdown",
   "id": "5c3ef4f6",
   "metadata": {},
   "source": [
    "### fast_blood_sugar - output/heart attack"
   ]
  },
  {
   "cell_type": "code",
   "execution_count": 42,
   "id": "df839d84",
   "metadata": {},
   "outputs": [
    {
     "data": {
      "text/html": [
       "<div>\n",
       "<style scoped>\n",
       "    .dataframe tbody tr th:only-of-type {\n",
       "        vertical-align: middle;\n",
       "    }\n",
       "\n",
       "    .dataframe tbody tr th {\n",
       "        vertical-align: top;\n",
       "    }\n",
       "\n",
       "    .dataframe thead th {\n",
       "        text-align: right;\n",
       "    }\n",
       "</style>\n",
       "<table border=\"1\" class=\"dataframe\">\n",
       "  <thead>\n",
       "    <tr style=\"text-align: right;\">\n",
       "      <th>output</th>\n",
       "      <th>0</th>\n",
       "      <th>1</th>\n",
       "      <th>All</th>\n",
       "    </tr>\n",
       "    <tr>\n",
       "      <th>fast_blood_sugar</th>\n",
       "      <th></th>\n",
       "      <th></th>\n",
       "      <th></th>\n",
       "    </tr>\n",
       "  </thead>\n",
       "  <tbody>\n",
       "    <tr>\n",
       "      <th>No</th>\n",
       "      <td>116</td>\n",
       "      <td>142</td>\n",
       "      <td>258</td>\n",
       "    </tr>\n",
       "    <tr>\n",
       "      <th>Yes</th>\n",
       "      <td>22</td>\n",
       "      <td>23</td>\n",
       "      <td>45</td>\n",
       "    </tr>\n",
       "    <tr>\n",
       "      <th>All</th>\n",
       "      <td>138</td>\n",
       "      <td>165</td>\n",
       "      <td>303</td>\n",
       "    </tr>\n",
       "  </tbody>\n",
       "</table>\n",
       "</div>"
      ],
      "text/plain": [
       "output              0    1  All\n",
       "fast_blood_sugar               \n",
       "No                116  142  258\n",
       "Yes                22   23   45\n",
       "All               138  165  303"
      ]
     },
     "execution_count": 42,
     "metadata": {},
     "output_type": "execute_result"
    }
   ],
   "source": [
    "pd.crosstab(df[\"fast_blood_sugar\"], df[\"output\"], margins=2)"
   ]
  },
  {
   "cell_type": "code",
   "execution_count": 43,
   "id": "7184ebcc",
   "metadata": {},
   "outputs": [
    {
     "data": {
      "text/html": [
       "<div>\n",
       "<style scoped>\n",
       "    .dataframe tbody tr th:only-of-type {\n",
       "        vertical-align: middle;\n",
       "    }\n",
       "\n",
       "    .dataframe tbody tr th {\n",
       "        vertical-align: top;\n",
       "    }\n",
       "\n",
       "    .dataframe thead th {\n",
       "        text-align: right;\n",
       "    }\n",
       "</style>\n",
       "<table border=\"1\" class=\"dataframe\">\n",
       "  <thead>\n",
       "    <tr style=\"text-align: right;\">\n",
       "      <th>output</th>\n",
       "      <th>0</th>\n",
       "      <th>1</th>\n",
       "    </tr>\n",
       "    <tr>\n",
       "      <th>fast_blood_sugar</th>\n",
       "      <th></th>\n",
       "      <th></th>\n",
       "    </tr>\n",
       "  </thead>\n",
       "  <tbody>\n",
       "    <tr>\n",
       "      <th>No</th>\n",
       "      <td>0.449612</td>\n",
       "      <td>0.550388</td>\n",
       "    </tr>\n",
       "    <tr>\n",
       "      <th>Yes</th>\n",
       "      <td>0.488889</td>\n",
       "      <td>0.511111</td>\n",
       "    </tr>\n",
       "  </tbody>\n",
       "</table>\n",
       "</div>"
      ],
      "text/plain": [
       "output                   0         1\n",
       "fast_blood_sugar                    \n",
       "No                0.449612  0.550388\n",
       "Yes               0.488889  0.511111"
      ]
     },
     "execution_count": 43,
     "metadata": {},
     "output_type": "execute_result"
    }
   ],
   "source": [
    "pd.crosstab(df[\"fast_blood_sugar\"], df[\"output\"], normalize=\"index\")"
   ]
  },
  {
   "cell_type": "code",
   "execution_count": 44,
   "id": "cbdc784d",
   "metadata": {},
   "outputs": [
    {
     "data": {
      "image/png": "[encoded data removed]",
      "text/plain": [
       "<Figure size 432x288 with 1 Axes>"
      ]
     },
     "metadata": {
      "needs_background": "light"
     },
     "output_type": "display_data"
    }
   ],
   "source": [
    "ct=pd.crosstab(df[\"fast_blood_sugar\"].fillna(\"NA\"), df[\"output\"], normalize=\"index\")\n",
    "ax=ct.plot.bar()"
   ]
  },
  {
   "cell_type": "markdown",
   "id": "9325ff1a",
   "metadata": {},
   "source": [
    "### Univariate analysis on numerical variables"
   ]
  },
  {
   "cell_type": "markdown",
   "id": "8da84b91",
   "metadata": {},
   "source": [
    "### age"
   ]
  },
  {
   "cell_type": "code",
   "execution_count": 45,
   "id": "49cc892f",
   "metadata": {},
   "outputs": [
    {
     "data": {
      "text/plain": [
       "count    303.000000\n",
       "mean      54.366337\n",
       "std        9.082101\n",
       "min       29.000000\n",
       "25%       47.500000\n",
       "50%       55.000000\n",
       "75%       61.000000\n",
       "max       77.000000\n",
       "Name: age, dtype: float64"
      ]
     },
     "execution_count": 45,
     "metadata": {},
     "output_type": "execute_result"
    }
   ],
   "source": [
    "df[\"age\"].describe()"
   ]
  },
  {
   "cell_type": "markdown",
   "id": "f6acdfd6",
   "metadata": {},
   "source": [
    "### age variable is approximately normally distributed"
   ]
  },
  {
   "cell_type": "code",
   "execution_count": 46,
   "id": "cbac175a",
   "metadata": {},
   "outputs": [
    {
     "data": {
      "image/png": "[encoded data removed]",
      "text/plain": [
       "<Figure size 432x288 with 1 Axes>"
      ]
     },
     "metadata": {
      "needs_background": "light"
     },
     "output_type": "display_data"
    }
   ],
   "source": [
    "sns.histplot(data=df, x=\"age\");"
   ]
  },
  {
   "cell_type": "markdown",
   "id": "7dbc3f04",
   "metadata": {},
   "source": [
    "### No outliers were presented in age variable"
   ]
  },
  {
   "cell_type": "code",
   "execution_count": 47,
   "id": "ab72a14d",
   "metadata": {},
   "outputs": [
    {
     "data": {
      "image/png": "[encoded data removed]",
      "text/plain": [
       "<Figure size 432x288 with 1 Axes>"
      ]
     },
     "metadata": {
      "needs_background": "light"
     },
     "output_type": "display_data"
    }
   ],
   "source": [
    "sns.boxplot(x=df[\"age\"]);"
   ]
  },
  {
   "cell_type": "markdown",
   "id": "3c6500d7",
   "metadata": {},
   "source": [
    "### rest_blood_pressure"
   ]
  },
  {
   "cell_type": "code",
   "execution_count": 48,
   "id": "5c7388e5",
   "metadata": {},
   "outputs": [
    {
     "data": {
      "text/plain": [
       "count    303.000000\n",
       "mean     131.623762\n",
       "std       17.538143\n",
       "min       94.000000\n",
       "25%      120.000000\n",
       "50%      130.000000\n",
       "75%      140.000000\n",
       "max      200.000000\n",
       "Name: rest_blood_pressure, dtype: float64"
      ]
     },
     "execution_count": 48,
     "metadata": {},
     "output_type": "execute_result"
    }
   ],
   "source": [
    "df[\"rest_blood_pressure\"].describe()"
   ]
  },
  {
   "cell_type": "markdown",
   "id": "646cdfa7",
   "metadata": {},
   "source": [
    "### Resting blood pressure is approximately normally distributed"
   ]
  },
  {
   "cell_type": "code",
   "execution_count": 49,
   "id": "ccb70f86",
   "metadata": {},
   "outputs": [
    {
     "data": {
      "image/png": "[encoded data removed]",
      "text/plain": [
       "<Figure size 432x288 with 1 Axes>"
      ]
     },
     "metadata": {
      "needs_background": "light"
     },
     "output_type": "display_data"
    }
   ],
   "source": [
    "sns.histplot(data=df, x=\"rest_blood_pressure\");"
   ]
  },
  {
   "cell_type": "code",
   "execution_count": 50,
   "id": "e60801ab",
   "metadata": {},
   "outputs": [
    {
     "data": {
      "image/png": "[encoded data removed]",
      "text/plain": [
       "<Figure size 432x288 with 1 Axes>"
      ]
     },
     "metadata": {
      "needs_background": "light"
     },
     "output_type": "display_data"
    }
   ],
   "source": [
    "sns.boxplot(x=df[\"rest_blood_pressure\"]);"
   ]
  },
  {
   "cell_type": "markdown",
   "id": "420a1b27",
   "metadata": {},
   "source": [
    "### Outlier detection function using IQR method"
   ]
  },
  {
   "cell_type": "code",
   "execution_count": 51,
   "id": "a17e9d03",
   "metadata": {},
   "outputs": [],
   "source": [
    "def outlier_detection(col_name, data_frame):\n",
    "    \"\"\" This function is used to detect the outliers in \n",
    "        give column in a data frame using IQR method \"\"\"\n",
    "    Q1,Q3 = np.percentile(data_frame[col_name] , [25,75])\n",
    "    IQR = Q3 - Q1\n",
    "    lower_bound = Q1 - (1.5 * IQR)\n",
    "    upper_bound = Q3 + (1.5 * IQR)\n",
    "    outliers = np.array(data_frame.loc[(data_frame[col_name] < lower_bound) | (data_frame[col_name] > upper_bound), col_name])\n",
    "    return {\"outliers\": outliers, \"count\": len(outliers)}"
   ]
  },
  {
   "cell_type": "markdown",
   "id": "59f4aeb1",
   "metadata": {},
   "source": [
    "### 9 outliers were presented in the resting blood pressure variable"
   ]
  },
  {
   "cell_type": "code",
   "execution_count": 52,
   "id": "6b693503",
   "metadata": {},
   "outputs": [
    {
     "data": {
      "text/plain": [
       "{'outliers': array([172, 178, 180, 180, 200, 174, 192, 178, 180], dtype=int64),\n",
       " 'count': 9}"
      ]
     },
     "execution_count": 52,
     "metadata": {},
     "output_type": "execute_result"
    }
   ],
   "source": [
    "outlier_detection(\"rest_blood_pressure\", df)"
   ]
  },
  {
   "cell_type": "markdown",
   "id": "db82317c",
   "metadata": {},
   "source": [
    "### cholesterol"
   ]
  },
  {
   "cell_type": "code",
   "execution_count": 53,
   "id": "719990a1",
   "metadata": {},
   "outputs": [
    {
     "data": {
      "text/plain": [
       "count    303.000000\n",
       "mean     246.264026\n",
       "std       51.830751\n",
       "min      126.000000\n",
       "25%      211.000000\n",
       "50%      240.000000\n",
       "75%      274.500000\n",
       "max      564.000000\n",
       "Name: cholesterol, dtype: float64"
      ]
     },
     "execution_count": 53,
     "metadata": {},
     "output_type": "execute_result"
    }
   ],
   "source": [
    "df[\"cholesterol\"].describe()"
   ]
  },
  {
   "cell_type": "markdown",
   "id": "aaa584ca",
   "metadata": {},
   "source": [
    "### cholesterol variable is approximately normally distributed"
   ]
  },
  {
   "cell_type": "code",
   "execution_count": 54,
   "id": "d46bf171",
   "metadata": {},
   "outputs": [
    {
     "data": {
      "image/png": "[encoded data removed]",
      "text/plain": [
       "<Figure size 432x288 with 1 Axes>"
      ]
     },
     "metadata": {
      "needs_background": "light"
     },
     "output_type": "display_data"
    }
   ],
   "source": [
    "sns.histplot(data=df, x=\"cholesterol\");"
   ]
  },
  {
   "cell_type": "code",
   "execution_count": 55,
   "id": "116ffb35",
   "metadata": {},
   "outputs": [
    {
     "data": {
      "image/png": "[encoded data removed]",
      "text/plain": [
       "<Figure size 432x288 with 1 Axes>"
      ]
     },
     "metadata": {
      "needs_background": "light"
     },
     "output_type": "display_data"
    }
   ],
   "source": [
    "sns.boxplot(x=df[\"cholesterol\"]);"
   ]
  },
  {
   "cell_type": "markdown",
   "id": "ea6a5d9b",
   "metadata": {},
   "source": [
    "### 5 outliers were presented in the cholesterol variable"
   ]
  },
  {
   "cell_type": "code",
   "execution_count": 56,
   "id": "6a61a5a0",
   "metadata": {},
   "outputs": [
    {
     "data": {
      "text/plain": [
       "{'outliers': array([417, 564, 394, 407, 409], dtype=int64), 'count': 5}"
      ]
     },
     "execution_count": 56,
     "metadata": {},
     "output_type": "execute_result"
    }
   ],
   "source": [
    "outlier_detection(\"cholesterol\", df)"
   ]
  },
  {
   "cell_type": "markdown",
   "id": "658c0694",
   "metadata": {},
   "source": [
    "### max_heart_rate"
   ]
  },
  {
   "cell_type": "code",
   "execution_count": 57,
   "id": "08db7240",
   "metadata": {},
   "outputs": [
    {
     "data": {
      "text/plain": [
       "count    303.000000\n",
       "mean     149.646865\n",
       "std       22.905161\n",
       "min       71.000000\n",
       "25%      133.500000\n",
       "50%      153.000000\n",
       "75%      166.000000\n",
       "max      202.000000\n",
       "Name: max_heart_rate, dtype: float64"
      ]
     },
     "execution_count": 57,
     "metadata": {},
     "output_type": "execute_result"
    }
   ],
   "source": [
    "df[\"max_heart_rate\"].describe()"
   ]
  },
  {
   "cell_type": "markdown",
   "id": "a00291a4",
   "metadata": {},
   "source": [
    "### Maximum heart rate variable is approximately normally distributed"
   ]
  },
  {
   "cell_type": "code",
   "execution_count": 58,
   "id": "a67c2c2e",
   "metadata": {},
   "outputs": [
    {
     "data": {
      "image/png": "[encoded data removed]",
      "text/plain": [
       "<Figure size 432x288 with 1 Axes>"
      ]
     },
     "metadata": {
      "needs_background": "light"
     },
     "output_type": "display_data"
    }
   ],
   "source": [
    "sns.histplot(data=df, x=\"max_heart_rate\");"
   ]
  },
  {
   "cell_type": "code",
   "execution_count": 59,
   "id": "b98eca0b",
   "metadata": {},
   "outputs": [
    {
     "data": {
      "image/png": "[encoded data removed]",
      "text/plain": [
       "<Figure size 432x288 with 1 Axes>"
      ]
     },
     "metadata": {
      "needs_background": "light"
     },
     "output_type": "display_data"
    }
   ],
   "source": [
    "sns.boxplot(x=df[\"max_heart_rate\"]);"
   ]
  },
  {
   "cell_type": "markdown",
   "id": "5b8f90ea",
   "metadata": {},
   "source": [
    "### Only 1 outlier is presented in the maximum heart rate variable"
   ]
  },
  {
   "cell_type": "code",
   "execution_count": 60,
   "id": "966f5e55",
   "metadata": {},
   "outputs": [
    {
     "data": {
      "text/plain": [
       "{'outliers': array([71], dtype=int64), 'count': 1}"
      ]
     },
     "execution_count": 60,
     "metadata": {},
     "output_type": "execute_result"
    }
   ],
   "source": [
    "outlier_detection(\"max_heart_rate\", df)"
   ]
  },
  {
   "cell_type": "markdown",
   "id": "7ca43fc9",
   "metadata": {},
   "source": [
    "### prev_peak"
   ]
  },
  {
   "cell_type": "code",
   "execution_count": 61,
   "id": "e31ea8d8",
   "metadata": {},
   "outputs": [
    {
     "data": {
      "text/plain": [
       "count    303.000000\n",
       "mean       1.039604\n",
       "std        1.161075\n",
       "min        0.000000\n",
       "25%        0.000000\n",
       "50%        0.800000\n",
       "75%        1.600000\n",
       "max        6.200000\n",
       "Name: prev_peak, dtype: float64"
      ]
     },
     "execution_count": 61,
     "metadata": {},
     "output_type": "execute_result"
    }
   ],
   "source": [
    "df[\"prev_peak\"].describe()"
   ]
  },
  {
   "cell_type": "code",
   "execution_count": 62,
   "id": "b0b5a121",
   "metadata": {},
   "outputs": [
    {
     "data": {
      "image/png": "[encoded data removed]",
      "text/plain": [
       "<Figure size 432x288 with 1 Axes>"
      ]
     },
     "metadata": {
      "needs_background": "light"
     },
     "output_type": "display_data"
    }
   ],
   "source": [
    "sns.histplot(data=df, x=\"prev_peak\");"
   ]
  },
  {
   "cell_type": "code",
   "execution_count": 63,
   "id": "576532e8",
   "metadata": {},
   "outputs": [
    {
     "data": {
      "image/png": "[encoded data removed]",
      "text/plain": [
       "<Figure size 432x288 with 1 Axes>"
      ]
     },
     "metadata": {
      "needs_background": "light"
     },
     "output_type": "display_data"
    }
   ],
   "source": [
    "sns.boxplot(x=df[\"prev_peak\"]);"
   ]
  },
  {
   "cell_type": "markdown",
   "id": "801c1224",
   "metadata": {},
   "source": [
    "### 5 outliers were presented in the previous/old peak variable"
   ]
  },
  {
   "cell_type": "code",
   "execution_count": 64,
   "id": "cec635fa",
   "metadata": {},
   "outputs": [
    {
     "data": {
      "text/plain": [
       "{'outliers': array([4.2, 6.2, 5.6, 4.2, 4.4]), 'count': 5}"
      ]
     },
     "execution_count": 64,
     "metadata": {},
     "output_type": "execute_result"
    }
   ],
   "source": [
    "outlier_detection(\"prev_peak\", df)"
   ]
  },
  {
   "cell_type": "markdown",
   "id": "b35c8e76",
   "metadata": {},
   "source": [
    "### slope"
   ]
  },
  {
   "cell_type": "code",
   "execution_count": 65,
   "id": "82a99596",
   "metadata": {},
   "outputs": [
    {
     "data": {
      "text/plain": [
       "count    303.000000\n",
       "mean       1.399340\n",
       "std        0.616226\n",
       "min        0.000000\n",
       "25%        1.000000\n",
       "50%        1.000000\n",
       "75%        2.000000\n",
       "max        2.000000\n",
       "Name: slope, dtype: float64"
      ]
     },
     "execution_count": 65,
     "metadata": {},
     "output_type": "execute_result"
    }
   ],
   "source": [
    "df[\"slope\"].describe()"
   ]
  },
  {
   "cell_type": "code",
   "execution_count": 66,
   "id": "f26f56a4",
   "metadata": {},
   "outputs": [
    {
     "data": {
      "image/png": "[encoded data removed]",
      "text/plain": [
       "<Figure size 432x288 with 1 Axes>"
      ]
     },
     "metadata": {
      "needs_background": "light"
     },
     "output_type": "display_data"
    }
   ],
   "source": [
    "sns.histplot(data=df, x=\"slope\");"
   ]
  },
  {
   "cell_type": "code",
   "execution_count": 67,
   "id": "4bce9309",
   "metadata": {},
   "outputs": [
    {
     "data": {
      "image/png": "[encoded data removed]",
      "text/plain": [
       "<Figure size 432x288 with 1 Axes>"
      ]
     },
     "metadata": {
      "needs_background": "light"
     },
     "output_type": "display_data"
    }
   ],
   "source": [
    "sns.boxplot(x=df[\"slope\"]);"
   ]
  },
  {
   "cell_type": "markdown",
   "id": "016e066e",
   "metadata": {},
   "source": [
    "### vessels_num"
   ]
  },
  {
   "cell_type": "code",
   "execution_count": 68,
   "id": "83529bbd",
   "metadata": {},
   "outputs": [
    {
     "data": {
      "text/plain": [
       "count    303.000000\n",
       "mean       0.729373\n",
       "std        1.022606\n",
       "min        0.000000\n",
       "25%        0.000000\n",
       "50%        0.000000\n",
       "75%        1.000000\n",
       "max        4.000000\n",
       "Name: vessels_num, dtype: float64"
      ]
     },
     "execution_count": 68,
     "metadata": {},
     "output_type": "execute_result"
    }
   ],
   "source": [
    "df[\"vessels_num\"].describe()"
   ]
  },
  {
   "cell_type": "code",
   "execution_count": 69,
   "id": "5360b5d7",
   "metadata": {},
   "outputs": [
    {
     "data": {
      "image/png": "[encoded data removed]",
      "text/plain": [
       "<Figure size 432x288 with 1 Axes>"
      ]
     },
     "metadata": {
      "needs_background": "light"
     },
     "output_type": "display_data"
    }
   ],
   "source": [
    "sns.histplot(data=df, x=\"vessels_num\");"
   ]
  },
  {
   "cell_type": "code",
   "execution_count": 70,
   "id": "5c5f7f8d",
   "metadata": {},
   "outputs": [
    {
     "data": {
      "image/png": "[encoded data removed]",
      "text/plain": [
       "<Figure size 432x288 with 1 Axes>"
      ]
     },
     "metadata": {
      "needs_background": "light"
     },
     "output_type": "display_data"
    }
   ],
   "source": [
    "sns.boxplot(x=df[\"vessels_num\"]);"
   ]
  },
  {
   "cell_type": "code",
   "execution_count": 71,
   "id": "561809b3",
   "metadata": {},
   "outputs": [
    {
     "data": {
      "text/plain": [
       "{'outliers': array([3, 4, 3, 3, 4, 4, 4, 3, 3, 3, 3, 3, 3, 3, 3, 3, 3, 3, 3, 3, 4, 3,\n",
       "        3, 3, 3], dtype=int64),\n",
       " 'count': 25}"
      ]
     },
     "execution_count": 71,
     "metadata": {},
     "output_type": "execute_result"
    }
   ],
   "source": [
    "outlier_detection(\"vessels_num\", df)"
   ]
  },
  {
   "cell_type": "markdown",
   "id": "a1a28c6c",
   "metadata": {},
   "source": [
    "### thal_result"
   ]
  },
  {
   "cell_type": "code",
   "execution_count": 72,
   "id": "d1c86e70",
   "metadata": {},
   "outputs": [
    {
     "data": {
      "text/plain": [
       "count    303.000000\n",
       "mean       2.313531\n",
       "std        0.612277\n",
       "min        0.000000\n",
       "25%        2.000000\n",
       "50%        2.000000\n",
       "75%        3.000000\n",
       "max        3.000000\n",
       "Name: thal_result, dtype: float64"
      ]
     },
     "execution_count": 72,
     "metadata": {},
     "output_type": "execute_result"
    }
   ],
   "source": [
    "df[\"thal_result\"].describe()"
   ]
  },
  {
   "cell_type": "code",
   "execution_count": 73,
   "id": "2eaa10b4",
   "metadata": {},
   "outputs": [
    {
     "data": {
      "image/png": "[encoded data removed]",
      "text/plain": [
       "<Figure size 432x288 with 1 Axes>"
      ]
     },
     "metadata": {
      "needs_background": "light"
     },
     "output_type": "display_data"
    }
   ],
   "source": [
    "sns.histplot(data=df, x=\"thal_result\");"
   ]
  },
  {
   "cell_type": "code",
   "execution_count": 74,
   "id": "e20a7322",
   "metadata": {},
   "outputs": [
    {
     "data": {
      "image/png": "[encoded data removed]",
      "text/plain": [
       "<Figure size 432x288 with 1 Axes>"
      ]
     },
     "metadata": {
      "needs_background": "light"
     },
     "output_type": "display_data"
    }
   ],
   "source": [
    "sns.boxplot(x=df[\"thal_result\"]);"
   ]
  },
  {
   "cell_type": "markdown",
   "id": "0d489f69",
   "metadata": {},
   "source": [
    "### Bi-variate analysis between each numeric variable and output/heart attack"
   ]
  },
  {
   "cell_type": "markdown",
   "id": "1e062934",
   "metadata": {},
   "source": [
    "### age - output/heart attack"
   ]
  },
  {
   "cell_type": "code",
   "execution_count": 75,
   "id": "f12de4d8",
   "metadata": {},
   "outputs": [
    {
     "data": {
      "text/html": [
       "<div>\n",
       "<style scoped>\n",
       "    .dataframe tbody tr th:only-of-type {\n",
       "        vertical-align: middle;\n",
       "    }\n",
       "\n",
       "    .dataframe tbody tr th {\n",
       "        vertical-align: top;\n",
       "    }\n",
       "\n",
       "    .dataframe thead th {\n",
       "        text-align: right;\n",
       "    }\n",
       "</style>\n",
       "<table border=\"1\" class=\"dataframe\">\n",
       "  <thead>\n",
       "    <tr style=\"text-align: right;\">\n",
       "      <th>output</th>\n",
       "      <th>0</th>\n",
       "      <th>1</th>\n",
       "      <th>All</th>\n",
       "    </tr>\n",
       "    <tr>\n",
       "      <th>row_0</th>\n",
       "      <th></th>\n",
       "      <th></th>\n",
       "      <th></th>\n",
       "    </tr>\n",
       "  </thead>\n",
       "  <tbody>\n",
       "    <tr>\n",
       "      <th>&lt;=55</th>\n",
       "      <td>49</td>\n",
       "      <td>103</td>\n",
       "      <td>152</td>\n",
       "    </tr>\n",
       "    <tr>\n",
       "      <th>&gt;55</th>\n",
       "      <td>89</td>\n",
       "      <td>62</td>\n",
       "      <td>151</td>\n",
       "    </tr>\n",
       "    <tr>\n",
       "      <th>All</th>\n",
       "      <td>138</td>\n",
       "      <td>165</td>\n",
       "      <td>303</td>\n",
       "    </tr>\n",
       "  </tbody>\n",
       "</table>\n",
       "</div>"
      ],
      "text/plain": [
       "output    0    1  All\n",
       "row_0                \n",
       "<=55     49  103  152\n",
       ">55      89   62  151\n",
       "All     138  165  303"
      ]
     },
     "execution_count": 75,
     "metadata": {},
     "output_type": "execute_result"
    }
   ],
   "source": [
    "pd.crosstab(np.where(df[\"age\"]>df[\"age\"].median(),\">\"+ str(int(df[\"age\"].median())) ,\n",
    "                     \"<=\" + str(int(df[\"age\"].median()))), df[\"output\"], margins=2)"
   ]
  },
  {
   "cell_type": "markdown",
   "id": "ddf87141",
   "metadata": {},
   "source": [
    "### Age group between 47 to 69 have higher chances of getting heart attack "
   ]
  },
  {
   "cell_type": "code",
   "execution_count": 76,
   "id": "4da086fb",
   "metadata": {},
   "outputs": [
    {
     "data": {
      "text/html": [
       "<div>\n",
       "<style scoped>\n",
       "    .dataframe tbody tr th:only-of-type {\n",
       "        vertical-align: middle;\n",
       "    }\n",
       "\n",
       "    .dataframe tbody tr th {\n",
       "        vertical-align: top;\n",
       "    }\n",
       "\n",
       "    .dataframe thead th {\n",
       "        text-align: right;\n",
       "    }\n",
       "</style>\n",
       "<table border=\"1\" class=\"dataframe\">\n",
       "  <thead>\n",
       "    <tr style=\"text-align: right;\">\n",
       "      <th>output</th>\n",
       "      <th>0</th>\n",
       "      <th>1</th>\n",
       "      <th>All</th>\n",
       "    </tr>\n",
       "    <tr>\n",
       "      <th>age</th>\n",
       "      <th></th>\n",
       "      <th></th>\n",
       "      <th></th>\n",
       "    </tr>\n",
       "  </thead>\n",
       "  <tbody>\n",
       "    <tr>\n",
       "      <th>(25.0, 36.0]</th>\n",
       "      <td>2</td>\n",
       "      <td>5</td>\n",
       "      <td>7</td>\n",
       "    </tr>\n",
       "    <tr>\n",
       "      <th>(36.0, 47.0]</th>\n",
       "      <td>19</td>\n",
       "      <td>50</td>\n",
       "      <td>69</td>\n",
       "    </tr>\n",
       "    <tr>\n",
       "      <th>(47.0, 58.0]</th>\n",
       "      <td>56</td>\n",
       "      <td>67</td>\n",
       "      <td>123</td>\n",
       "    </tr>\n",
       "    <tr>\n",
       "      <th>(58.0, 69.0]</th>\n",
       "      <td>57</td>\n",
       "      <td>37</td>\n",
       "      <td>94</td>\n",
       "    </tr>\n",
       "    <tr>\n",
       "      <th>(69.0, 80.0]</th>\n",
       "      <td>4</td>\n",
       "      <td>6</td>\n",
       "      <td>10</td>\n",
       "    </tr>\n",
       "    <tr>\n",
       "      <th>All</th>\n",
       "      <td>138</td>\n",
       "      <td>165</td>\n",
       "      <td>303</td>\n",
       "    </tr>\n",
       "  </tbody>\n",
       "</table>\n",
       "</div>"
      ],
      "text/plain": [
       "output          0    1  All\n",
       "age                        \n",
       "(25.0, 36.0]    2    5    7\n",
       "(36.0, 47.0]   19   50   69\n",
       "(47.0, 58.0]   56   67  123\n",
       "(58.0, 69.0]   57   37   94\n",
       "(69.0, 80.0]    4    6   10\n",
       "All           138  165  303"
      ]
     },
     "execution_count": 76,
     "metadata": {},
     "output_type": "execute_result"
    }
   ],
   "source": [
    "pd.crosstab(pd.cut(df['age'], bins=np.linspace(25, 80, 6)), df[\"output\"], margins=2)"
   ]
  },
  {
   "cell_type": "code",
   "execution_count": 77,
   "id": "6a4df041",
   "metadata": {},
   "outputs": [
    {
     "data": {
      "image/png": "[encoded data removed]",
      "text/plain": [
       "<Figure size 432x288 with 1 Axes>"
      ]
     },
     "metadata": {
      "needs_background": "light"
     },
     "output_type": "display_data"
    }
   ],
   "source": [
    "ct=pd.crosstab(pd.cut(df['age'], bins=np.linspace(25, 80, 6)), df[\"output\"],normalize=\"index\" )\n",
    "ax=ct.plot.bar()"
   ]
  },
  {
   "cell_type": "code",
   "execution_count": 78,
   "id": "3d1ed0e5",
   "metadata": {},
   "outputs": [
    {
     "data": {
      "text/html": [
       "<div>\n",
       "<style scoped>\n",
       "    .dataframe tbody tr th:only-of-type {\n",
       "        vertical-align: middle;\n",
       "    }\n",
       "\n",
       "    .dataframe tbody tr th {\n",
       "        vertical-align: top;\n",
       "    }\n",
       "\n",
       "    .dataframe thead th {\n",
       "        text-align: right;\n",
       "    }\n",
       "</style>\n",
       "<table border=\"1\" class=\"dataframe\">\n",
       "  <thead>\n",
       "    <tr style=\"text-align: right;\">\n",
       "      <th>output</th>\n",
       "      <th>0</th>\n",
       "      <th>1</th>\n",
       "    </tr>\n",
       "    <tr>\n",
       "      <th>age</th>\n",
       "      <th></th>\n",
       "      <th></th>\n",
       "    </tr>\n",
       "  </thead>\n",
       "  <tbody>\n",
       "    <tr>\n",
       "      <th>(25.0, 36.0]</th>\n",
       "      <td>0.285714</td>\n",
       "      <td>0.714286</td>\n",
       "    </tr>\n",
       "    <tr>\n",
       "      <th>(36.0, 47.0]</th>\n",
       "      <td>0.275362</td>\n",
       "      <td>0.724638</td>\n",
       "    </tr>\n",
       "    <tr>\n",
       "      <th>(47.0, 58.0]</th>\n",
       "      <td>0.455285</td>\n",
       "      <td>0.544715</td>\n",
       "    </tr>\n",
       "    <tr>\n",
       "      <th>(58.0, 69.0]</th>\n",
       "      <td>0.606383</td>\n",
       "      <td>0.393617</td>\n",
       "    </tr>\n",
       "    <tr>\n",
       "      <th>(69.0, 80.0]</th>\n",
       "      <td>0.400000</td>\n",
       "      <td>0.600000</td>\n",
       "    </tr>\n",
       "  </tbody>\n",
       "</table>\n",
       "</div>"
      ],
      "text/plain": [
       "output               0         1\n",
       "age                             \n",
       "(25.0, 36.0]  0.285714  0.714286\n",
       "(36.0, 47.0]  0.275362  0.724638\n",
       "(47.0, 58.0]  0.455285  0.544715\n",
       "(58.0, 69.0]  0.606383  0.393617\n",
       "(69.0, 80.0]  0.400000  0.600000"
      ]
     },
     "execution_count": 78,
     "metadata": {},
     "output_type": "execute_result"
    }
   ],
   "source": [
    "pd.crosstab(pd.cut(df['age'], bins=np.linspace(25, 80, 6)), df[\"output\"],normalize=\"index\" )"
   ]
  },
  {
   "cell_type": "markdown",
   "id": "4e7c7f57",
   "metadata": {},
   "source": [
    "### age group <=55 have higher chance of heart attack. But it may be depends on other factors also."
   ]
  },
  {
   "cell_type": "code",
   "execution_count": 79,
   "id": "7f137a38",
   "metadata": {},
   "outputs": [
    {
     "data": {
      "text/html": [
       "<div>\n",
       "<style scoped>\n",
       "    .dataframe tbody tr th:only-of-type {\n",
       "        vertical-align: middle;\n",
       "    }\n",
       "\n",
       "    .dataframe tbody tr th {\n",
       "        vertical-align: top;\n",
       "    }\n",
       "\n",
       "    .dataframe thead th {\n",
       "        text-align: right;\n",
       "    }\n",
       "</style>\n",
       "<table border=\"1\" class=\"dataframe\">\n",
       "  <thead>\n",
       "    <tr style=\"text-align: right;\">\n",
       "      <th>output</th>\n",
       "      <th>0</th>\n",
       "      <th>1</th>\n",
       "    </tr>\n",
       "    <tr>\n",
       "      <th>row_0</th>\n",
       "      <th></th>\n",
       "      <th></th>\n",
       "    </tr>\n",
       "  </thead>\n",
       "  <tbody>\n",
       "    <tr>\n",
       "      <th>&lt;=55</th>\n",
       "      <td>0.322368</td>\n",
       "      <td>0.677632</td>\n",
       "    </tr>\n",
       "    <tr>\n",
       "      <th>&gt;55</th>\n",
       "      <td>0.589404</td>\n",
       "      <td>0.410596</td>\n",
       "    </tr>\n",
       "  </tbody>\n",
       "</table>\n",
       "</div>"
      ],
      "text/plain": [
       "output         0         1\n",
       "row_0                     \n",
       "<=55    0.322368  0.677632\n",
       ">55     0.589404  0.410596"
      ]
     },
     "execution_count": 79,
     "metadata": {},
     "output_type": "execute_result"
    }
   ],
   "source": [
    "pd.crosstab(np.where(df[\"age\"]>df[\"age\"].median(),\">\"+ str(int(df[\"age\"].median())) ,\n",
    "                     \"<=\" + str(int(df[\"age\"].median()))), df[\"output\"], normalize=\"index\")"
   ]
  },
  {
   "cell_type": "markdown",
   "id": "3055b818",
   "metadata": {},
   "source": [
    "### rest_blood_pressure - output/heart attack"
   ]
  },
  {
   "cell_type": "code",
   "execution_count": 80,
   "id": "9dabd732",
   "metadata": {},
   "outputs": [
    {
     "data": {
      "text/html": [
       "<div>\n",
       "<style scoped>\n",
       "    .dataframe tbody tr th:only-of-type {\n",
       "        vertical-align: middle;\n",
       "    }\n",
       "\n",
       "    .dataframe tbody tr th {\n",
       "        vertical-align: top;\n",
       "    }\n",
       "\n",
       "    .dataframe thead th {\n",
       "        text-align: right;\n",
       "    }\n",
       "</style>\n",
       "<table border=\"1\" class=\"dataframe\">\n",
       "  <thead>\n",
       "    <tr style=\"text-align: right;\">\n",
       "      <th>output</th>\n",
       "      <th>0</th>\n",
       "      <th>1</th>\n",
       "      <th>All</th>\n",
       "    </tr>\n",
       "    <tr>\n",
       "      <th>row_0</th>\n",
       "      <th></th>\n",
       "      <th></th>\n",
       "      <th></th>\n",
       "    </tr>\n",
       "  </thead>\n",
       "  <tbody>\n",
       "    <tr>\n",
       "      <th>&lt;=130</th>\n",
       "      <td>71</td>\n",
       "      <td>100</td>\n",
       "      <td>171</td>\n",
       "    </tr>\n",
       "    <tr>\n",
       "      <th>&gt;130</th>\n",
       "      <td>67</td>\n",
       "      <td>65</td>\n",
       "      <td>132</td>\n",
       "    </tr>\n",
       "    <tr>\n",
       "      <th>All</th>\n",
       "      <td>138</td>\n",
       "      <td>165</td>\n",
       "      <td>303</td>\n",
       "    </tr>\n",
       "  </tbody>\n",
       "</table>\n",
       "</div>"
      ],
      "text/plain": [
       "output    0    1  All\n",
       "row_0                \n",
       "<=130    71  100  171\n",
       ">130     67   65  132\n",
       "All     138  165  303"
      ]
     },
     "execution_count": 80,
     "metadata": {},
     "output_type": "execute_result"
    }
   ],
   "source": [
    "pd.crosstab(np.where(df[\"rest_blood_pressure\"]>df[\"rest_blood_pressure\"].median(),\n",
    "                     \">\"+ str(int(df[\"rest_blood_pressure\"].median())) ,\n",
    "                     \"<=\" + str(int(df[\"rest_blood_pressure\"].median()))), df[\"output\"], margins=2)"
   ]
  },
  {
   "cell_type": "markdown",
   "id": "8f694a4f",
   "metadata": {},
   "source": [
    "### patients with resting blood pressure level <=240 have higher chance of heart attack"
   ]
  },
  {
   "cell_type": "code",
   "execution_count": 81,
   "id": "7ebe7e3c",
   "metadata": {},
   "outputs": [
    {
     "data": {
      "text/html": [
       "<div>\n",
       "<style scoped>\n",
       "    .dataframe tbody tr th:only-of-type {\n",
       "        vertical-align: middle;\n",
       "    }\n",
       "\n",
       "    .dataframe tbody tr th {\n",
       "        vertical-align: top;\n",
       "    }\n",
       "\n",
       "    .dataframe thead th {\n",
       "        text-align: right;\n",
       "    }\n",
       "</style>\n",
       "<table border=\"1\" class=\"dataframe\">\n",
       "  <thead>\n",
       "    <tr style=\"text-align: right;\">\n",
       "      <th>output</th>\n",
       "      <th>0</th>\n",
       "      <th>1</th>\n",
       "    </tr>\n",
       "    <tr>\n",
       "      <th>row_0</th>\n",
       "      <th></th>\n",
       "      <th></th>\n",
       "    </tr>\n",
       "  </thead>\n",
       "  <tbody>\n",
       "    <tr>\n",
       "      <th>&lt;=130</th>\n",
       "      <td>0.415205</td>\n",
       "      <td>0.584795</td>\n",
       "    </tr>\n",
       "    <tr>\n",
       "      <th>&gt;130</th>\n",
       "      <td>0.507576</td>\n",
       "      <td>0.492424</td>\n",
       "    </tr>\n",
       "  </tbody>\n",
       "</table>\n",
       "</div>"
      ],
      "text/plain": [
       "output         0         1\n",
       "row_0                     \n",
       "<=130   0.415205  0.584795\n",
       ">130    0.507576  0.492424"
      ]
     },
     "execution_count": 81,
     "metadata": {},
     "output_type": "execute_result"
    }
   ],
   "source": [
    "pd.crosstab(np.where(df[\"rest_blood_pressure\"]>df[\"rest_blood_pressure\"].median(),\n",
    "                     \">\"+ str(int(df[\"rest_blood_pressure\"].median())) ,\n",
    "                     \"<=\" + str(int(df[\"rest_blood_pressure\"].median()))), df[\"output\"], normalize=\"index\")"
   ]
  },
  {
   "cell_type": "markdown",
   "id": "0efcf89f",
   "metadata": {},
   "source": [
    "### cholesterol - output/heart attack"
   ]
  },
  {
   "cell_type": "code",
   "execution_count": 82,
   "id": "a9a661c9",
   "metadata": {},
   "outputs": [
    {
     "data": {
      "text/html": [
       "<div>\n",
       "<style scoped>\n",
       "    .dataframe tbody tr th:only-of-type {\n",
       "        vertical-align: middle;\n",
       "    }\n",
       "\n",
       "    .dataframe tbody tr th {\n",
       "        vertical-align: top;\n",
       "    }\n",
       "\n",
       "    .dataframe thead th {\n",
       "        text-align: right;\n",
       "    }\n",
       "</style>\n",
       "<table border=\"1\" class=\"dataframe\">\n",
       "  <thead>\n",
       "    <tr style=\"text-align: right;\">\n",
       "      <th>output</th>\n",
       "      <th>0</th>\n",
       "      <th>1</th>\n",
       "      <th>All</th>\n",
       "    </tr>\n",
       "    <tr>\n",
       "      <th>row_0</th>\n",
       "      <th></th>\n",
       "      <th></th>\n",
       "      <th></th>\n",
       "    </tr>\n",
       "  </thead>\n",
       "  <tbody>\n",
       "    <tr>\n",
       "      <th>&lt;=240</th>\n",
       "      <td>59</td>\n",
       "      <td>93</td>\n",
       "      <td>152</td>\n",
       "    </tr>\n",
       "    <tr>\n",
       "      <th>&gt;240</th>\n",
       "      <td>79</td>\n",
       "      <td>72</td>\n",
       "      <td>151</td>\n",
       "    </tr>\n",
       "    <tr>\n",
       "      <th>All</th>\n",
       "      <td>138</td>\n",
       "      <td>165</td>\n",
       "      <td>303</td>\n",
       "    </tr>\n",
       "  </tbody>\n",
       "</table>\n",
       "</div>"
      ],
      "text/plain": [
       "output    0    1  All\n",
       "row_0                \n",
       "<=240    59   93  152\n",
       ">240     79   72  151\n",
       "All     138  165  303"
      ]
     },
     "execution_count": 82,
     "metadata": {},
     "output_type": "execute_result"
    }
   ],
   "source": [
    "pd.crosstab(np.where(df[\"cholesterol\"]>df[\"cholesterol\"].median(),\n",
    "                     \">\"+ str(int(df[\"cholesterol\"].median())) ,\n",
    "                     \"<=\" + str(int(df[\"cholesterol\"].median()))), df[\"output\"], margins=2)"
   ]
  },
  {
   "cell_type": "markdown",
   "id": "a32085e7",
   "metadata": {},
   "source": [
    "### patients with cholesterol level <=240 have higher chance of heart attack"
   ]
  },
  {
   "cell_type": "code",
   "execution_count": 83,
   "id": "8a69608f",
   "metadata": {},
   "outputs": [
    {
     "data": {
      "text/html": [
       "<div>\n",
       "<style scoped>\n",
       "    .dataframe tbody tr th:only-of-type {\n",
       "        vertical-align: middle;\n",
       "    }\n",
       "\n",
       "    .dataframe tbody tr th {\n",
       "        vertical-align: top;\n",
       "    }\n",
       "\n",
       "    .dataframe thead th {\n",
       "        text-align: right;\n",
       "    }\n",
       "</style>\n",
       "<table border=\"1\" class=\"dataframe\">\n",
       "  <thead>\n",
       "    <tr style=\"text-align: right;\">\n",
       "      <th>output</th>\n",
       "      <th>0</th>\n",
       "      <th>1</th>\n",
       "    </tr>\n",
       "    <tr>\n",
       "      <th>row_0</th>\n",
       "      <th></th>\n",
       "      <th></th>\n",
       "    </tr>\n",
       "  </thead>\n",
       "  <tbody>\n",
       "    <tr>\n",
       "      <th>&lt;=240</th>\n",
       "      <td>0.388158</td>\n",
       "      <td>0.611842</td>\n",
       "    </tr>\n",
       "    <tr>\n",
       "      <th>&gt;240</th>\n",
       "      <td>0.523179</td>\n",
       "      <td>0.476821</td>\n",
       "    </tr>\n",
       "  </tbody>\n",
       "</table>\n",
       "</div>"
      ],
      "text/plain": [
       "output         0         1\n",
       "row_0                     \n",
       "<=240   0.388158  0.611842\n",
       ">240    0.523179  0.476821"
      ]
     },
     "execution_count": 83,
     "metadata": {},
     "output_type": "execute_result"
    }
   ],
   "source": [
    "pd.crosstab(np.where(df[\"cholesterol\"]>df[\"cholesterol\"].median(),\n",
    "                     \">\"+ str(int(df[\"cholesterol\"].median())) ,\n",
    "                     \"<=\" + str(int(df[\"cholesterol\"].median()))), df[\"output\"], normalize=\"index\")"
   ]
  },
  {
   "cell_type": "markdown",
   "id": "69bd152a",
   "metadata": {},
   "source": [
    "### max_heart_rate - output/heart attack"
   ]
  },
  {
   "cell_type": "code",
   "execution_count": 84,
   "id": "cd79745c",
   "metadata": {},
   "outputs": [
    {
     "data": {
      "text/html": [
       "<div>\n",
       "<style scoped>\n",
       "    .dataframe tbody tr th:only-of-type {\n",
       "        vertical-align: middle;\n",
       "    }\n",
       "\n",
       "    .dataframe tbody tr th {\n",
       "        vertical-align: top;\n",
       "    }\n",
       "\n",
       "    .dataframe thead th {\n",
       "        text-align: right;\n",
       "    }\n",
       "</style>\n",
       "<table border=\"1\" class=\"dataframe\">\n",
       "  <thead>\n",
       "    <tr style=\"text-align: right;\">\n",
       "      <th>output</th>\n",
       "      <th>0</th>\n",
       "      <th>1</th>\n",
       "      <th>All</th>\n",
       "    </tr>\n",
       "    <tr>\n",
       "      <th>row_0</th>\n",
       "      <th></th>\n",
       "      <th></th>\n",
       "      <th></th>\n",
       "    </tr>\n",
       "  </thead>\n",
       "  <tbody>\n",
       "    <tr>\n",
       "      <th>&lt;=153</th>\n",
       "      <td>97</td>\n",
       "      <td>57</td>\n",
       "      <td>154</td>\n",
       "    </tr>\n",
       "    <tr>\n",
       "      <th>&gt;153</th>\n",
       "      <td>41</td>\n",
       "      <td>108</td>\n",
       "      <td>149</td>\n",
       "    </tr>\n",
       "    <tr>\n",
       "      <th>All</th>\n",
       "      <td>138</td>\n",
       "      <td>165</td>\n",
       "      <td>303</td>\n",
       "    </tr>\n",
       "  </tbody>\n",
       "</table>\n",
       "</div>"
      ],
      "text/plain": [
       "output    0    1  All\n",
       "row_0                \n",
       "<=153    97   57  154\n",
       ">153     41  108  149\n",
       "All     138  165  303"
      ]
     },
     "execution_count": 84,
     "metadata": {},
     "output_type": "execute_result"
    }
   ],
   "source": [
    "pd.crosstab(np.where(df[\"max_heart_rate\"]>df[\"max_heart_rate\"].median(),\n",
    "                     \">\"+ str(int(df[\"max_heart_rate\"].median())) ,\n",
    "                     \"<=\" + str(int(df[\"max_heart_rate\"].median()))), df[\"output\"], margins=2)"
   ]
  },
  {
   "cell_type": "markdown",
   "id": "1825e135",
   "metadata": {},
   "source": [
    "### patients with maximum heart rate > 153 have higher chance (~72%) of heart attack "
   ]
  },
  {
   "cell_type": "code",
   "execution_count": 85,
   "id": "c3923092",
   "metadata": {},
   "outputs": [
    {
     "data": {
      "text/html": [
       "<div>\n",
       "<style scoped>\n",
       "    .dataframe tbody tr th:only-of-type {\n",
       "        vertical-align: middle;\n",
       "    }\n",
       "\n",
       "    .dataframe tbody tr th {\n",
       "        vertical-align: top;\n",
       "    }\n",
       "\n",
       "    .dataframe thead th {\n",
       "        text-align: right;\n",
       "    }\n",
       "</style>\n",
       "<table border=\"1\" class=\"dataframe\">\n",
       "  <thead>\n",
       "    <tr style=\"text-align: right;\">\n",
       "      <th>output</th>\n",
       "      <th>0</th>\n",
       "      <th>1</th>\n",
       "    </tr>\n",
       "    <tr>\n",
       "      <th>row_0</th>\n",
       "      <th></th>\n",
       "      <th></th>\n",
       "    </tr>\n",
       "  </thead>\n",
       "  <tbody>\n",
       "    <tr>\n",
       "      <th>&lt;=153</th>\n",
       "      <td>0.629870</td>\n",
       "      <td>0.370130</td>\n",
       "    </tr>\n",
       "    <tr>\n",
       "      <th>&gt;153</th>\n",
       "      <td>0.275168</td>\n",
       "      <td>0.724832</td>\n",
       "    </tr>\n",
       "  </tbody>\n",
       "</table>\n",
       "</div>"
      ],
      "text/plain": [
       "output         0         1\n",
       "row_0                     \n",
       "<=153   0.629870  0.370130\n",
       ">153    0.275168  0.724832"
      ]
     },
     "execution_count": 85,
     "metadata": {},
     "output_type": "execute_result"
    }
   ],
   "source": [
    "pd.crosstab(np.where(df[\"max_heart_rate\"]>df[\"max_heart_rate\"].median(),\n",
    "                     \">\"+ str(int(df[\"max_heart_rate\"].median())) ,\n",
    "                     \"<=\" + str(int(df[\"max_heart_rate\"].median()))), df[\"output\"], normalize=\"index\")"
   ]
  },
  {
   "cell_type": "markdown",
   "id": "d78ad1c0",
   "metadata": {},
   "source": [
    "### prev_peak - output/heart attack"
   ]
  },
  {
   "cell_type": "code",
   "execution_count": 86,
   "id": "2e5f455e",
   "metadata": {},
   "outputs": [
    {
     "data": {
      "text/html": [
       "<div>\n",
       "<style scoped>\n",
       "    .dataframe tbody tr th:only-of-type {\n",
       "        vertical-align: middle;\n",
       "    }\n",
       "\n",
       "    .dataframe tbody tr th {\n",
       "        vertical-align: top;\n",
       "    }\n",
       "\n",
       "    .dataframe thead th {\n",
       "        text-align: right;\n",
       "    }\n",
       "</style>\n",
       "<table border=\"1\" class=\"dataframe\">\n",
       "  <thead>\n",
       "    <tr style=\"text-align: right;\">\n",
       "      <th>output</th>\n",
       "      <th>0</th>\n",
       "      <th>1</th>\n",
       "      <th>All</th>\n",
       "    </tr>\n",
       "    <tr>\n",
       "      <th>row_0</th>\n",
       "      <th></th>\n",
       "      <th></th>\n",
       "      <th></th>\n",
       "    </tr>\n",
       "  </thead>\n",
       "  <tbody>\n",
       "    <tr>\n",
       "      <th>&lt;=0</th>\n",
       "      <td>44</td>\n",
       "      <td>119</td>\n",
       "      <td>163</td>\n",
       "    </tr>\n",
       "    <tr>\n",
       "      <th>&gt;0</th>\n",
       "      <td>94</td>\n",
       "      <td>46</td>\n",
       "      <td>140</td>\n",
       "    </tr>\n",
       "    <tr>\n",
       "      <th>All</th>\n",
       "      <td>138</td>\n",
       "      <td>165</td>\n",
       "      <td>303</td>\n",
       "    </tr>\n",
       "  </tbody>\n",
       "</table>\n",
       "</div>"
      ],
      "text/plain": [
       "output    0    1  All\n",
       "row_0                \n",
       "<=0      44  119  163\n",
       ">0       94   46  140\n",
       "All     138  165  303"
      ]
     },
     "execution_count": 86,
     "metadata": {},
     "output_type": "execute_result"
    }
   ],
   "source": [
    "pd.crosstab(np.where(df[\"prev_peak\"]>df[\"prev_peak\"].median(),\n",
    "                     \">\"+ str(int(df[\"prev_peak\"].median())) ,\n",
    "                     \"<=\" + str(int(df[\"prev_peak\"].median()))), df[\"output\"], margins=2)"
   ]
  },
  {
   "cell_type": "markdown",
   "id": "f3a8d991",
   "metadata": {},
   "source": [
    "### Patients with no prior peak also have higher chance of heart attack"
   ]
  },
  {
   "cell_type": "code",
   "execution_count": 87,
   "id": "ea35501b",
   "metadata": {},
   "outputs": [
    {
     "data": {
      "text/html": [
       "<div>\n",
       "<style scoped>\n",
       "    .dataframe tbody tr th:only-of-type {\n",
       "        vertical-align: middle;\n",
       "    }\n",
       "\n",
       "    .dataframe tbody tr th {\n",
       "        vertical-align: top;\n",
       "    }\n",
       "\n",
       "    .dataframe thead th {\n",
       "        text-align: right;\n",
       "    }\n",
       "</style>\n",
       "<table border=\"1\" class=\"dataframe\">\n",
       "  <thead>\n",
       "    <tr style=\"text-align: right;\">\n",
       "      <th>output</th>\n",
       "      <th>0</th>\n",
       "      <th>1</th>\n",
       "    </tr>\n",
       "    <tr>\n",
       "      <th>row_0</th>\n",
       "      <th></th>\n",
       "      <th></th>\n",
       "    </tr>\n",
       "  </thead>\n",
       "  <tbody>\n",
       "    <tr>\n",
       "      <th>&lt;=0</th>\n",
       "      <td>0.269939</td>\n",
       "      <td>0.730061</td>\n",
       "    </tr>\n",
       "    <tr>\n",
       "      <th>&gt;0</th>\n",
       "      <td>0.671429</td>\n",
       "      <td>0.328571</td>\n",
       "    </tr>\n",
       "  </tbody>\n",
       "</table>\n",
       "</div>"
      ],
      "text/plain": [
       "output         0         1\n",
       "row_0                     \n",
       "<=0     0.269939  0.730061\n",
       ">0      0.671429  0.328571"
      ]
     },
     "execution_count": 87,
     "metadata": {},
     "output_type": "execute_result"
    }
   ],
   "source": [
    "pd.crosstab(np.where(df[\"prev_peak\"]>df[\"prev_peak\"].median(),\n",
    "                     \">\"+ str(int(df[\"prev_peak\"].median())) ,\n",
    "                     \"<=\" + str(int(df[\"prev_peak\"].median()))), df[\"output\"], normalize=\"index\")"
   ]
  },
  {
   "cell_type": "markdown",
   "id": "93e4864d",
   "metadata": {},
   "source": [
    "### slope - output/heart attack"
   ]
  },
  {
   "cell_type": "code",
   "execution_count": 88,
   "id": "856b7fce",
   "metadata": {},
   "outputs": [
    {
     "data": {
      "text/html": [
       "<div>\n",
       "<style scoped>\n",
       "    .dataframe tbody tr th:only-of-type {\n",
       "        vertical-align: middle;\n",
       "    }\n",
       "\n",
       "    .dataframe tbody tr th {\n",
       "        vertical-align: top;\n",
       "    }\n",
       "\n",
       "    .dataframe thead th {\n",
       "        text-align: right;\n",
       "    }\n",
       "</style>\n",
       "<table border=\"1\" class=\"dataframe\">\n",
       "  <thead>\n",
       "    <tr style=\"text-align: right;\">\n",
       "      <th>output</th>\n",
       "      <th>0</th>\n",
       "      <th>1</th>\n",
       "      <th>All</th>\n",
       "    </tr>\n",
       "    <tr>\n",
       "      <th>row_0</th>\n",
       "      <th></th>\n",
       "      <th></th>\n",
       "      <th></th>\n",
       "    </tr>\n",
       "  </thead>\n",
       "  <tbody>\n",
       "    <tr>\n",
       "      <th>&lt;=1</th>\n",
       "      <td>103</td>\n",
       "      <td>58</td>\n",
       "      <td>161</td>\n",
       "    </tr>\n",
       "    <tr>\n",
       "      <th>&gt;1</th>\n",
       "      <td>35</td>\n",
       "      <td>107</td>\n",
       "      <td>142</td>\n",
       "    </tr>\n",
       "    <tr>\n",
       "      <th>All</th>\n",
       "      <td>138</td>\n",
       "      <td>165</td>\n",
       "      <td>303</td>\n",
       "    </tr>\n",
       "  </tbody>\n",
       "</table>\n",
       "</div>"
      ],
      "text/plain": [
       "output    0    1  All\n",
       "row_0                \n",
       "<=1     103   58  161\n",
       ">1       35  107  142\n",
       "All     138  165  303"
      ]
     },
     "execution_count": 88,
     "metadata": {},
     "output_type": "execute_result"
    }
   ],
   "source": [
    "pd.crosstab(np.where(df[\"slope\"]>df[\"slope\"].median(),\n",
    "                     \">\"+ str(int(df[\"slope\"].median())) ,\n",
    "                     \"<=\" + str(int(df[\"slope\"].median()))), df[\"output\"], margins=2)"
   ]
  },
  {
   "cell_type": "markdown",
   "id": "12eee233",
   "metadata": {},
   "source": [
    "### Patients with slope value greater than 1 having higher chance (~75%) of heart attack"
   ]
  },
  {
   "cell_type": "code",
   "execution_count": 89,
   "id": "17b6aaf3",
   "metadata": {},
   "outputs": [
    {
     "data": {
      "text/html": [
       "<div>\n",
       "<style scoped>\n",
       "    .dataframe tbody tr th:only-of-type {\n",
       "        vertical-align: middle;\n",
       "    }\n",
       "\n",
       "    .dataframe tbody tr th {\n",
       "        vertical-align: top;\n",
       "    }\n",
       "\n",
       "    .dataframe thead th {\n",
       "        text-align: right;\n",
       "    }\n",
       "</style>\n",
       "<table border=\"1\" class=\"dataframe\">\n",
       "  <thead>\n",
       "    <tr style=\"text-align: right;\">\n",
       "      <th>output</th>\n",
       "      <th>0</th>\n",
       "      <th>1</th>\n",
       "    </tr>\n",
       "    <tr>\n",
       "      <th>row_0</th>\n",
       "      <th></th>\n",
       "      <th></th>\n",
       "    </tr>\n",
       "  </thead>\n",
       "  <tbody>\n",
       "    <tr>\n",
       "      <th>&lt;=1</th>\n",
       "      <td>0.639752</td>\n",
       "      <td>0.360248</td>\n",
       "    </tr>\n",
       "    <tr>\n",
       "      <th>&gt;1</th>\n",
       "      <td>0.246479</td>\n",
       "      <td>0.753521</td>\n",
       "    </tr>\n",
       "  </tbody>\n",
       "</table>\n",
       "</div>"
      ],
      "text/plain": [
       "output         0         1\n",
       "row_0                     \n",
       "<=1     0.639752  0.360248\n",
       ">1      0.246479  0.753521"
      ]
     },
     "execution_count": 89,
     "metadata": {},
     "output_type": "execute_result"
    }
   ],
   "source": [
    "pd.crosstab(np.where(df[\"slope\"]>df[\"slope\"].median(),\n",
    "                     \">\"+ str(int(df[\"slope\"].median())) ,\n",
    "                     \"<=\" + str(int(df[\"slope\"].median()))), df[\"output\"], normalize=\"index\")"
   ]
  },
  {
   "cell_type": "markdown",
   "id": "c8bdc982",
   "metadata": {},
   "source": [
    "### vessels_num - output/heart attack"
   ]
  },
  {
   "cell_type": "code",
   "execution_count": 90,
   "id": "a063f5e6",
   "metadata": {},
   "outputs": [
    {
     "data": {
      "text/html": [
       "<div>\n",
       "<style scoped>\n",
       "    .dataframe tbody tr th:only-of-type {\n",
       "        vertical-align: middle;\n",
       "    }\n",
       "\n",
       "    .dataframe tbody tr th {\n",
       "        vertical-align: top;\n",
       "    }\n",
       "\n",
       "    .dataframe thead th {\n",
       "        text-align: right;\n",
       "    }\n",
       "</style>\n",
       "<table border=\"1\" class=\"dataframe\">\n",
       "  <thead>\n",
       "    <tr style=\"text-align: right;\">\n",
       "      <th>output</th>\n",
       "      <th>0</th>\n",
       "      <th>1</th>\n",
       "      <th>All</th>\n",
       "    </tr>\n",
       "    <tr>\n",
       "      <th>row_0</th>\n",
       "      <th></th>\n",
       "      <th></th>\n",
       "      <th></th>\n",
       "    </tr>\n",
       "  </thead>\n",
       "  <tbody>\n",
       "    <tr>\n",
       "      <th>&lt;=0</th>\n",
       "      <td>45</td>\n",
       "      <td>130</td>\n",
       "      <td>175</td>\n",
       "    </tr>\n",
       "    <tr>\n",
       "      <th>&gt;0</th>\n",
       "      <td>93</td>\n",
       "      <td>35</td>\n",
       "      <td>128</td>\n",
       "    </tr>\n",
       "    <tr>\n",
       "      <th>All</th>\n",
       "      <td>138</td>\n",
       "      <td>165</td>\n",
       "      <td>303</td>\n",
       "    </tr>\n",
       "  </tbody>\n",
       "</table>\n",
       "</div>"
      ],
      "text/plain": [
       "output    0    1  All\n",
       "row_0                \n",
       "<=0      45  130  175\n",
       ">0       93   35  128\n",
       "All     138  165  303"
      ]
     },
     "execution_count": 90,
     "metadata": {},
     "output_type": "execute_result"
    }
   ],
   "source": [
    "pd.crosstab(np.where(df[\"vessels_num\"]>df[\"vessels_num\"].median(),\n",
    "                     \">\"+ str(int(df[\"vessels_num\"].median())) ,\n",
    "                     \"<=\" + str(int(df[\"vessels_num\"].median()))), df[\"output\"], margins=2)"
   ]
  },
  {
   "cell_type": "markdown",
   "id": "1a78cbba",
   "metadata": {},
   "source": [
    "### Patients with 0 major vessels have higher chance (~74%) of heart attack"
   ]
  },
  {
   "cell_type": "code",
   "execution_count": 91,
   "id": "7b6c2b40",
   "metadata": {},
   "outputs": [
    {
     "data": {
      "text/html": [
       "<div>\n",
       "<style scoped>\n",
       "    .dataframe tbody tr th:only-of-type {\n",
       "        vertical-align: middle;\n",
       "    }\n",
       "\n",
       "    .dataframe tbody tr th {\n",
       "        vertical-align: top;\n",
       "    }\n",
       "\n",
       "    .dataframe thead th {\n",
       "        text-align: right;\n",
       "    }\n",
       "</style>\n",
       "<table border=\"1\" class=\"dataframe\">\n",
       "  <thead>\n",
       "    <tr style=\"text-align: right;\">\n",
       "      <th>output</th>\n",
       "      <th>0</th>\n",
       "      <th>1</th>\n",
       "    </tr>\n",
       "    <tr>\n",
       "      <th>row_0</th>\n",
       "      <th></th>\n",
       "      <th></th>\n",
       "    </tr>\n",
       "  </thead>\n",
       "  <tbody>\n",
       "    <tr>\n",
       "      <th>&lt;=0</th>\n",
       "      <td>0.257143</td>\n",
       "      <td>0.742857</td>\n",
       "    </tr>\n",
       "    <tr>\n",
       "      <th>&gt;0</th>\n",
       "      <td>0.726562</td>\n",
       "      <td>0.273438</td>\n",
       "    </tr>\n",
       "  </tbody>\n",
       "</table>\n",
       "</div>"
      ],
      "text/plain": [
       "output         0         1\n",
       "row_0                     \n",
       "<=0     0.257143  0.742857\n",
       ">0      0.726562  0.273438"
      ]
     },
     "execution_count": 91,
     "metadata": {},
     "output_type": "execute_result"
    }
   ],
   "source": [
    "pd.crosstab(np.where(df[\"vessels_num\"]>df[\"vessels_num\"].median(),\n",
    "                     \">\"+ str(int(df[\"vessels_num\"].median())) ,\n",
    "                     \"<=\" + str(int(df[\"vessels_num\"].median()))), df[\"output\"], normalize=\"index\")"
   ]
  },
  {
   "cell_type": "markdown",
   "id": "a40044d5",
   "metadata": {},
   "source": [
    "### thal_result - output/heart attack"
   ]
  },
  {
   "cell_type": "code",
   "execution_count": 92,
   "id": "e4d60048",
   "metadata": {},
   "outputs": [
    {
     "data": {
      "text/html": [
       "<div>\n",
       "<style scoped>\n",
       "    .dataframe tbody tr th:only-of-type {\n",
       "        vertical-align: middle;\n",
       "    }\n",
       "\n",
       "    .dataframe tbody tr th {\n",
       "        vertical-align: top;\n",
       "    }\n",
       "\n",
       "    .dataframe thead th {\n",
       "        text-align: right;\n",
       "    }\n",
       "</style>\n",
       "<table border=\"1\" class=\"dataframe\">\n",
       "  <thead>\n",
       "    <tr style=\"text-align: right;\">\n",
       "      <th>output</th>\n",
       "      <th>0</th>\n",
       "      <th>1</th>\n",
       "      <th>All</th>\n",
       "    </tr>\n",
       "    <tr>\n",
       "      <th>row_0</th>\n",
       "      <th></th>\n",
       "      <th></th>\n",
       "      <th></th>\n",
       "    </tr>\n",
       "  </thead>\n",
       "  <tbody>\n",
       "    <tr>\n",
       "      <th>&lt;=2</th>\n",
       "      <td>49</td>\n",
       "      <td>137</td>\n",
       "      <td>186</td>\n",
       "    </tr>\n",
       "    <tr>\n",
       "      <th>&gt;2</th>\n",
       "      <td>89</td>\n",
       "      <td>28</td>\n",
       "      <td>117</td>\n",
       "    </tr>\n",
       "    <tr>\n",
       "      <th>All</th>\n",
       "      <td>138</td>\n",
       "      <td>165</td>\n",
       "      <td>303</td>\n",
       "    </tr>\n",
       "  </tbody>\n",
       "</table>\n",
       "</div>"
      ],
      "text/plain": [
       "output    0    1  All\n",
       "row_0                \n",
       "<=2      49  137  186\n",
       ">2       89   28  117\n",
       "All     138  165  303"
      ]
     },
     "execution_count": 92,
     "metadata": {},
     "output_type": "execute_result"
    }
   ],
   "source": [
    "pd.crosstab(np.where(df[\"thal_result\"]>df[\"thal_result\"].median(),\n",
    "                     \">\"+ str(int(df[\"thal_result\"].median())) ,\n",
    "                     \"<=\" + str(int(df[\"thal_result\"].median()))), df[\"output\"], margins=2)"
   ]
  },
  {
   "cell_type": "markdown",
   "id": "0dbd855a",
   "metadata": {},
   "source": [
    "### Thalium Stress Test result with <=-2 values have higher chance (~74%) of heart attack"
   ]
  },
  {
   "cell_type": "code",
   "execution_count": 93,
   "id": "99107ac5",
   "metadata": {},
   "outputs": [
    {
     "data": {
      "text/html": [
       "<div>\n",
       "<style scoped>\n",
       "    .dataframe tbody tr th:only-of-type {\n",
       "        vertical-align: middle;\n",
       "    }\n",
       "\n",
       "    .dataframe tbody tr th {\n",
       "        vertical-align: top;\n",
       "    }\n",
       "\n",
       "    .dataframe thead th {\n",
       "        text-align: right;\n",
       "    }\n",
       "</style>\n",
       "<table border=\"1\" class=\"dataframe\">\n",
       "  <thead>\n",
       "    <tr style=\"text-align: right;\">\n",
       "      <th>output</th>\n",
       "      <th>0</th>\n",
       "      <th>1</th>\n",
       "    </tr>\n",
       "    <tr>\n",
       "      <th>row_0</th>\n",
       "      <th></th>\n",
       "      <th></th>\n",
       "    </tr>\n",
       "  </thead>\n",
       "  <tbody>\n",
       "    <tr>\n",
       "      <th>&lt;=2</th>\n",
       "      <td>0.263441</td>\n",
       "      <td>0.736559</td>\n",
       "    </tr>\n",
       "    <tr>\n",
       "      <th>&gt;2</th>\n",
       "      <td>0.760684</td>\n",
       "      <td>0.239316</td>\n",
       "    </tr>\n",
       "  </tbody>\n",
       "</table>\n",
       "</div>"
      ],
      "text/plain": [
       "output         0         1\n",
       "row_0                     \n",
       "<=2     0.263441  0.736559\n",
       ">2      0.760684  0.239316"
      ]
     },
     "execution_count": 93,
     "metadata": {},
     "output_type": "execute_result"
    }
   ],
   "source": [
    "pd.crosstab(np.where(df[\"thal_result\"]>df[\"thal_result\"].median(),\n",
    "                     \">\"+ str(int(df[\"thal_result\"].median())) ,\n",
    "                     \"<=\" + str(int(df[\"thal_result\"].median()))), df[\"output\"], normalize=\"index\")"
   ]
  },
  {
   "cell_type": "markdown",
   "id": "2ddbb26a",
   "metadata": {},
   "source": [
    "### Checking correlation between numerical features"
   ]
  },
  {
   "cell_type": "code",
   "execution_count": 94,
   "id": "aad842ac",
   "metadata": {},
   "outputs": [],
   "source": [
    "numrc_feats = [\"age\", \"rest_blood_pressure\", \"cholesterol\", \"max_heart_rate\",\n",
    "               \"prev_peak\", \"slope\", \"vessels_num\", \"thal_result\"]"
   ]
  },
  {
   "cell_type": "code",
   "execution_count": 95,
   "id": "6397ce0d",
   "metadata": {},
   "outputs": [],
   "source": [
    "numrc_corr_vals = df[numrc_feats].corr()"
   ]
  },
  {
   "cell_type": "code",
   "execution_count": 96,
   "id": "b7ae8d14",
   "metadata": {},
   "outputs": [
    {
     "data": {
      "text/html": [
       "<div>\n",
       "<style scoped>\n",
       "    .dataframe tbody tr th:only-of-type {\n",
       "        vertical-align: middle;\n",
       "    }\n",
       "\n",
       "    .dataframe tbody tr th {\n",
       "        vertical-align: top;\n",
       "    }\n",
       "\n",
       "    .dataframe thead th {\n",
       "        text-align: right;\n",
       "    }\n",
       "</style>\n",
       "<table border=\"1\" class=\"dataframe\">\n",
       "  <thead>\n",
       "    <tr style=\"text-align: right;\">\n",
       "      <th></th>\n",
       "      <th>age</th>\n",
       "      <th>rest_blood_pressure</th>\n",
       "      <th>cholesterol</th>\n",
       "      <th>max_heart_rate</th>\n",
       "      <th>prev_peak</th>\n",
       "      <th>slope</th>\n",
       "      <th>vessels_num</th>\n",
       "      <th>thal_result</th>\n",
       "    </tr>\n",
       "  </thead>\n",
       "  <tbody>\n",
       "    <tr>\n",
       "      <th>age</th>\n",
       "      <td>1.000000</td>\n",
       "      <td>0.279351</td>\n",
       "      <td>0.213678</td>\n",
       "      <td>-0.398522</td>\n",
       "      <td>0.210013</td>\n",
       "      <td>-0.168814</td>\n",
       "      <td>0.276326</td>\n",
       "      <td>0.068001</td>\n",
       "    </tr>\n",
       "    <tr>\n",
       "      <th>rest_blood_pressure</th>\n",
       "      <td>0.279351</td>\n",
       "      <td>1.000000</td>\n",
       "      <td>0.123174</td>\n",
       "      <td>-0.046698</td>\n",
       "      <td>0.193216</td>\n",
       "      <td>-0.121475</td>\n",
       "      <td>0.101389</td>\n",
       "      <td>0.062210</td>\n",
       "    </tr>\n",
       "    <tr>\n",
       "      <th>cholesterol</th>\n",
       "      <td>0.213678</td>\n",
       "      <td>0.123174</td>\n",
       "      <td>1.000000</td>\n",
       "      <td>-0.009940</td>\n",
       "      <td>0.053952</td>\n",
       "      <td>-0.004038</td>\n",
       "      <td>0.070511</td>\n",
       "      <td>0.098803</td>\n",
       "    </tr>\n",
       "    <tr>\n",
       "      <th>max_heart_rate</th>\n",
       "      <td>-0.398522</td>\n",
       "      <td>-0.046698</td>\n",
       "      <td>-0.009940</td>\n",
       "      <td>1.000000</td>\n",
       "      <td>-0.344187</td>\n",
       "      <td>0.386784</td>\n",
       "      <td>-0.213177</td>\n",
       "      <td>-0.096439</td>\n",
       "    </tr>\n",
       "    <tr>\n",
       "      <th>prev_peak</th>\n",
       "      <td>0.210013</td>\n",
       "      <td>0.193216</td>\n",
       "      <td>0.053952</td>\n",
       "      <td>-0.344187</td>\n",
       "      <td>1.000000</td>\n",
       "      <td>-0.577537</td>\n",
       "      <td>0.222682</td>\n",
       "      <td>0.210244</td>\n",
       "    </tr>\n",
       "    <tr>\n",
       "      <th>slope</th>\n",
       "      <td>-0.168814</td>\n",
       "      <td>-0.121475</td>\n",
       "      <td>-0.004038</td>\n",
       "      <td>0.386784</td>\n",
       "      <td>-0.577537</td>\n",
       "      <td>1.000000</td>\n",
       "      <td>-0.080155</td>\n",
       "      <td>-0.104764</td>\n",
       "    </tr>\n",
       "    <tr>\n",
       "      <th>vessels_num</th>\n",
       "      <td>0.276326</td>\n",
       "      <td>0.101389</td>\n",
       "      <td>0.070511</td>\n",
       "      <td>-0.213177</td>\n",
       "      <td>0.222682</td>\n",
       "      <td>-0.080155</td>\n",
       "      <td>1.000000</td>\n",
       "      <td>0.151832</td>\n",
       "    </tr>\n",
       "    <tr>\n",
       "      <th>thal_result</th>\n",
       "      <td>0.068001</td>\n",
       "      <td>0.062210</td>\n",
       "      <td>0.098803</td>\n",
       "      <td>-0.096439</td>\n",
       "      <td>0.210244</td>\n",
       "      <td>-0.104764</td>\n",
       "      <td>0.151832</td>\n",
       "      <td>1.000000</td>\n",
       "    </tr>\n",
       "  </tbody>\n",
       "</table>\n",
       "</div>"
      ],
      "text/plain": [
       "                          age  rest_blood_pressure  cholesterol  \\\n",
       "age                  1.000000             0.279351     0.213678   \n",
       "rest_blood_pressure  0.279351             1.000000     0.123174   \n",
       "cholesterol          0.213678             0.123174     1.000000   \n",
       "max_heart_rate      -0.398522            -0.046698    -0.009940   \n",
       "prev_peak            0.210013             0.193216     0.053952   \n",
       "slope               -0.168814            -0.121475    -0.004038   \n",
       "vessels_num          0.276326             0.101389     0.070511   \n",
       "thal_result          0.068001             0.062210     0.098803   \n",
       "\n",
       "                     max_heart_rate  prev_peak     slope  vessels_num  \\\n",
       "age                       -0.398522   0.210013 -0.168814     0.276326   \n",
       "rest_blood_pressure       -0.046698   0.193216 -0.121475     0.101389   \n",
       "cholesterol               -0.009940   0.053952 -0.004038     0.070511   \n",
       "max_heart_rate             1.000000  -0.344187  0.386784    -0.213177   \n",
       "prev_peak                 -0.344187   1.000000 -0.577537     0.222682   \n",
       "slope                      0.386784  -0.577537  1.000000    -0.080155   \n",
       "vessels_num               -0.213177   0.222682 -0.080155     1.000000   \n",
       "thal_result               -0.096439   0.210244 -0.104764     0.151832   \n",
       "\n",
       "                     thal_result  \n",
       "age                     0.068001  \n",
       "rest_blood_pressure     0.062210  \n",
       "cholesterol             0.098803  \n",
       "max_heart_rate         -0.096439  \n",
       "prev_peak               0.210244  \n",
       "slope                  -0.104764  \n",
       "vessels_num             0.151832  \n",
       "thal_result             1.000000  "
      ]
     },
     "execution_count": 96,
     "metadata": {},
     "output_type": "execute_result"
    }
   ],
   "source": [
    "numrc_corr_vals"
   ]
  },
  {
   "cell_type": "markdown",
   "id": "7efd5219",
   "metadata": {},
   "source": [
    "### No Multicollinearity between numerical features "
   ]
  },
  {
   "cell_type": "code",
   "execution_count": 97,
   "id": "d0e28ddf",
   "metadata": {},
   "outputs": [
    {
     "data": {
      "image/png": "[encoded data removed]",
      "text/plain": [
       "<Figure size 432x288 with 2 Axes>"
      ]
     },
     "metadata": {
      "needs_background": "light"
     },
     "output_type": "display_data"
    }
   ],
   "source": [
    "sns.heatmap(numrc_corr_vals, xticklabels=numrc_corr_vals.columns, yticklabels=numrc_corr_vals.columns);"
   ]
  },
  {
   "cell_type": "markdown",
   "id": "e87e46d5",
   "metadata": {},
   "source": [
    "### Function to calculate the cramers_v coefficient value"
   ]
  },
  {
   "cell_type": "code",
   "execution_count": 98,
   "id": "70ad0fc7",
   "metadata": {},
   "outputs": [],
   "source": [
    "def cramers_V(var1,var2) :\n",
    "    \"\"\" This function is used to calculate the cramers_v correlation coefficient between two categorical variables \"\"\"\n",
    "    crosstab =np.array(pd.crosstab(var1, var2, rownames=None, colnames=None)) # Cross table building\n",
    "    stat = chi2_contingency(crosstab)[0] # Keeping of the test statistic of the Chi2 test\n",
    "    obs = np.sum(crosstab) # Number of observations\n",
    "    mini = min(crosstab.shape)-1 # Take the minimum value between the columns and the rows of the cross table\n",
    "    return (stat/(obs*mini))"
   ]
  },
  {
   "cell_type": "code",
   "execution_count": 99,
   "id": "6ed46f5c",
   "metadata": {},
   "outputs": [],
   "source": [
    "categ_feats = [\"chest_pain_type\", \"rest_ecg\", \"ex_ind_ang\", \"gender\", \"fast_blood_sugar\"]"
   ]
  },
  {
   "cell_type": "markdown",
   "id": "1ca2198e",
   "metadata": {},
   "source": [
    "### Checking cramers v correlation between categorical features"
   ]
  },
  {
   "cell_type": "code",
   "execution_count": 100,
   "id": "d733865f",
   "metadata": {},
   "outputs": [],
   "source": [
    "rows = []\n",
    "for var1 in df[categ_feats]:\n",
    "    col = []\n",
    "    for var2 in df[categ_feats] :\n",
    "        cramers = cramers_V(df[var1], df[var2]) # Cramer's V test\n",
    "        col.append(round(cramers,2)) # Keeping of the rounded value of the Cramer's V  \n",
    "    rows.append(col)\n",
    "\n",
    "cramers_results = np.array(rows)\n",
    "cramers_v_corr_df = pd.DataFrame(cramers_results, columns = df[categ_feats].columns, index = df[categ_feats].columns)\n"
   ]
  },
  {
   "cell_type": "code",
   "execution_count": 101,
   "id": "70285c3b",
   "metadata": {},
   "outputs": [
    {
     "data": {
      "text/html": [
       "<div>\n",
       "<style scoped>\n",
       "    .dataframe tbody tr th:only-of-type {\n",
       "        vertical-align: middle;\n",
       "    }\n",
       "\n",
       "    .dataframe tbody tr th {\n",
       "        vertical-align: top;\n",
       "    }\n",
       "\n",
       "    .dataframe thead th {\n",
       "        text-align: right;\n",
       "    }\n",
       "</style>\n",
       "<table border=\"1\" class=\"dataframe\">\n",
       "  <thead>\n",
       "    <tr style=\"text-align: right;\">\n",
       "      <th></th>\n",
       "      <th>chest_pain_type</th>\n",
       "      <th>rest_ecg</th>\n",
       "      <th>ex_ind_ang</th>\n",
       "      <th>gender</th>\n",
       "      <th>fast_blood_sugar</th>\n",
       "    </tr>\n",
       "  </thead>\n",
       "  <tbody>\n",
       "    <tr>\n",
       "      <th>chest_pain_type</th>\n",
       "      <td>1.00</td>\n",
       "      <td>0.02</td>\n",
       "      <td>0.22</td>\n",
       "      <td>0.02</td>\n",
       "      <td>0.01</td>\n",
       "    </tr>\n",
       "    <tr>\n",
       "      <th>rest_ecg</th>\n",
       "      <td>0.02</td>\n",
       "      <td>1.00</td>\n",
       "      <td>0.01</td>\n",
       "      <td>0.01</td>\n",
       "      <td>0.01</td>\n",
       "    </tr>\n",
       "    <tr>\n",
       "      <th>ex_ind_ang</th>\n",
       "      <td>0.22</td>\n",
       "      <td>0.01</td>\n",
       "      <td>0.99</td>\n",
       "      <td>0.02</td>\n",
       "      <td>0.00</td>\n",
       "    </tr>\n",
       "    <tr>\n",
       "      <th>gender</th>\n",
       "      <td>0.02</td>\n",
       "      <td>0.01</td>\n",
       "      <td>0.02</td>\n",
       "      <td>0.98</td>\n",
       "      <td>0.00</td>\n",
       "    </tr>\n",
       "    <tr>\n",
       "      <th>fast_blood_sugar</th>\n",
       "      <td>0.01</td>\n",
       "      <td>0.01</td>\n",
       "      <td>0.00</td>\n",
       "      <td>0.00</td>\n",
       "      <td>0.97</td>\n",
       "    </tr>\n",
       "  </tbody>\n",
       "</table>\n",
       "</div>"
      ],
      "text/plain": [
       "                  chest_pain_type  rest_ecg  ex_ind_ang  gender  \\\n",
       "chest_pain_type              1.00      0.02        0.22    0.02   \n",
       "rest_ecg                     0.02      1.00        0.01    0.01   \n",
       "ex_ind_ang                   0.22      0.01        0.99    0.02   \n",
       "gender                       0.02      0.01        0.02    0.98   \n",
       "fast_blood_sugar             0.01      0.01        0.00    0.00   \n",
       "\n",
       "                  fast_blood_sugar  \n",
       "chest_pain_type               0.01  \n",
       "rest_ecg                      0.01  \n",
       "ex_ind_ang                    0.00  \n",
       "gender                        0.00  \n",
       "fast_blood_sugar              0.97  "
      ]
     },
     "execution_count": 101,
     "metadata": {},
     "output_type": "execute_result"
    }
   ],
   "source": [
    "cramers_v_corr_df"
   ]
  },
  {
   "cell_type": "markdown",
   "id": "f7380b7d",
   "metadata": {},
   "source": [
    "### No Multicollinearity between categorical features "
   ]
  },
  {
   "cell_type": "code",
   "execution_count": 102,
   "id": "c4029d61",
   "metadata": {},
   "outputs": [
    {
     "data": {
      "image/png": "[encoded data removed]",
      "text/plain": [
       "<Figure size 432x288 with 2 Axes>"
      ]
     },
     "metadata": {
      "needs_background": "light"
     },
     "output_type": "display_data"
    }
   ],
   "source": [
    "sns.heatmap(cramers_v_corr_df, xticklabels=cramers_v_corr_df.columns, yticklabels=cramers_v_corr_df.columns);"
   ]
  },
  {
   "cell_type": "code",
   "execution_count": 103,
   "id": "f42961b0",
   "metadata": {},
   "outputs": [],
   "source": [
    "df_prep = df.copy()"
   ]
  },
  {
   "cell_type": "markdown",
   "id": "5300139a",
   "metadata": {},
   "source": [
    "## Data Preparation (Missing value analysis (if any), feature engineering)"
   ]
  },
  {
   "cell_type": "markdown",
   "id": "08272734",
   "metadata": {},
   "source": [
    "### Replacing all missing values with separate category \"NA\" because ~47% of missing values are presented in chest pain type column"
   ]
  },
  {
   "cell_type": "code",
   "execution_count": 104,
   "id": "240408dc",
   "metadata": {},
   "outputs": [],
   "source": [
    "df_prep[\"chest_pain_type\"] = df_prep[\"chest_pain_type\"].fillna(\"NA\")"
   ]
  },
  {
   "cell_type": "markdown",
   "id": "fd142ae8",
   "metadata": {},
   "source": [
    "### Combining low frequent categories"
   ]
  },
  {
   "cell_type": "code",
   "execution_count": 105,
   "id": "6a1f20ab",
   "metadata": {},
   "outputs": [],
   "source": [
    "df_prep.loc[df_prep[\"rest_ecg\"] == \"Left ventricular hypertrophy\", \"rest_ecg\"] = \"Normal\""
   ]
  },
  {
   "cell_type": "markdown",
   "id": "e989f653",
   "metadata": {},
   "source": [
    "###  Encoding of Binary catagorical variables"
   ]
  },
  {
   "cell_type": "code",
   "execution_count": 106,
   "id": "bb09b536",
   "metadata": {},
   "outputs": [],
   "source": [
    "df_prep[\"ex_ind_ang\"] = df_prep[\"ex_ind_ang\"].map({\"Yes\" : 1, \"No\" : 0})"
   ]
  },
  {
   "cell_type": "code",
   "execution_count": 107,
   "id": "2d38319e",
   "metadata": {},
   "outputs": [],
   "source": [
    "df_prep[\"fast_blood_sugar\"] = df_prep[\"fast_blood_sugar\"].map({\"Yes\" : 1, \"No\" : 0})"
   ]
  },
  {
   "cell_type": "code",
   "execution_count": 108,
   "id": "c40aa263",
   "metadata": {},
   "outputs": [],
   "source": [
    "df_prep[\"rest_ecg\"] = df_prep[\"rest_ecg\"].map({\"ST-T wave normality\" : 1, \"Normal\" : 0})"
   ]
  },
  {
   "cell_type": "markdown",
   "id": "a8e1c381",
   "metadata": {},
   "source": [
    "### one hot encoding"
   ]
  },
  {
   "cell_type": "code",
   "execution_count": 109,
   "id": "b5731441",
   "metadata": {},
   "outputs": [],
   "source": [
    "df_categ_ohe = pd.get_dummies(df_prep[categ_feats])"
   ]
  },
  {
   "cell_type": "code",
   "execution_count": 110,
   "id": "ae2b6c5d",
   "metadata": {},
   "outputs": [
    {
     "data": {
      "text/html": [
       "<div>\n",
       "<style scoped>\n",
       "    .dataframe tbody tr th:only-of-type {\n",
       "        vertical-align: middle;\n",
       "    }\n",
       "\n",
       "    .dataframe tbody tr th {\n",
       "        vertical-align: top;\n",
       "    }\n",
       "\n",
       "    .dataframe thead th {\n",
       "        text-align: right;\n",
       "    }\n",
       "</style>\n",
       "<table border=\"1\" class=\"dataframe\">\n",
       "  <thead>\n",
       "    <tr style=\"text-align: right;\">\n",
       "      <th></th>\n",
       "      <th>rest_ecg</th>\n",
       "      <th>ex_ind_ang</th>\n",
       "      <th>gender</th>\n",
       "      <th>fast_blood_sugar</th>\n",
       "      <th>chest_pain_type_Atypical angina</th>\n",
       "      <th>chest_pain_type_NA</th>\n",
       "      <th>chest_pain_type_Non-anginal pain</th>\n",
       "      <th>chest_pain_type_Typical angina</th>\n",
       "    </tr>\n",
       "  </thead>\n",
       "  <tbody>\n",
       "    <tr>\n",
       "      <th>0</th>\n",
       "      <td>0</td>\n",
       "      <td>0</td>\n",
       "      <td>1</td>\n",
       "      <td>1</td>\n",
       "      <td>0</td>\n",
       "      <td>0</td>\n",
       "      <td>1</td>\n",
       "      <td>0</td>\n",
       "    </tr>\n",
       "    <tr>\n",
       "      <th>1</th>\n",
       "      <td>1</td>\n",
       "      <td>0</td>\n",
       "      <td>1</td>\n",
       "      <td>0</td>\n",
       "      <td>1</td>\n",
       "      <td>0</td>\n",
       "      <td>0</td>\n",
       "      <td>0</td>\n",
       "    </tr>\n",
       "    <tr>\n",
       "      <th>2</th>\n",
       "      <td>0</td>\n",
       "      <td>0</td>\n",
       "      <td>0</td>\n",
       "      <td>0</td>\n",
       "      <td>0</td>\n",
       "      <td>0</td>\n",
       "      <td>0</td>\n",
       "      <td>1</td>\n",
       "    </tr>\n",
       "    <tr>\n",
       "      <th>3</th>\n",
       "      <td>1</td>\n",
       "      <td>0</td>\n",
       "      <td>1</td>\n",
       "      <td>0</td>\n",
       "      <td>0</td>\n",
       "      <td>0</td>\n",
       "      <td>0</td>\n",
       "      <td>1</td>\n",
       "    </tr>\n",
       "    <tr>\n",
       "      <th>4</th>\n",
       "      <td>1</td>\n",
       "      <td>1</td>\n",
       "      <td>0</td>\n",
       "      <td>0</td>\n",
       "      <td>0</td>\n",
       "      <td>1</td>\n",
       "      <td>0</td>\n",
       "      <td>0</td>\n",
       "    </tr>\n",
       "  </tbody>\n",
       "</table>\n",
       "</div>"
      ],
      "text/plain": [
       "   rest_ecg  ex_ind_ang  gender  fast_blood_sugar  \\\n",
       "0         0           0       1                 1   \n",
       "1         1           0       1                 0   \n",
       "2         0           0       0                 0   \n",
       "3         1           0       1                 0   \n",
       "4         1           1       0                 0   \n",
       "\n",
       "   chest_pain_type_Atypical angina  chest_pain_type_NA  \\\n",
       "0                                0                   0   \n",
       "1                                1                   0   \n",
       "2                                0                   0   \n",
       "3                                0                   0   \n",
       "4                                0                   1   \n",
       "\n",
       "   chest_pain_type_Non-anginal pain  chest_pain_type_Typical angina  \n",
       "0                                 1                               0  \n",
       "1                                 0                               0  \n",
       "2                                 0                               1  \n",
       "3                                 0                               1  \n",
       "4                                 0                               0  "
      ]
     },
     "execution_count": 110,
     "metadata": {},
     "output_type": "execute_result"
    }
   ],
   "source": [
    "df_categ_ohe.head()"
   ]
  },
  {
   "cell_type": "code",
   "execution_count": 111,
   "id": "c71f8ac7",
   "metadata": {},
   "outputs": [],
   "source": [
    "df_model_feat = pd.concat([df_categ_ohe, df[numrc_feats]], axis=1)"
   ]
  },
  {
   "cell_type": "code",
   "execution_count": 112,
   "id": "2363d0e9",
   "metadata": {},
   "outputs": [
    {
     "data": {
      "text/plain": [
       "(303, 16)"
      ]
     },
     "execution_count": 112,
     "metadata": {},
     "output_type": "execute_result"
    }
   ],
   "source": [
    "df_model_feat.shape"
   ]
  },
  {
   "cell_type": "code",
   "execution_count": 113,
   "id": "17dbcad5",
   "metadata": {},
   "outputs": [
    {
     "data": {
      "text/html": [
       "<div>\n",
       "<style scoped>\n",
       "    .dataframe tbody tr th:only-of-type {\n",
       "        vertical-align: middle;\n",
       "    }\n",
       "\n",
       "    .dataframe tbody tr th {\n",
       "        vertical-align: top;\n",
       "    }\n",
       "\n",
       "    .dataframe thead th {\n",
       "        text-align: right;\n",
       "    }\n",
       "</style>\n",
       "<table border=\"1\" class=\"dataframe\">\n",
       "  <thead>\n",
       "    <tr style=\"text-align: right;\">\n",
       "      <th></th>\n",
       "      <th>rest_ecg</th>\n",
       "      <th>ex_ind_ang</th>\n",
       "      <th>gender</th>\n",
       "      <th>fast_blood_sugar</th>\n",
       "      <th>chest_pain_type_Atypical angina</th>\n",
       "      <th>chest_pain_type_NA</th>\n",
       "      <th>chest_pain_type_Non-anginal pain</th>\n",
       "      <th>chest_pain_type_Typical angina</th>\n",
       "      <th>age</th>\n",
       "      <th>rest_blood_pressure</th>\n",
       "      <th>cholesterol</th>\n",
       "      <th>max_heart_rate</th>\n",
       "      <th>prev_peak</th>\n",
       "      <th>slope</th>\n",
       "      <th>vessels_num</th>\n",
       "      <th>thal_result</th>\n",
       "    </tr>\n",
       "  </thead>\n",
       "  <tbody>\n",
       "    <tr>\n",
       "      <th>0</th>\n",
       "      <td>0</td>\n",
       "      <td>0</td>\n",
       "      <td>1</td>\n",
       "      <td>1</td>\n",
       "      <td>0</td>\n",
       "      <td>0</td>\n",
       "      <td>1</td>\n",
       "      <td>0</td>\n",
       "      <td>63</td>\n",
       "      <td>145</td>\n",
       "      <td>233</td>\n",
       "      <td>150</td>\n",
       "      <td>2.3</td>\n",
       "      <td>0</td>\n",
       "      <td>0</td>\n",
       "      <td>1</td>\n",
       "    </tr>\n",
       "    <tr>\n",
       "      <th>1</th>\n",
       "      <td>1</td>\n",
       "      <td>0</td>\n",
       "      <td>1</td>\n",
       "      <td>0</td>\n",
       "      <td>1</td>\n",
       "      <td>0</td>\n",
       "      <td>0</td>\n",
       "      <td>0</td>\n",
       "      <td>37</td>\n",
       "      <td>130</td>\n",
       "      <td>250</td>\n",
       "      <td>187</td>\n",
       "      <td>3.5</td>\n",
       "      <td>0</td>\n",
       "      <td>0</td>\n",
       "      <td>2</td>\n",
       "    </tr>\n",
       "    <tr>\n",
       "      <th>2</th>\n",
       "      <td>0</td>\n",
       "      <td>0</td>\n",
       "      <td>0</td>\n",
       "      <td>0</td>\n",
       "      <td>0</td>\n",
       "      <td>0</td>\n",
       "      <td>0</td>\n",
       "      <td>1</td>\n",
       "      <td>41</td>\n",
       "      <td>130</td>\n",
       "      <td>204</td>\n",
       "      <td>172</td>\n",
       "      <td>1.4</td>\n",
       "      <td>2</td>\n",
       "      <td>0</td>\n",
       "      <td>2</td>\n",
       "    </tr>\n",
       "    <tr>\n",
       "      <th>3</th>\n",
       "      <td>1</td>\n",
       "      <td>0</td>\n",
       "      <td>1</td>\n",
       "      <td>0</td>\n",
       "      <td>0</td>\n",
       "      <td>0</td>\n",
       "      <td>0</td>\n",
       "      <td>1</td>\n",
       "      <td>56</td>\n",
       "      <td>120</td>\n",
       "      <td>236</td>\n",
       "      <td>178</td>\n",
       "      <td>0.8</td>\n",
       "      <td>2</td>\n",
       "      <td>0</td>\n",
       "      <td>2</td>\n",
       "    </tr>\n",
       "    <tr>\n",
       "      <th>4</th>\n",
       "      <td>1</td>\n",
       "      <td>1</td>\n",
       "      <td>0</td>\n",
       "      <td>0</td>\n",
       "      <td>0</td>\n",
       "      <td>1</td>\n",
       "      <td>0</td>\n",
       "      <td>0</td>\n",
       "      <td>57</td>\n",
       "      <td>120</td>\n",
       "      <td>354</td>\n",
       "      <td>163</td>\n",
       "      <td>0.6</td>\n",
       "      <td>2</td>\n",
       "      <td>0</td>\n",
       "      <td>2</td>\n",
       "    </tr>\n",
       "  </tbody>\n",
       "</table>\n",
       "</div>"
      ],
      "text/plain": [
       "   rest_ecg  ex_ind_ang  gender  fast_blood_sugar  \\\n",
       "0         0           0       1                 1   \n",
       "1         1           0       1                 0   \n",
       "2         0           0       0                 0   \n",
       "3         1           0       1                 0   \n",
       "4         1           1       0                 0   \n",
       "\n",
       "   chest_pain_type_Atypical angina  chest_pain_type_NA  \\\n",
       "0                                0                   0   \n",
       "1                                1                   0   \n",
       "2                                0                   0   \n",
       "3                                0                   0   \n",
       "4                                0                   1   \n",
       "\n",
       "   chest_pain_type_Non-anginal pain  chest_pain_type_Typical angina  age  \\\n",
       "0                                 1                               0   63   \n",
       "1                                 0                               0   37   \n",
       "2                                 0                               1   41   \n",
       "3                                 0                               1   56   \n",
       "4                                 0                               0   57   \n",
       "\n",
       "   rest_blood_pressure  cholesterol  max_heart_rate  prev_peak  slope  \\\n",
       "0                  145          233             150        2.3      0   \n",
       "1                  130          250             187        3.5      0   \n",
       "2                  130          204             172        1.4      2   \n",
       "3                  120          236             178        0.8      2   \n",
       "4                  120          354             163        0.6      2   \n",
       "\n",
       "   vessels_num  thal_result  \n",
       "0            0            1  \n",
       "1            0            2  \n",
       "2            0            2  \n",
       "3            0            2  \n",
       "4            0            2  "
      ]
     },
     "execution_count": 113,
     "metadata": {},
     "output_type": "execute_result"
    }
   ],
   "source": [
    "df_model_feat.head()"
   ]
  },
  {
   "cell_type": "markdown",
   "id": "18bfcc63",
   "metadata": {},
   "source": [
    "### Dividing data into train and test"
   ]
  },
  {
   "cell_type": "code",
   "execution_count": 114,
   "id": "277b0243",
   "metadata": {},
   "outputs": [],
   "source": [
    "X_train, X_test, y_train, y_test = train_test_split(df_model_feat, df_prep[\"output\"], test_size=0.3, \n",
    "                                                    random_state=42, stratify=df_prep[\"output\"])"
   ]
  },
  {
   "cell_type": "markdown",
   "id": "5db1e25f",
   "metadata": {},
   "source": [
    "### Building baseline logistic regression model"
   ]
  },
  {
   "cell_type": "code",
   "execution_count": 115,
   "id": "1d54d889",
   "metadata": {},
   "outputs": [
    {
     "data": {
      "text/plain": [
       "LogisticRegression(random_state=42, solver='liblinear')"
      ]
     },
     "execution_count": 115,
     "metadata": {},
     "output_type": "execute_result"
    }
   ],
   "source": [
    "logreg_model = LogisticRegression(solver=\"liblinear\", random_state=42)\n",
    "logreg_model.fit(X_train, y_train)"
   ]
  },
  {
   "cell_type": "markdown",
   "id": "1d528d06",
   "metadata": {},
   "source": [
    "### Predictions on train and test data using baseline logistic regression model"
   ]
  },
  {
   "cell_type": "code",
   "execution_count": 116,
   "id": "4281a808",
   "metadata": {},
   "outputs": [],
   "source": [
    "y_train_pred_logreg_model = logreg_model.predict(X_train)"
   ]
  },
  {
   "cell_type": "code",
   "execution_count": 117,
   "id": "4cebc4ac",
   "metadata": {},
   "outputs": [],
   "source": [
    "y_test_pred_logreg_model = logreg_model.predict(X_test)"
   ]
  },
  {
   "cell_type": "markdown",
   "id": "4108f3ca",
   "metadata": {},
   "source": [
    "### Model evaluation metrics on train and test data using baseline logistic regression model"
   ]
  },
  {
   "cell_type": "code",
   "execution_count": 118,
   "id": "7c2b7855",
   "metadata": {},
   "outputs": [
    {
     "name": "stdout",
     "output_type": "stream",
     "text": [
      "              precision    recall  f1-score   support\n",
      "\n",
      "           0       0.90      0.77      0.83        97\n",
      "           1       0.83      0.93      0.88       115\n",
      "\n",
      "    accuracy                           0.86       212\n",
      "   macro avg       0.87      0.85      0.86       212\n",
      "weighted avg       0.86      0.86      0.86       212\n",
      "\n"
     ]
    }
   ],
   "source": [
    "print(classification_report(y_train, y_train_pred_logreg_model))"
   ]
  },
  {
   "cell_type": "code",
   "execution_count": 119,
   "id": "30ff79f3",
   "metadata": {},
   "outputs": [
    {
     "name": "stdout",
     "output_type": "stream",
     "text": [
      "              precision    recall  f1-score   support\n",
      "\n",
      "           0       0.76      0.71      0.73        41\n",
      "           1       0.77      0.82      0.80        50\n",
      "\n",
      "    accuracy                           0.77        91\n",
      "   macro avg       0.77      0.76      0.77        91\n",
      "weighted avg       0.77      0.77      0.77        91\n",
      "\n"
     ]
    }
   ],
   "source": [
    "print(classification_report(y_test, y_test_pred_logreg_model))"
   ]
  },
  {
   "cell_type": "code",
   "execution_count": 120,
   "id": "7ed68626",
   "metadata": {},
   "outputs": [
    {
     "data": {
      "text/plain": [
       "93.86"
      ]
     },
     "execution_count": 120,
     "metadata": {},
     "output_type": "execute_result"
    }
   ],
   "source": [
    "round(roc_auc_score(y_train, logreg_model.predict_proba(X_train)[:, 1])*100, 2)"
   ]
  },
  {
   "cell_type": "code",
   "execution_count": 121,
   "id": "b5f72003",
   "metadata": {},
   "outputs": [
    {
     "data": {
      "text/plain": [
       "86.68"
      ]
     },
     "execution_count": 121,
     "metadata": {},
     "output_type": "execute_result"
    }
   ],
   "source": [
    "round(roc_auc_score(y_test, logreg_model.predict_proba(X_test)[:, 1])*100, 2)"
   ]
  },
  {
   "cell_type": "markdown",
   "id": "9f28f6ca",
   "metadata": {},
   "source": [
    "### Plot ROC Curves of train and test data using baseline logisitic regression model"
   ]
  },
  {
   "cell_type": "code",
   "execution_count": 122,
   "id": "9b7c14f0",
   "metadata": {},
   "outputs": [],
   "source": [
    "train_fpr_logreg_model, train_tpr_logreg_model, _ = roc_curve(y_train, logreg_model.predict_proba(X_train)[:, 1])\n",
    "test_fpr_logreg_model, test_tpr_logreg_model, _ = roc_curve(y_test, logreg_model.predict_proba(X_test)[:, 1])"
   ]
  },
  {
   "cell_type": "code",
   "execution_count": 123,
   "id": "6798b60d",
   "metadata": {},
   "outputs": [
    {
     "data": {
      "image/png": "[encoded data removed]",
      "text/plain": [
       "<Figure size 432x288 with 1 Axes>"
      ]
     },
     "metadata": {
      "needs_background": "light"
     },
     "output_type": "display_data"
    }
   ],
   "source": [
    "plt.plot(train_fpr_logreg_model, train_tpr_logreg_model, linestyle='--', label='Train')\n",
    "plt.plot(test_fpr_logreg_model, test_tpr_logreg_model, marker='.', label='Test')\n",
    "\n",
    "plt.xlabel('False Positive Rate')\n",
    "plt.ylabel('True Positive Rate')\n",
    "plt.title('ROC Curve - Baseline Logistic Regression Model')\n",
    "plt.legend()\n",
    "\n",
    "plt.show()"
   ]
  },
  {
   "cell_type": "markdown",
   "id": "3e15f527",
   "metadata": {},
   "source": [
    "### Building baseline Decision Tree model"
   ]
  },
  {
   "cell_type": "code",
   "execution_count": 124,
   "id": "7a892fa6",
   "metadata": {},
   "outputs": [
    {
     "data": {
      "text/plain": [
       "DecisionTreeClassifier(random_state=42)"
      ]
     },
     "execution_count": 124,
     "metadata": {},
     "output_type": "execute_result"
    }
   ],
   "source": [
    "dt_model = DecisionTreeClassifier(random_state=42)\n",
    "dt_model.fit(X_train, y_train)"
   ]
  },
  {
   "cell_type": "markdown",
   "id": "7ead0a2a",
   "metadata": {},
   "source": [
    "### Predictions on train and test using baseline decision tree classifier model"
   ]
  },
  {
   "cell_type": "code",
   "execution_count": 125,
   "id": "e78daa8a",
   "metadata": {},
   "outputs": [],
   "source": [
    "y_train_pred_dt_model = dt_model.predict(X_train)"
   ]
  },
  {
   "cell_type": "code",
   "execution_count": 126,
   "id": "f6c67810",
   "metadata": {},
   "outputs": [],
   "source": [
    "y_test_pred_dt_model = dt_model.predict(X_test)"
   ]
  },
  {
   "cell_type": "markdown",
   "id": "c724cf57",
   "metadata": {},
   "source": [
    "### Model evaluation metrics on train and test data using baseline decision tree classifier model"
   ]
  },
  {
   "cell_type": "code",
   "execution_count": 127,
   "id": "dc622d52",
   "metadata": {},
   "outputs": [
    {
     "name": "stdout",
     "output_type": "stream",
     "text": [
      "              precision    recall  f1-score   support\n",
      "\n",
      "           0       1.00      1.00      1.00        97\n",
      "           1       1.00      1.00      1.00       115\n",
      "\n",
      "    accuracy                           1.00       212\n",
      "   macro avg       1.00      1.00      1.00       212\n",
      "weighted avg       1.00      1.00      1.00       212\n",
      "\n"
     ]
    }
   ],
   "source": [
    "print(classification_report(y_train, y_train_pred_dt_model))"
   ]
  },
  {
   "cell_type": "code",
   "execution_count": 128,
   "id": "de737912",
   "metadata": {},
   "outputs": [
    {
     "name": "stdout",
     "output_type": "stream",
     "text": [
      "              precision    recall  f1-score   support\n",
      "\n",
      "           0       0.76      0.71      0.73        41\n",
      "           1       0.77      0.82      0.80        50\n",
      "\n",
      "    accuracy                           0.77        91\n",
      "   macro avg       0.77      0.76      0.77        91\n",
      "weighted avg       0.77      0.77      0.77        91\n",
      "\n"
     ]
    }
   ],
   "source": [
    "print(classification_report(y_test, y_test_pred_dt_model))"
   ]
  },
  {
   "cell_type": "code",
   "execution_count": 129,
   "id": "d78867d7",
   "metadata": {},
   "outputs": [
    {
     "data": {
      "text/plain": [
       "100.0"
      ]
     },
     "execution_count": 129,
     "metadata": {},
     "output_type": "execute_result"
    }
   ],
   "source": [
    "round(roc_auc_score(y_train, dt_model.predict_proba(X_train)[:, 1])*100, 2)"
   ]
  },
  {
   "cell_type": "code",
   "execution_count": 130,
   "id": "6cc01ca2",
   "metadata": {},
   "outputs": [
    {
     "data": {
      "text/plain": [
       "76.37"
      ]
     },
     "execution_count": 130,
     "metadata": {},
     "output_type": "execute_result"
    }
   ],
   "source": [
    "round(roc_auc_score(y_test, dt_model.predict_proba(X_test)[:, 1])*100, 2)"
   ]
  },
  {
   "cell_type": "markdown",
   "id": "49efaeb8",
   "metadata": {},
   "source": [
    "### Plot ROC Curves of train and test data using baseline decision tree classifier model "
   ]
  },
  {
   "cell_type": "code",
   "execution_count": 131,
   "id": "8affd791",
   "metadata": {},
   "outputs": [],
   "source": [
    "train_fpr_dt_model, train_tpr_dt_model, _ = roc_curve(y_train, dt_model.predict_proba(X_train)[:, 1])\n",
    "test_fpr_dt_model, test_tpr_dt_model, _ = roc_curve(y_test, dt_model.predict_proba(X_test)[:, 1])"
   ]
  },
  {
   "cell_type": "code",
   "execution_count": 132,
   "id": "2c11f322",
   "metadata": {},
   "outputs": [
    {
     "data": {
      "image/png": "[encoded data removed]",
      "text/plain": [
       "<Figure size 432x288 with 1 Axes>"
      ]
     },
     "metadata": {
      "needs_background": "light"
     },
     "output_type": "display_data"
    }
   ],
   "source": [
    "plt.plot(train_fpr_dt_model, train_tpr_dt_model, linestyle='--', label='Train')\n",
    "plt.plot(test_fpr_dt_model, test_tpr_dt_model, marker='.', label='Test')\n",
    "\n",
    "plt.xlabel('False Positive Rate')\n",
    "plt.ylabel('True Positive Rate')\n",
    "plt.title('ROC Curve - Baseline Decision Tree Classifier Model')\n",
    "plt.legend()\n",
    "\n",
    "plt.show()"
   ]
  },
  {
   "cell_type": "markdown",
   "id": "5f5a28fb",
   "metadata": {},
   "source": [
    "### Feature Importance Plot for Baseline Decision Tree Classifier Model"
   ]
  },
  {
   "cell_type": "code",
   "execution_count": 133,
   "id": "6971daac",
   "metadata": {},
   "outputs": [
    {
     "data": {
      "image/png": "[encoded data removed]",
      "text/plain": [
       "<Figure size 432x288 with 1 Axes>"
      ]
     },
     "metadata": {
      "needs_background": "light"
     },
     "output_type": "display_data"
    }
   ],
   "source": [
    "dt_model_features = list(X_train.columns)\n",
    "dt_model_feat_importances = dt_model.feature_importances_\n",
    "indices = np.argsort(dt_model_feat_importances)\n",
    "\n",
    "plt.title('Feature Importances - Baseline Decision Tree Classifier Model')\n",
    "plt.barh(range(len(indices)), dt_model_feat_importances[indices], color='b', align='center')\n",
    "plt.yticks(range(len(indices)), [dt_model_features[i] for i in indices])\n",
    "plt.xlabel('Relative Importance')\n",
    "plt.show()"
   ]
  },
  {
   "cell_type": "markdown",
   "id": "205a468a",
   "metadata": {},
   "source": [
    "### Few features have zero feature importance values. We can remove this features from model"
   ]
  },
  {
   "cell_type": "code",
   "execution_count": 134,
   "id": "29604449",
   "metadata": {},
   "outputs": [],
   "source": [
    "dt_model_feat_imp_df = pd.DataFrame({\"Features\":dt_model_features, \"Importances\":dt_model_feat_importances}).sort_values(by=\"Importances\")"
   ]
  },
  {
   "cell_type": "code",
   "execution_count": 135,
   "id": "8e41d9ab",
   "metadata": {},
   "outputs": [
    {
     "data": {
      "text/html": [
       "<div>\n",
       "<style scoped>\n",
       "    .dataframe tbody tr th:only-of-type {\n",
       "        vertical-align: middle;\n",
       "    }\n",
       "\n",
       "    .dataframe tbody tr th {\n",
       "        vertical-align: top;\n",
       "    }\n",
       "\n",
       "    .dataframe thead th {\n",
       "        text-align: right;\n",
       "    }\n",
       "</style>\n",
       "<table border=\"1\" class=\"dataframe\">\n",
       "  <thead>\n",
       "    <tr style=\"text-align: right;\">\n",
       "      <th></th>\n",
       "      <th>Features</th>\n",
       "      <th>Importances</th>\n",
       "    </tr>\n",
       "  </thead>\n",
       "  <tbody>\n",
       "    <tr>\n",
       "      <th>0</th>\n",
       "      <td>rest_ecg</td>\n",
       "      <td>0.000000</td>\n",
       "    </tr>\n",
       "    <tr>\n",
       "      <th>1</th>\n",
       "      <td>ex_ind_ang</td>\n",
       "      <td>0.000000</td>\n",
       "    </tr>\n",
       "    <tr>\n",
       "      <th>3</th>\n",
       "      <td>fast_blood_sugar</td>\n",
       "      <td>0.000000</td>\n",
       "    </tr>\n",
       "    <tr>\n",
       "      <th>4</th>\n",
       "      <td>chest_pain_type_Atypical angina</td>\n",
       "      <td>0.000000</td>\n",
       "    </tr>\n",
       "    <tr>\n",
       "      <th>6</th>\n",
       "      <td>chest_pain_type_Non-anginal pain</td>\n",
       "      <td>0.000000</td>\n",
       "    </tr>\n",
       "    <tr>\n",
       "      <th>7</th>\n",
       "      <td>chest_pain_type_Typical angina</td>\n",
       "      <td>0.000000</td>\n",
       "    </tr>\n",
       "    <tr>\n",
       "      <th>13</th>\n",
       "      <td>slope</td>\n",
       "      <td>0.037939</td>\n",
       "    </tr>\n",
       "    <tr>\n",
       "      <th>9</th>\n",
       "      <td>rest_blood_pressure</td>\n",
       "      <td>0.040642</td>\n",
       "    </tr>\n",
       "    <tr>\n",
       "      <th>10</th>\n",
       "      <td>cholesterol</td>\n",
       "      <td>0.047418</td>\n",
       "    </tr>\n",
       "    <tr>\n",
       "      <th>2</th>\n",
       "      <td>gender</td>\n",
       "      <td>0.050736</td>\n",
       "    </tr>\n",
       "    <tr>\n",
       "      <th>8</th>\n",
       "      <td>age</td>\n",
       "      <td>0.055923</td>\n",
       "    </tr>\n",
       "    <tr>\n",
       "      <th>14</th>\n",
       "      <td>vessels_num</td>\n",
       "      <td>0.061322</td>\n",
       "    </tr>\n",
       "    <tr>\n",
       "      <th>11</th>\n",
       "      <td>max_heart_rate</td>\n",
       "      <td>0.097711</td>\n",
       "    </tr>\n",
       "    <tr>\n",
       "      <th>15</th>\n",
       "      <td>thal_result</td>\n",
       "      <td>0.117512</td>\n",
       "    </tr>\n",
       "    <tr>\n",
       "      <th>12</th>\n",
       "      <td>prev_peak</td>\n",
       "      <td>0.171914</td>\n",
       "    </tr>\n",
       "    <tr>\n",
       "      <th>5</th>\n",
       "      <td>chest_pain_type_NA</td>\n",
       "      <td>0.318884</td>\n",
       "    </tr>\n",
       "  </tbody>\n",
       "</table>\n",
       "</div>"
      ],
      "text/plain": [
       "                            Features  Importances\n",
       "0                           rest_ecg     0.000000\n",
       "1                         ex_ind_ang     0.000000\n",
       "3                   fast_blood_sugar     0.000000\n",
       "4    chest_pain_type_Atypical angina     0.000000\n",
       "6   chest_pain_type_Non-anginal pain     0.000000\n",
       "7     chest_pain_type_Typical angina     0.000000\n",
       "13                             slope     0.037939\n",
       "9                rest_blood_pressure     0.040642\n",
       "10                       cholesterol     0.047418\n",
       "2                             gender     0.050736\n",
       "8                                age     0.055923\n",
       "14                       vessels_num     0.061322\n",
       "11                    max_heart_rate     0.097711\n",
       "15                       thal_result     0.117512\n",
       "12                         prev_peak     0.171914\n",
       "5                 chest_pain_type_NA     0.318884"
      ]
     },
     "execution_count": 135,
     "metadata": {},
     "output_type": "execute_result"
    }
   ],
   "source": [
    "dt_model_feat_imp_df"
   ]
  },
  {
   "cell_type": "code",
   "execution_count": 136,
   "id": "000f982b",
   "metadata": {},
   "outputs": [
    {
     "data": {
      "text/plain": [
       "['rest_ecg',\n",
       " 'ex_ind_ang',\n",
       " 'fast_blood_sugar',\n",
       " 'chest_pain_type_Atypical angina',\n",
       " 'chest_pain_type_Non-anginal pain',\n",
       " 'chest_pain_type_Typical angina']"
      ]
     },
     "execution_count": 136,
     "metadata": {},
     "output_type": "execute_result"
    }
   ],
   "source": [
    "dt_model_feat_imp_df.loc[dt_model_feat_imp_df[\"Importances\"]==0, \"Features\"].tolist()"
   ]
  },
  {
   "cell_type": "markdown",
   "id": "0b32984d",
   "metadata": {},
   "source": [
    "### We have fitted 2 basline models on the data. 1. Logistic Regression 2. Decision Tree Classifier. Out of this 2, logistic regression baseline model is performing better than decision tree classifier. There is lot of model overfitting in decision tree baseline model. But in logistic regression baseline model also, we can observe some overfitting. The next step is to tune the baseline models to reduce the overfitting."
   ]
  },
  {
   "cell_type": "markdown",
   "id": "c22a767b",
   "metadata": {},
   "source": [
    "### Tuning logistic regression model using grid search cross validation (3 Repeated Stratified 5 Fold and grid search)"
   ]
  },
  {
   "cell_type": "code",
   "execution_count": 137,
   "id": "1059961d",
   "metadata": {},
   "outputs": [
    {
     "name": "stdout",
     "output_type": "stream",
     "text": [
      "Best: 0.849136 using {'C': 0.1, 'penalty': 'l2', 'solver': 'liblinear'}\n",
      "0.831807 (0.047133) with: {'C': 100, 'penalty': 'l2', 'solver': 'newton-cg'}\n",
      "0.833897 (0.043733) with: {'C': 100, 'penalty': 'l2', 'solver': 'lbfgs'}\n",
      "0.831407 (0.046667) with: {'C': 100, 'penalty': 'l2', 'solver': 'liblinear'}\n",
      "0.832945 (0.043597) with: {'C': 10, 'penalty': 'l2', 'solver': 'newton-cg'}\n",
      "0.831060 (0.039249) with: {'C': 10, 'penalty': 'l2', 'solver': 'lbfgs'}\n",
      "0.830203 (0.049873) with: {'C': 10, 'penalty': 'l2', 'solver': 'liblinear'}\n",
      "0.844497 (0.037398) with: {'C': 1.0, 'penalty': 'l2', 'solver': 'newton-cg'}\n",
      "0.841905 (0.041538) with: {'C': 1.0, 'penalty': 'l2', 'solver': 'lbfgs'}\n",
      "0.841225 (0.042801) with: {'C': 1.0, 'penalty': 'l2', 'solver': 'liblinear'}\n",
      "0.839669 (0.050853) with: {'C': 0.1, 'penalty': 'l2', 'solver': 'newton-cg'}\n",
      "0.848002 (0.043023) with: {'C': 0.1, 'penalty': 'l2', 'solver': 'lbfgs'}\n",
      "0.849136 (0.042393) with: {'C': 0.1, 'penalty': 'l2', 'solver': 'liblinear'}\n",
      "0.771329 (0.080928) with: {'C': 0.01, 'penalty': 'l2', 'solver': 'newton-cg'}\n",
      "0.782462 (0.058137) with: {'C': 0.01, 'penalty': 'l2', 'solver': 'lbfgs'}\n",
      "0.774076 (0.054085) with: {'C': 0.01, 'penalty': 'l2', 'solver': 'liblinear'}\n",
      "0.736759 (0.065033) with: {'C': 0.001, 'penalty': 'l2', 'solver': 'newton-cg'}\n",
      "0.736759 (0.065033) with: {'C': 0.001, 'penalty': 'l2', 'solver': 'lbfgs'}\n",
      "0.736180 (0.065287) with: {'C': 0.001, 'penalty': 'l2', 'solver': 'liblinear'}\n"
     ]
    }
   ],
   "source": [
    "model = LogisticRegression()\n",
    "solvers = ['newton-cg', 'lbfgs', 'liblinear']\n",
    "penalty = ['l2']\n",
    "c_values = [100, 10, 1.0, 0.1, 0.01, 0.001]\n",
    "\n",
    "\n",
    "# define grid search\n",
    "grid = dict(solver=solvers,penalty=penalty,C=c_values)\n",
    "cv = RepeatedStratifiedKFold(n_splits=5, n_repeats=3, random_state=1)\n",
    "grid_search = GridSearchCV(estimator=model, param_grid=grid, n_jobs=-1, cv=cv, scoring='f1',error_score=0)\n",
    "grid_result = grid_search.fit(X_train, y_train)\n",
    "\n",
    "\n",
    "# summarize results\n",
    "print(\"Best: %f using %s\" % (grid_result.best_score_, grid_result.best_params_))\n",
    "means = grid_result.cv_results_['mean_test_score']\n",
    "stds = grid_result.cv_results_['std_test_score']\n",
    "params = grid_result.cv_results_['params']\n",
    "for mean, stdev, param in zip(means, stds, params):\n",
    "    print(\"%f (%f) with: %r\" % (mean, stdev, param))\n"
   ]
  },
  {
   "cell_type": "code",
   "execution_count": 138,
   "id": "cd3474aa",
   "metadata": {},
   "outputs": [
    {
     "data": {
      "text/plain": [
       "LogisticRegression(C=0.1, random_state=42, solver='liblinear')"
      ]
     },
     "execution_count": 138,
     "metadata": {},
     "output_type": "execute_result"
    }
   ],
   "source": [
    "logreg_model_tuned = LogisticRegression(C=grid_result.best_params_['C'], penalty=grid_result.best_params_['penalty'], \n",
    "                                        solver=grid_result.best_params_['solver'], random_state=42)\n",
    "logreg_model_tuned.fit(X_train, y_train)"
   ]
  },
  {
   "cell_type": "markdown",
   "id": "e627a1e9",
   "metadata": {},
   "source": [
    "### Predictions on train and test data using tuned logistic regression model"
   ]
  },
  {
   "cell_type": "code",
   "execution_count": 139,
   "id": "98d7c5ca",
   "metadata": {},
   "outputs": [],
   "source": [
    "y_train_pred_logreg_model_tuned = logreg_model_tuned.predict(X_train)"
   ]
  },
  {
   "cell_type": "code",
   "execution_count": 140,
   "id": "1747db00",
   "metadata": {},
   "outputs": [],
   "source": [
    "y_test_pred_logreg_model_tuned = logreg_model_tuned.predict(X_test)"
   ]
  },
  {
   "cell_type": "markdown",
   "id": "902d04f9",
   "metadata": {},
   "source": [
    "### Model evaluation metrics on train and test data using tuned logistic regression model"
   ]
  },
  {
   "cell_type": "code",
   "execution_count": 141,
   "id": "741a35d2",
   "metadata": {},
   "outputs": [
    {
     "name": "stdout",
     "output_type": "stream",
     "text": [
      "              precision    recall  f1-score   support\n",
      "\n",
      "           0       0.89      0.77      0.83        97\n",
      "           1       0.83      0.92      0.87       115\n",
      "\n",
      "    accuracy                           0.85       212\n",
      "   macro avg       0.86      0.85      0.85       212\n",
      "weighted avg       0.86      0.85      0.85       212\n",
      "\n"
     ]
    }
   ],
   "source": [
    "print(classification_report(y_train, y_train_pred_logreg_model_tuned))"
   ]
  },
  {
   "cell_type": "code",
   "execution_count": 142,
   "id": "9ac43028",
   "metadata": {},
   "outputs": [
    {
     "name": "stdout",
     "output_type": "stream",
     "text": [
      "              precision    recall  f1-score   support\n",
      "\n",
      "           0       0.78      0.68      0.73        41\n",
      "           1       0.76      0.84      0.80        50\n",
      "\n",
      "    accuracy                           0.77        91\n",
      "   macro avg       0.77      0.76      0.76        91\n",
      "weighted avg       0.77      0.77      0.77        91\n",
      "\n"
     ]
    }
   ],
   "source": [
    "print(classification_report(y_test, y_test_pred_logreg_model_tuned))"
   ]
  },
  {
   "cell_type": "code",
   "execution_count": 143,
   "id": "bab9a705",
   "metadata": {},
   "outputs": [
    {
     "data": {
      "text/plain": [
       "92.8"
      ]
     },
     "execution_count": 143,
     "metadata": {},
     "output_type": "execute_result"
    }
   ],
   "source": [
    "round(roc_auc_score(y_train, logreg_model_tuned.predict_proba(X_train)[:, 1])*100, 2)"
   ]
  },
  {
   "cell_type": "code",
   "execution_count": 144,
   "id": "0c619e0f",
   "metadata": {},
   "outputs": [
    {
     "data": {
      "text/plain": [
       "86.54"
      ]
     },
     "execution_count": 144,
     "metadata": {},
     "output_type": "execute_result"
    }
   ],
   "source": [
    "round(roc_auc_score(y_test, logreg_model_tuned.predict_proba(X_test)[:, 1])*100, 2)"
   ]
  },
  {
   "cell_type": "markdown",
   "id": "d1bbf0a7",
   "metadata": {},
   "source": [
    "### Plot ROC Curves of train and test data using tuned logisitic regression model"
   ]
  },
  {
   "cell_type": "code",
   "execution_count": 145,
   "id": "df8ebe19",
   "metadata": {},
   "outputs": [],
   "source": [
    "train_fpr_logreg_model_tuned, train_tpr_logreg_model_tuned, _ = roc_curve(y_train, logreg_model_tuned.predict_proba(X_train)[:, 1])\n",
    "test_fpr_logreg_model_tuned, test_tpr_logreg_model_tuned, _ = roc_curve(y_test, logreg_model_tuned.predict_proba(X_test)[:, 1])"
   ]
  },
  {
   "cell_type": "code",
   "execution_count": 146,
   "id": "0f732638",
   "metadata": {},
   "outputs": [
    {
     "data": {
      "image/png": "[encoded data removed]",
      "text/plain": [
       "<Figure size 432x288 with 1 Axes>"
      ]
     },
     "metadata": {
      "needs_background": "light"
     },
     "output_type": "display_data"
    }
   ],
   "source": [
    "plt.plot(train_fpr_logreg_model_tuned, train_tpr_logreg_model_tuned, linestyle='--', label='Train')\n",
    "plt.plot(test_fpr_logreg_model_tuned, test_tpr_logreg_model_tuned, marker='.', label='Test')\n",
    "\n",
    "plt.xlabel('False Positive Rate')\n",
    "plt.ylabel('True Positive Rate')\n",
    "plt.title('ROC Curve - Tuned Logistic Regression Model')\n",
    "plt.legend()\n",
    "\n",
    "plt.show()"
   ]
  },
  {
   "cell_type": "markdown",
   "id": "26692b6d",
   "metadata": {},
   "source": [
    "### Tuning decision tree classifier model using grid search cross validation (3 Repeated Stratified 5 Fold and grid search) after \"removing variables with 0 feature importance\""
   ]
  },
  {
   "cell_type": "code",
   "execution_count": 147,
   "id": "fb631818",
   "metadata": {},
   "outputs": [],
   "source": [
    "X_train_after_drop_0_feat_imp_vars = X_train.drop(dt_model_feat_imp_df.loc[dt_model_feat_imp_df[\"Importances\"]==0,\n",
    "                                                                           \"Features\"].tolist(),\n",
    "                                                  axis=1)\n",
    "X_test_after_drop_0_feat_imp_vars = X_test.drop(dt_model_feat_imp_df.loc[dt_model_feat_imp_df[\"Importances\"]==0,\n",
    "                                                                           \"Features\"].tolist(), axis=1)"
   ]
  },
  {
   "cell_type": "code",
   "execution_count": 148,
   "id": "bb3b8446",
   "metadata": {
    "scrolled": true
   },
   "outputs": [
    {
     "name": "stdout",
     "output_type": "stream",
     "text": [
      "Best: 0.827225 using {'criterion': 'entropy', 'max_depth': 3, 'max_features': None, 'min_samples_split': 0.01, 'splitter': 'random'}\n",
      "0.762659 (0.051909) with: {'criterion': 'gini', 'max_depth': 2, 'max_features': 'auto', 'min_samples_split': 0.01, 'splitter': 'best'}\n",
      "0.730812 (0.187501) with: {'criterion': 'gini', 'max_depth': 2, 'max_features': 'auto', 'min_samples_split': 0.01, 'splitter': 'random'}\n",
      "0.750100 (0.051784) with: {'criterion': 'gini', 'max_depth': 2, 'max_features': 'auto', 'min_samples_split': 0.05, 'splitter': 'best'}\n",
      "0.733902 (0.059764) with: {'criterion': 'gini', 'max_depth': 2, 'max_features': 'auto', 'min_samples_split': 0.05, 'splitter': 'random'}\n",
      "0.770519 (0.054388) with: {'criterion': 'gini', 'max_depth': 2, 'max_features': 'auto', 'min_samples_split': 0.1, 'splitter': 'best'}\n",
      "0.729171 (0.075237) with: {'criterion': 'gini', 'max_depth': 2, 'max_features': 'auto', 'min_samples_split': 0.1, 'splitter': 'random'}\n",
      "0.784267 (0.040690) with: {'criterion': 'gini', 'max_depth': 2, 'max_features': 'auto', 'min_samples_split': 0.15, 'splitter': 'best'}\n",
      "0.746823 (0.082100) with: {'criterion': 'gini', 'max_depth': 2, 'max_features': 'auto', 'min_samples_split': 0.15, 'splitter': 'random'}\n",
      "0.755390 (0.064558) with: {'criterion': 'gini', 'max_depth': 2, 'max_features': 'auto', 'min_samples_split': 0.2, 'splitter': 'best'}\n",
      "0.710113 (0.165431) with: {'criterion': 'gini', 'max_depth': 2, 'max_features': 'auto', 'min_samples_split': 0.2, 'splitter': 'random'}\n",
      "0.767905 (0.046327) with: {'criterion': 'gini', 'max_depth': 2, 'max_features': 'log2', 'min_samples_split': 0.01, 'splitter': 'best'}\n",
      "0.777605 (0.074008) with: {'criterion': 'gini', 'max_depth': 2, 'max_features': 'log2', 'min_samples_split': 0.01, 'splitter': 'random'}\n",
      "0.736327 (0.081811) with: {'criterion': 'gini', 'max_depth': 2, 'max_features': 'log2', 'min_samples_split': 0.05, 'splitter': 'best'}\n",
      "0.763299 (0.069408) with: {'criterion': 'gini', 'max_depth': 2, 'max_features': 'log2', 'min_samples_split': 0.05, 'splitter': 'random'}\n",
      "0.759038 (0.059202) with: {'criterion': 'gini', 'max_depth': 2, 'max_features': 'log2', 'min_samples_split': 0.1, 'splitter': 'best'}\n",
      "0.764446 (0.079765) with: {'criterion': 'gini', 'max_depth': 2, 'max_features': 'log2', 'min_samples_split': 0.1, 'splitter': 'random'}\n",
      "0.746429 (0.087416) with: {'criterion': 'gini', 'max_depth': 2, 'max_features': 'log2', 'min_samples_split': 0.15, 'splitter': 'best'}\n",
      "0.689058 (0.195704) with: {'criterion': 'gini', 'max_depth': 2, 'max_features': 'log2', 'min_samples_split': 0.15, 'splitter': 'random'}\n",
      "0.766927 (0.063298) with: {'criterion': 'gini', 'max_depth': 2, 'max_features': 'log2', 'min_samples_split': 0.2, 'splitter': 'best'}\n",
      "0.784136 (0.055622) with: {'criterion': 'gini', 'max_depth': 2, 'max_features': 'log2', 'min_samples_split': 0.2, 'splitter': 'random'}\n",
      "0.787330 (0.052504) with: {'criterion': 'gini', 'max_depth': 2, 'max_features': 'sqrt', 'min_samples_split': 0.01, 'splitter': 'best'}\n",
      "0.737954 (0.096011) with: {'criterion': 'gini', 'max_depth': 2, 'max_features': 'sqrt', 'min_samples_split': 0.01, 'splitter': 'random'}\n",
      "0.768732 (0.059200) with: {'criterion': 'gini', 'max_depth': 2, 'max_features': 'sqrt', 'min_samples_split': 0.05, 'splitter': 'best'}\n",
      "0.772002 (0.043128) with: {'criterion': 'gini', 'max_depth': 2, 'max_features': 'sqrt', 'min_samples_split': 0.05, 'splitter': 'random'}\n",
      "0.750875 (0.066575) with: {'criterion': 'gini', 'max_depth': 2, 'max_features': 'sqrt', 'min_samples_split': 0.1, 'splitter': 'best'}\n",
      "0.765881 (0.066272) with: {'criterion': 'gini', 'max_depth': 2, 'max_features': 'sqrt', 'min_samples_split': 0.1, 'splitter': 'random'}\n",
      "0.772316 (0.076428) with: {'criterion': 'gini', 'max_depth': 2, 'max_features': 'sqrt', 'min_samples_split': 0.15, 'splitter': 'best'}\n",
      "0.763608 (0.086673) with: {'criterion': 'gini', 'max_depth': 2, 'max_features': 'sqrt', 'min_samples_split': 0.15, 'splitter': 'random'}\n",
      "0.757371 (0.084507) with: {'criterion': 'gini', 'max_depth': 2, 'max_features': 'sqrt', 'min_samples_split': 0.2, 'splitter': 'best'}\n",
      "0.747183 (0.066273) with: {'criterion': 'gini', 'max_depth': 2, 'max_features': 'sqrt', 'min_samples_split': 0.2, 'splitter': 'random'}\n",
      "0.788118 (0.051904) with: {'criterion': 'gini', 'max_depth': 2, 'max_features': None, 'min_samples_split': 0.01, 'splitter': 'best'}\n",
      "0.764303 (0.042742) with: {'criterion': 'gini', 'max_depth': 2, 'max_features': None, 'min_samples_split': 0.01, 'splitter': 'random'}\n",
      "0.788118 (0.051904) with: {'criterion': 'gini', 'max_depth': 2, 'max_features': None, 'min_samples_split': 0.05, 'splitter': 'best'}\n",
      "0.781026 (0.057422) with: {'criterion': 'gini', 'max_depth': 2, 'max_features': None, 'min_samples_split': 0.05, 'splitter': 'random'}\n",
      "0.788118 (0.051904) with: {'criterion': 'gini', 'max_depth': 2, 'max_features': None, 'min_samples_split': 0.1, 'splitter': 'best'}\n",
      "0.779169 (0.059568) with: {'criterion': 'gini', 'max_depth': 2, 'max_features': None, 'min_samples_split': 0.1, 'splitter': 'random'}\n",
      "0.788118 (0.051904) with: {'criterion': 'gini', 'max_depth': 2, 'max_features': None, 'min_samples_split': 0.15, 'splitter': 'best'}\n",
      "0.773440 (0.047191) with: {'criterion': 'gini', 'max_depth': 2, 'max_features': None, 'min_samples_split': 0.15, 'splitter': 'random'}\n",
      "0.788118 (0.051904) with: {'criterion': 'gini', 'max_depth': 2, 'max_features': None, 'min_samples_split': 0.2, 'splitter': 'best'}\n",
      "0.765080 (0.037905) with: {'criterion': 'gini', 'max_depth': 2, 'max_features': None, 'min_samples_split': 0.2, 'splitter': 'random'}\n",
      "0.784522 (0.064450) with: {'criterion': 'gini', 'max_depth': 3, 'max_features': 'auto', 'min_samples_split': 0.01, 'splitter': 'best'}\n",
      "0.780664 (0.042633) with: {'criterion': 'gini', 'max_depth': 3, 'max_features': 'auto', 'min_samples_split': 0.01, 'splitter': 'random'}\n",
      "0.797605 (0.058533) with: {'criterion': 'gini', 'max_depth': 3, 'max_features': 'auto', 'min_samples_split': 0.05, 'splitter': 'best'}\n",
      "0.765470 (0.074859) with: {'criterion': 'gini', 'max_depth': 3, 'max_features': 'auto', 'min_samples_split': 0.05, 'splitter': 'random'}\n",
      "0.777169 (0.055828) with: {'criterion': 'gini', 'max_depth': 3, 'max_features': 'auto', 'min_samples_split': 0.1, 'splitter': 'best'}\n",
      "0.776266 (0.044966) with: {'criterion': 'gini', 'max_depth': 3, 'max_features': 'auto', 'min_samples_split': 0.1, 'splitter': 'random'}\n",
      "0.778486 (0.045201) with: {'criterion': 'gini', 'max_depth': 3, 'max_features': 'auto', 'min_samples_split': 0.15, 'splitter': 'best'}\n",
      "0.791593 (0.042497) with: {'criterion': 'gini', 'max_depth': 3, 'max_features': 'auto', 'min_samples_split': 0.15, 'splitter': 'random'}\n",
      "0.793504 (0.053170) with: {'criterion': 'gini', 'max_depth': 3, 'max_features': 'auto', 'min_samples_split': 0.2, 'splitter': 'best'}\n",
      "0.755188 (0.071651) with: {'criterion': 'gini', 'max_depth': 3, 'max_features': 'auto', 'min_samples_split': 0.2, 'splitter': 'random'}\n",
      "0.765511 (0.064047) with: {'criterion': 'gini', 'max_depth': 3, 'max_features': 'log2', 'min_samples_split': 0.01, 'splitter': 'best'}\n",
      "0.769444 (0.070484) with: {'criterion': 'gini', 'max_depth': 3, 'max_features': 'log2', 'min_samples_split': 0.01, 'splitter': 'random'}\n",
      "0.774309 (0.075385) with: {'criterion': 'gini', 'max_depth': 3, 'max_features': 'log2', 'min_samples_split': 0.05, 'splitter': 'best'}\n",
      "0.767557 (0.073157) with: {'criterion': 'gini', 'max_depth': 3, 'max_features': 'log2', 'min_samples_split': 0.05, 'splitter': 'random'}\n",
      "0.807311 (0.045094) with: {'criterion': 'gini', 'max_depth': 3, 'max_features': 'log2', 'min_samples_split': 0.1, 'splitter': 'best'}\n",
      "0.770679 (0.041583) with: {'criterion': 'gini', 'max_depth': 3, 'max_features': 'log2', 'min_samples_split': 0.1, 'splitter': 'random'}\n",
      "0.794901 (0.073186) with: {'criterion': 'gini', 'max_depth': 3, 'max_features': 'log2', 'min_samples_split': 0.15, 'splitter': 'best'}\n",
      "0.799918 (0.061520) with: {'criterion': 'gini', 'max_depth': 3, 'max_features': 'log2', 'min_samples_split': 0.15, 'splitter': 'random'}\n",
      "0.766731 (0.088831) with: {'criterion': 'gini', 'max_depth': 3, 'max_features': 'log2', 'min_samples_split': 0.2, 'splitter': 'best'}\n",
      "0.776610 (0.064767) with: {'criterion': 'gini', 'max_depth': 3, 'max_features': 'log2', 'min_samples_split': 0.2, 'splitter': 'random'}\n",
      "0.781968 (0.053681) with: {'criterion': 'gini', 'max_depth': 3, 'max_features': 'sqrt', 'min_samples_split': 0.01, 'splitter': 'best'}\n",
      "0.787557 (0.111341) with: {'criterion': 'gini', 'max_depth': 3, 'max_features': 'sqrt', 'min_samples_split': 0.01, 'splitter': 'random'}\n",
      "0.756442 (0.064000) with: {'criterion': 'gini', 'max_depth': 3, 'max_features': 'sqrt', 'min_samples_split': 0.05, 'splitter': 'best'}\n",
      "0.790371 (0.049254) with: {'criterion': 'gini', 'max_depth': 3, 'max_features': 'sqrt', 'min_samples_split': 0.05, 'splitter': 'random'}\n",
      "0.800706 (0.039089) with: {'criterion': 'gini', 'max_depth': 3, 'max_features': 'sqrt', 'min_samples_split': 0.1, 'splitter': 'best'}\n",
      "0.786803 (0.054619) with: {'criterion': 'gini', 'max_depth': 3, 'max_features': 'sqrt', 'min_samples_split': 0.1, 'splitter': 'random'}\n",
      "0.768421 (0.047739) with: {'criterion': 'gini', 'max_depth': 3, 'max_features': 'sqrt', 'min_samples_split': 0.15, 'splitter': 'best'}\n",
      "0.789248 (0.053010) with: {'criterion': 'gini', 'max_depth': 3, 'max_features': 'sqrt', 'min_samples_split': 0.15, 'splitter': 'random'}\n",
      "0.748824 (0.069256) with: {'criterion': 'gini', 'max_depth': 3, 'max_features': 'sqrt', 'min_samples_split': 0.2, 'splitter': 'best'}\n",
      "0.752853 (0.085302) with: {'criterion': 'gini', 'max_depth': 3, 'max_features': 'sqrt', 'min_samples_split': 0.2, 'splitter': 'random'}\n",
      "0.789161 (0.050746) with: {'criterion': 'gini', 'max_depth': 3, 'max_features': None, 'min_samples_split': 0.01, 'splitter': 'best'}\n",
      "0.791981 (0.053827) with: {'criterion': 'gini', 'max_depth': 3, 'max_features': None, 'min_samples_split': 0.01, 'splitter': 'random'}\n",
      "0.789161 (0.050746) with: {'criterion': 'gini', 'max_depth': 3, 'max_features': None, 'min_samples_split': 0.05, 'splitter': 'best'}\n",
      "0.827131 (0.059091) with: {'criterion': 'gini', 'max_depth': 3, 'max_features': None, 'min_samples_split': 0.05, 'splitter': 'random'}\n",
      "0.790284 (0.050975) with: {'criterion': 'gini', 'max_depth': 3, 'max_features': None, 'min_samples_split': 0.1, 'splitter': 'best'}\n",
      "0.812687 (0.051214) with: {'criterion': 'gini', 'max_depth': 3, 'max_features': None, 'min_samples_split': 0.1, 'splitter': 'random'}\n",
      "0.792717 (0.048442) with: {'criterion': 'gini', 'max_depth': 3, 'max_features': None, 'min_samples_split': 0.15, 'splitter': 'best'}\n",
      "0.772857 (0.040895) with: {'criterion': 'gini', 'max_depth': 3, 'max_features': None, 'min_samples_split': 0.15, 'splitter': 'random'}\n",
      "0.788149 (0.050507) with: {'criterion': 'gini', 'max_depth': 3, 'max_features': None, 'min_samples_split': 0.2, 'splitter': 'best'}\n",
      "0.782002 (0.042841) with: {'criterion': 'gini', 'max_depth': 3, 'max_features': None, 'min_samples_split': 0.2, 'splitter': 'random'}\n",
      "0.790730 (0.040149) with: {'criterion': 'gini', 'max_depth': 4, 'max_features': 'auto', 'min_samples_split': 0.01, 'splitter': 'best'}\n",
      "0.784190 (0.037886) with: {'criterion': 'gini', 'max_depth': 4, 'max_features': 'auto', 'min_samples_split': 0.01, 'splitter': 'random'}\n",
      "0.791299 (0.070113) with: {'criterion': 'gini', 'max_depth': 4, 'max_features': 'auto', 'min_samples_split': 0.05, 'splitter': 'best'}\n",
      "0.790666 (0.047644) with: {'criterion': 'gini', 'max_depth': 4, 'max_features': 'auto', 'min_samples_split': 0.05, 'splitter': 'random'}\n",
      "0.791659 (0.052746) with: {'criterion': 'gini', 'max_depth': 4, 'max_features': 'auto', 'min_samples_split': 0.1, 'splitter': 'best'}\n",
      "0.757423 (0.062402) with: {'criterion': 'gini', 'max_depth': 4, 'max_features': 'auto', 'min_samples_split': 0.1, 'splitter': 'random'}\n",
      "0.775114 (0.070644) with: {'criterion': 'gini', 'max_depth': 4, 'max_features': 'auto', 'min_samples_split': 0.15, 'splitter': 'best'}\n",
      "0.792114 (0.068396) with: {'criterion': 'gini', 'max_depth': 4, 'max_features': 'auto', 'min_samples_split': 0.15, 'splitter': 'random'}\n",
      "0.786746 (0.055062) with: {'criterion': 'gini', 'max_depth': 4, 'max_features': 'auto', 'min_samples_split': 0.2, 'splitter': 'best'}\n",
      "0.775173 (0.057755) with: {'criterion': 'gini', 'max_depth': 4, 'max_features': 'auto', 'min_samples_split': 0.2, 'splitter': 'random'}\n",
      "0.800331 (0.063018) with: {'criterion': 'gini', 'max_depth': 4, 'max_features': 'log2', 'min_samples_split': 0.01, 'splitter': 'best'}\n",
      "0.812204 (0.049170) with: {'criterion': 'gini', 'max_depth': 4, 'max_features': 'log2', 'min_samples_split': 0.01, 'splitter': 'random'}\n",
      "0.768896 (0.063754) with: {'criterion': 'gini', 'max_depth': 4, 'max_features': 'log2', 'min_samples_split': 0.05, 'splitter': 'best'}\n",
      "0.794931 (0.055879) with: {'criterion': 'gini', 'max_depth': 4, 'max_features': 'log2', 'min_samples_split': 0.05, 'splitter': 'random'}\n",
      "0.791772 (0.069758) with: {'criterion': 'gini', 'max_depth': 4, 'max_features': 'log2', 'min_samples_split': 0.1, 'splitter': 'best'}\n",
      "0.807655 (0.053724) with: {'criterion': 'gini', 'max_depth': 4, 'max_features': 'log2', 'min_samples_split': 0.1, 'splitter': 'random'}\n",
      "0.781398 (0.062011) with: {'criterion': 'gini', 'max_depth': 4, 'max_features': 'log2', 'min_samples_split': 0.15, 'splitter': 'best'}\n",
      "0.809235 (0.036081) with: {'criterion': 'gini', 'max_depth': 4, 'max_features': 'log2', 'min_samples_split': 0.15, 'splitter': 'random'}\n",
      "0.779237 (0.047087) with: {'criterion': 'gini', 'max_depth': 4, 'max_features': 'log2', 'min_samples_split': 0.2, 'splitter': 'best'}\n",
      "0.774040 (0.043113) with: {'criterion': 'gini', 'max_depth': 4, 'max_features': 'log2', 'min_samples_split': 0.2, 'splitter': 'random'}\n",
      "0.792529 (0.067795) with: {'criterion': 'gini', 'max_depth': 4, 'max_features': 'sqrt', 'min_samples_split': 0.01, 'splitter': 'best'}\n",
      "0.758111 (0.041110) with: {'criterion': 'gini', 'max_depth': 4, 'max_features': 'sqrt', 'min_samples_split': 0.01, 'splitter': 'random'}\n",
      "0.815638 (0.069629) with: {'criterion': 'gini', 'max_depth': 4, 'max_features': 'sqrt', 'min_samples_split': 0.05, 'splitter': 'best'}\n",
      "0.799055 (0.046847) with: {'criterion': 'gini', 'max_depth': 4, 'max_features': 'sqrt', 'min_samples_split': 0.05, 'splitter': 'random'}\n",
      "0.808588 (0.039070) with: {'criterion': 'gini', 'max_depth': 4, 'max_features': 'sqrt', 'min_samples_split': 0.1, 'splitter': 'best'}\n",
      "0.786118 (0.057931) with: {'criterion': 'gini', 'max_depth': 4, 'max_features': 'sqrt', 'min_samples_split': 0.1, 'splitter': 'random'}\n",
      "0.790774 (0.047329) with: {'criterion': 'gini', 'max_depth': 4, 'max_features': 'sqrt', 'min_samples_split': 0.15, 'splitter': 'best'}\n",
      "0.774378 (0.073702) with: {'criterion': 'gini', 'max_depth': 4, 'max_features': 'sqrt', 'min_samples_split': 0.15, 'splitter': 'random'}\n",
      "0.763483 (0.045551) with: {'criterion': 'gini', 'max_depth': 4, 'max_features': 'sqrt', 'min_samples_split': 0.2, 'splitter': 'best'}\n",
      "0.765356 (0.042356) with: {'criterion': 'gini', 'max_depth': 4, 'max_features': 'sqrt', 'min_samples_split': 0.2, 'splitter': 'random'}\n",
      "0.763959 (0.041877) with: {'criterion': 'gini', 'max_depth': 4, 'max_features': None, 'min_samples_split': 0.01, 'splitter': 'best'}\n",
      "0.800853 (0.041114) with: {'criterion': 'gini', 'max_depth': 4, 'max_features': None, 'min_samples_split': 0.01, 'splitter': 'random'}\n",
      "0.766874 (0.034853) with: {'criterion': 'gini', 'max_depth': 4, 'max_features': None, 'min_samples_split': 0.05, 'splitter': 'best'}\n",
      "0.800865 (0.075090) with: {'criterion': 'gini', 'max_depth': 4, 'max_features': None, 'min_samples_split': 0.05, 'splitter': 'random'}\n",
      "0.772289 (0.048765) with: {'criterion': 'gini', 'max_depth': 4, 'max_features': None, 'min_samples_split': 0.1, 'splitter': 'best'}\n",
      "0.805524 (0.030061) with: {'criterion': 'gini', 'max_depth': 4, 'max_features': None, 'min_samples_split': 0.1, 'splitter': 'random'}\n",
      "0.789657 (0.051679) with: {'criterion': 'gini', 'max_depth': 4, 'max_features': None, 'min_samples_split': 0.15, 'splitter': 'best'}\n",
      "0.796149 (0.036047) with: {'criterion': 'gini', 'max_depth': 4, 'max_features': None, 'min_samples_split': 0.15, 'splitter': 'random'}\n",
      "0.780358 (0.050511) with: {'criterion': 'gini', 'max_depth': 4, 'max_features': None, 'min_samples_split': 0.2, 'splitter': 'best'}\n",
      "0.763799 (0.059020) with: {'criterion': 'gini', 'max_depth': 4, 'max_features': None, 'min_samples_split': 0.2, 'splitter': 'random'}\n",
      "0.768007 (0.034436) with: {'criterion': 'entropy', 'max_depth': 2, 'max_features': 'auto', 'min_samples_split': 0.01, 'splitter': 'best'}\n",
      "0.761787 (0.075527) with: {'criterion': 'entropy', 'max_depth': 2, 'max_features': 'auto', 'min_samples_split': 0.01, 'splitter': 'random'}\n",
      "0.782392 (0.055711) with: {'criterion': 'entropy', 'max_depth': 2, 'max_features': 'auto', 'min_samples_split': 0.05, 'splitter': 'best'}\n",
      "0.710039 (0.092415) with: {'criterion': 'entropy', 'max_depth': 2, 'max_features': 'auto', 'min_samples_split': 0.05, 'splitter': 'random'}\n",
      "0.755378 (0.077239) with: {'criterion': 'entropy', 'max_depth': 2, 'max_features': 'auto', 'min_samples_split': 0.1, 'splitter': 'best'}\n",
      "0.747838 (0.096233) with: {'criterion': 'entropy', 'max_depth': 2, 'max_features': 'auto', 'min_samples_split': 0.1, 'splitter': 'random'}\n",
      "0.772746 (0.055019) with: {'criterion': 'entropy', 'max_depth': 2, 'max_features': 'auto', 'min_samples_split': 0.15, 'splitter': 'best'}\n",
      "0.726827 (0.088984) with: {'criterion': 'entropy', 'max_depth': 2, 'max_features': 'auto', 'min_samples_split': 0.15, 'splitter': 'random'}\n",
      "0.766770 (0.060801) with: {'criterion': 'entropy', 'max_depth': 2, 'max_features': 'auto', 'min_samples_split': 0.2, 'splitter': 'best'}\n",
      "0.746216 (0.121534) with: {'criterion': 'entropy', 'max_depth': 2, 'max_features': 'auto', 'min_samples_split': 0.2, 'splitter': 'random'}\n",
      "0.745690 (0.040897) with: {'criterion': 'entropy', 'max_depth': 2, 'max_features': 'log2', 'min_samples_split': 0.01, 'splitter': 'best'}\n",
      "0.755314 (0.093849) with: {'criterion': 'entropy', 'max_depth': 2, 'max_features': 'log2', 'min_samples_split': 0.01, 'splitter': 'random'}\n",
      "0.754960 (0.061643) with: {'criterion': 'entropy', 'max_depth': 2, 'max_features': 'log2', 'min_samples_split': 0.05, 'splitter': 'best'}\n",
      "0.772384 (0.063445) with: {'criterion': 'entropy', 'max_depth': 2, 'max_features': 'log2', 'min_samples_split': 0.05, 'splitter': 'random'}\n",
      "0.796060 (0.035191) with: {'criterion': 'entropy', 'max_depth': 2, 'max_features': 'log2', 'min_samples_split': 0.1, 'splitter': 'best'}\n",
      "0.739305 (0.112238) with: {'criterion': 'entropy', 'max_depth': 2, 'max_features': 'log2', 'min_samples_split': 0.1, 'splitter': 'random'}\n",
      "0.776963 (0.064657) with: {'criterion': 'entropy', 'max_depth': 2, 'max_features': 'log2', 'min_samples_split': 0.15, 'splitter': 'best'}\n",
      "0.772933 (0.046194) with: {'criterion': 'entropy', 'max_depth': 2, 'max_features': 'log2', 'min_samples_split': 0.15, 'splitter': 'random'}\n",
      "0.784729 (0.061253) with: {'criterion': 'entropy', 'max_depth': 2, 'max_features': 'log2', 'min_samples_split': 0.2, 'splitter': 'best'}\n",
      "0.751900 (0.067316) with: {'criterion': 'entropy', 'max_depth': 2, 'max_features': 'log2', 'min_samples_split': 0.2, 'splitter': 'random'}\n",
      "0.728366 (0.097114) with: {'criterion': 'entropy', 'max_depth': 2, 'max_features': 'sqrt', 'min_samples_split': 0.01, 'splitter': 'best'}\n",
      "0.763720 (0.069336) with: {'criterion': 'entropy', 'max_depth': 2, 'max_features': 'sqrt', 'min_samples_split': 0.01, 'splitter': 'random'}\n",
      "0.736931 (0.068044) with: {'criterion': 'entropy', 'max_depth': 2, 'max_features': 'sqrt', 'min_samples_split': 0.05, 'splitter': 'best'}\n",
      "0.731866 (0.092594) with: {'criterion': 'entropy', 'max_depth': 2, 'max_features': 'sqrt', 'min_samples_split': 0.05, 'splitter': 'random'}\n",
      "0.774974 (0.049610) with: {'criterion': 'entropy', 'max_depth': 2, 'max_features': 'sqrt', 'min_samples_split': 0.1, 'splitter': 'best'}\n",
      "0.757534 (0.095625) with: {'criterion': 'entropy', 'max_depth': 2, 'max_features': 'sqrt', 'min_samples_split': 0.1, 'splitter': 'random'}\n",
      "0.770722 (0.076255) with: {'criterion': 'entropy', 'max_depth': 2, 'max_features': 'sqrt', 'min_samples_split': 0.15, 'splitter': 'best'}\n",
      "0.744335 (0.066792) with: {'criterion': 'entropy', 'max_depth': 2, 'max_features': 'sqrt', 'min_samples_split': 0.15, 'splitter': 'random'}\n",
      "0.769882 (0.069257) with: {'criterion': 'entropy', 'max_depth': 2, 'max_features': 'sqrt', 'min_samples_split': 0.2, 'splitter': 'best'}\n",
      "0.752509 (0.113429) with: {'criterion': 'entropy', 'max_depth': 2, 'max_features': 'sqrt', 'min_samples_split': 0.2, 'splitter': 'random'}\n",
      "0.786772 (0.050820) with: {'criterion': 'entropy', 'max_depth': 2, 'max_features': None, 'min_samples_split': 0.01, 'splitter': 'best'}\n",
      "0.774188 (0.052591) with: {'criterion': 'entropy', 'max_depth': 2, 'max_features': None, 'min_samples_split': 0.01, 'splitter': 'random'}\n",
      "0.786772 (0.050820) with: {'criterion': 'entropy', 'max_depth': 2, 'max_features': None, 'min_samples_split': 0.05, 'splitter': 'best'}\n",
      "0.773168 (0.044110) with: {'criterion': 'entropy', 'max_depth': 2, 'max_features': None, 'min_samples_split': 0.05, 'splitter': 'random'}\n",
      "0.786772 (0.050820) with: {'criterion': 'entropy', 'max_depth': 2, 'max_features': None, 'min_samples_split': 0.1, 'splitter': 'best'}\n",
      "0.783144 (0.048566) with: {'criterion': 'entropy', 'max_depth': 2, 'max_features': None, 'min_samples_split': 0.1, 'splitter': 'random'}\n",
      "0.786772 (0.050820) with: {'criterion': 'entropy', 'max_depth': 2, 'max_features': None, 'min_samples_split': 0.15, 'splitter': 'best'}\n",
      "0.762429 (0.043521) with: {'criterion': 'entropy', 'max_depth': 2, 'max_features': None, 'min_samples_split': 0.15, 'splitter': 'random'}\n",
      "0.786772 (0.050820) with: {'criterion': 'entropy', 'max_depth': 2, 'max_features': None, 'min_samples_split': 0.2, 'splitter': 'best'}\n",
      "0.782344 (0.059990) with: {'criterion': 'entropy', 'max_depth': 2, 'max_features': None, 'min_samples_split': 0.2, 'splitter': 'random'}\n",
      "0.784436 (0.046115) with: {'criterion': 'entropy', 'max_depth': 3, 'max_features': 'auto', 'min_samples_split': 0.01, 'splitter': 'best'}\n",
      "0.768999 (0.098885) with: {'criterion': 'entropy', 'max_depth': 3, 'max_features': 'auto', 'min_samples_split': 0.01, 'splitter': 'random'}\n",
      "0.789365 (0.074155) with: {'criterion': 'entropy', 'max_depth': 3, 'max_features': 'auto', 'min_samples_split': 0.05, 'splitter': 'best'}\n",
      "0.767261 (0.062088) with: {'criterion': 'entropy', 'max_depth': 3, 'max_features': 'auto', 'min_samples_split': 0.05, 'splitter': 'random'}\n",
      "0.823973 (0.045715) with: {'criterion': 'entropy', 'max_depth': 3, 'max_features': 'auto', 'min_samples_split': 0.1, 'splitter': 'best'}\n",
      "0.744889 (0.076344) with: {'criterion': 'entropy', 'max_depth': 3, 'max_features': 'auto', 'min_samples_split': 0.1, 'splitter': 'random'}\n",
      "0.774554 (0.070840) with: {'criterion': 'entropy', 'max_depth': 3, 'max_features': 'auto', 'min_samples_split': 0.15, 'splitter': 'best'}\n",
      "0.785931 (0.056325) with: {'criterion': 'entropy', 'max_depth': 3, 'max_features': 'auto', 'min_samples_split': 0.15, 'splitter': 'random'}\n",
      "0.764633 (0.068681) with: {'criterion': 'entropy', 'max_depth': 3, 'max_features': 'auto', 'min_samples_split': 0.2, 'splitter': 'best'}\n",
      "0.784816 (0.042959) with: {'criterion': 'entropy', 'max_depth': 3, 'max_features': 'auto', 'min_samples_split': 0.2, 'splitter': 'random'}\n",
      "0.777196 (0.050376) with: {'criterion': 'entropy', 'max_depth': 3, 'max_features': 'log2', 'min_samples_split': 0.01, 'splitter': 'best'}\n",
      "0.770815 (0.054940) with: {'criterion': 'entropy', 'max_depth': 3, 'max_features': 'log2', 'min_samples_split': 0.01, 'splitter': 'random'}\n",
      "0.782794 (0.057186) with: {'criterion': 'entropy', 'max_depth': 3, 'max_features': 'log2', 'min_samples_split': 0.05, 'splitter': 'best'}\n",
      "0.795138 (0.042526) with: {'criterion': 'entropy', 'max_depth': 3, 'max_features': 'log2', 'min_samples_split': 0.05, 'splitter': 'random'}\n",
      "0.765623 (0.062654) with: {'criterion': 'entropy', 'max_depth': 3, 'max_features': 'log2', 'min_samples_split': 0.1, 'splitter': 'best'}\n",
      "0.778731 (0.042183) with: {'criterion': 'entropy', 'max_depth': 3, 'max_features': 'log2', 'min_samples_split': 0.1, 'splitter': 'random'}\n",
      "0.769758 (0.087961) with: {'criterion': 'entropy', 'max_depth': 3, 'max_features': 'log2', 'min_samples_split': 0.15, 'splitter': 'best'}\n",
      "0.776447 (0.049767) with: {'criterion': 'entropy', 'max_depth': 3, 'max_features': 'log2', 'min_samples_split': 0.15, 'splitter': 'random'}\n",
      "0.772392 (0.096595) with: {'criterion': 'entropy', 'max_depth': 3, 'max_features': 'log2', 'min_samples_split': 0.2, 'splitter': 'best'}\n",
      "0.750390 (0.059297) with: {'criterion': 'entropy', 'max_depth': 3, 'max_features': 'log2', 'min_samples_split': 0.2, 'splitter': 'random'}\n",
      "0.747315 (0.064345) with: {'criterion': 'entropy', 'max_depth': 3, 'max_features': 'sqrt', 'min_samples_split': 0.01, 'splitter': 'best'}\n",
      "0.789923 (0.054158) with: {'criterion': 'entropy', 'max_depth': 3, 'max_features': 'sqrt', 'min_samples_split': 0.01, 'splitter': 'random'}\n",
      "0.775396 (0.049736) with: {'criterion': 'entropy', 'max_depth': 3, 'max_features': 'sqrt', 'min_samples_split': 0.05, 'splitter': 'best'}\n",
      "0.774106 (0.060594) with: {'criterion': 'entropy', 'max_depth': 3, 'max_features': 'sqrt', 'min_samples_split': 0.05, 'splitter': 'random'}\n",
      "0.803655 (0.048618) with: {'criterion': 'entropy', 'max_depth': 3, 'max_features': 'sqrt', 'min_samples_split': 0.1, 'splitter': 'best'}\n",
      "0.738147 (0.097887) with: {'criterion': 'entropy', 'max_depth': 3, 'max_features': 'sqrt', 'min_samples_split': 0.1, 'splitter': 'random'}\n",
      "0.791241 (0.072713) with: {'criterion': 'entropy', 'max_depth': 3, 'max_features': 'sqrt', 'min_samples_split': 0.15, 'splitter': 'best'}\n",
      "0.779243 (0.040204) with: {'criterion': 'entropy', 'max_depth': 3, 'max_features': 'sqrt', 'min_samples_split': 0.15, 'splitter': 'random'}\n",
      "0.769835 (0.053405) with: {'criterion': 'entropy', 'max_depth': 3, 'max_features': 'sqrt', 'min_samples_split': 0.2, 'splitter': 'best'}\n",
      "0.778782 (0.058213) with: {'criterion': 'entropy', 'max_depth': 3, 'max_features': 'sqrt', 'min_samples_split': 0.2, 'splitter': 'random'}\n",
      "0.765081 (0.066213) with: {'criterion': 'entropy', 'max_depth': 3, 'max_features': None, 'min_samples_split': 0.01, 'splitter': 'best'}\n",
      "0.827225 (0.047594) with: {'criterion': 'entropy', 'max_depth': 3, 'max_features': None, 'min_samples_split': 0.01, 'splitter': 'random'}\n",
      "0.765081 (0.066213) with: {'criterion': 'entropy', 'max_depth': 3, 'max_features': None, 'min_samples_split': 0.05, 'splitter': 'best'}\n",
      "0.819281 (0.054469) with: {'criterion': 'entropy', 'max_depth': 3, 'max_features': None, 'min_samples_split': 0.05, 'splitter': 'random'}\n",
      "0.765081 (0.066213) with: {'criterion': 'entropy', 'max_depth': 3, 'max_features': None, 'min_samples_split': 0.1, 'splitter': 'best'}\n",
      "0.795725 (0.044565) with: {'criterion': 'entropy', 'max_depth': 3, 'max_features': None, 'min_samples_split': 0.1, 'splitter': 'random'}\n",
      "0.768217 (0.073290) with: {'criterion': 'entropy', 'max_depth': 3, 'max_features': None, 'min_samples_split': 0.15, 'splitter': 'best'}\n",
      "0.794667 (0.050028) with: {'criterion': 'entropy', 'max_depth': 3, 'max_features': None, 'min_samples_split': 0.15, 'splitter': 'random'}\n",
      "0.798014 (0.043710) with: {'criterion': 'entropy', 'max_depth': 3, 'max_features': None, 'min_samples_split': 0.2, 'splitter': 'best'}\n",
      "0.767853 (0.045939) with: {'criterion': 'entropy', 'max_depth': 3, 'max_features': None, 'min_samples_split': 0.2, 'splitter': 'random'}\n",
      "0.791830 (0.055697) with: {'criterion': 'entropy', 'max_depth': 4, 'max_features': 'auto', 'min_samples_split': 0.01, 'splitter': 'best'}\n",
      "0.795456 (0.049187) with: {'criterion': 'entropy', 'max_depth': 4, 'max_features': 'auto', 'min_samples_split': 0.01, 'splitter': 'random'}\n",
      "0.794444 (0.050784) with: {'criterion': 'entropy', 'max_depth': 4, 'max_features': 'auto', 'min_samples_split': 0.05, 'splitter': 'best'}\n",
      "0.784750 (0.058599) with: {'criterion': 'entropy', 'max_depth': 4, 'max_features': 'auto', 'min_samples_split': 0.05, 'splitter': 'random'}\n",
      "0.801922 (0.053169) with: {'criterion': 'entropy', 'max_depth': 4, 'max_features': 'auto', 'min_samples_split': 0.1, 'splitter': 'best'}\n",
      "0.781747 (0.079514) with: {'criterion': 'entropy', 'max_depth': 4, 'max_features': 'auto', 'min_samples_split': 0.1, 'splitter': 'random'}\n",
      "0.802984 (0.052093) with: {'criterion': 'entropy', 'max_depth': 4, 'max_features': 'auto', 'min_samples_split': 0.15, 'splitter': 'best'}\n",
      "0.810494 (0.047983) with: {'criterion': 'entropy', 'max_depth': 4, 'max_features': 'auto', 'min_samples_split': 0.15, 'splitter': 'random'}\n",
      "0.777795 (0.048280) with: {'criterion': 'entropy', 'max_depth': 4, 'max_features': 'auto', 'min_samples_split': 0.2, 'splitter': 'best'}\n",
      "0.783362 (0.067319) with: {'criterion': 'entropy', 'max_depth': 4, 'max_features': 'auto', 'min_samples_split': 0.2, 'splitter': 'random'}\n",
      "0.786742 (0.063626) with: {'criterion': 'entropy', 'max_depth': 4, 'max_features': 'log2', 'min_samples_split': 0.01, 'splitter': 'best'}\n",
      "0.797893 (0.064238) with: {'criterion': 'entropy', 'max_depth': 4, 'max_features': 'log2', 'min_samples_split': 0.01, 'splitter': 'random'}\n",
      "0.781794 (0.058822) with: {'criterion': 'entropy', 'max_depth': 4, 'max_features': 'log2', 'min_samples_split': 0.05, 'splitter': 'best'}\n",
      "0.766047 (0.055076) with: {'criterion': 'entropy', 'max_depth': 4, 'max_features': 'log2', 'min_samples_split': 0.05, 'splitter': 'random'}\n",
      "0.779421 (0.060848) with: {'criterion': 'entropy', 'max_depth': 4, 'max_features': 'log2', 'min_samples_split': 0.1, 'splitter': 'best'}\n",
      "0.783183 (0.069734) with: {'criterion': 'entropy', 'max_depth': 4, 'max_features': 'log2', 'min_samples_split': 0.1, 'splitter': 'random'}\n",
      "0.796353 (0.052352) with: {'criterion': 'entropy', 'max_depth': 4, 'max_features': 'log2', 'min_samples_split': 0.15, 'splitter': 'best'}\n",
      "0.739450 (0.079057) with: {'criterion': 'entropy', 'max_depth': 4, 'max_features': 'log2', 'min_samples_split': 0.15, 'splitter': 'random'}\n",
      "0.744997 (0.057586) with: {'criterion': 'entropy', 'max_depth': 4, 'max_features': 'log2', 'min_samples_split': 0.2, 'splitter': 'best'}\n",
      "0.773010 (0.051649) with: {'criterion': 'entropy', 'max_depth': 4, 'max_features': 'log2', 'min_samples_split': 0.2, 'splitter': 'random'}\n",
      "0.760654 (0.054115) with: {'criterion': 'entropy', 'max_depth': 4, 'max_features': 'sqrt', 'min_samples_split': 0.01, 'splitter': 'best'}\n",
      "0.803551 (0.062633) with: {'criterion': 'entropy', 'max_depth': 4, 'max_features': 'sqrt', 'min_samples_split': 0.01, 'splitter': 'random'}\n",
      "0.794532 (0.078489) with: {'criterion': 'entropy', 'max_depth': 4, 'max_features': 'sqrt', 'min_samples_split': 0.05, 'splitter': 'best'}\n",
      "0.782643 (0.075933) with: {'criterion': 'entropy', 'max_depth': 4, 'max_features': 'sqrt', 'min_samples_split': 0.05, 'splitter': 'random'}\n",
      "0.780433 (0.074886) with: {'criterion': 'entropy', 'max_depth': 4, 'max_features': 'sqrt', 'min_samples_split': 0.1, 'splitter': 'best'}\n",
      "0.783367 (0.062934) with: {'criterion': 'entropy', 'max_depth': 4, 'max_features': 'sqrt', 'min_samples_split': 0.1, 'splitter': 'random'}\n",
      "0.784943 (0.057069) with: {'criterion': 'entropy', 'max_depth': 4, 'max_features': 'sqrt', 'min_samples_split': 0.15, 'splitter': 'best'}\n",
      "0.787743 (0.066663) with: {'criterion': 'entropy', 'max_depth': 4, 'max_features': 'sqrt', 'min_samples_split': 0.15, 'splitter': 'random'}\n",
      "0.776249 (0.069508) with: {'criterion': 'entropy', 'max_depth': 4, 'max_features': 'sqrt', 'min_samples_split': 0.2, 'splitter': 'best'}\n",
      "0.774794 (0.045900) with: {'criterion': 'entropy', 'max_depth': 4, 'max_features': 'sqrt', 'min_samples_split': 0.2, 'splitter': 'random'}\n",
      "0.757018 (0.059073) with: {'criterion': 'entropy', 'max_depth': 4, 'max_features': None, 'min_samples_split': 0.01, 'splitter': 'best'}\n",
      "0.782129 (0.051273) with: {'criterion': 'entropy', 'max_depth': 4, 'max_features': None, 'min_samples_split': 0.01, 'splitter': 'random'}\n",
      "0.751393 (0.065402) with: {'criterion': 'entropy', 'max_depth': 4, 'max_features': None, 'min_samples_split': 0.05, 'splitter': 'best'}\n",
      "0.808994 (0.047680) with: {'criterion': 'entropy', 'max_depth': 4, 'max_features': None, 'min_samples_split': 0.05, 'splitter': 'random'}\n",
      "0.755361 (0.065249) with: {'criterion': 'entropy', 'max_depth': 4, 'max_features': None, 'min_samples_split': 0.1, 'splitter': 'best'}\n",
      "0.804653 (0.038520) with: {'criterion': 'entropy', 'max_depth': 4, 'max_features': None, 'min_samples_split': 0.1, 'splitter': 'random'}\n",
      "0.766044 (0.073315) with: {'criterion': 'entropy', 'max_depth': 4, 'max_features': None, 'min_samples_split': 0.15, 'splitter': 'best'}\n",
      "0.799361 (0.053451) with: {'criterion': 'entropy', 'max_depth': 4, 'max_features': None, 'min_samples_split': 0.15, 'splitter': 'random'}\n",
      "0.798014 (0.043710) with: {'criterion': 'entropy', 'max_depth': 4, 'max_features': None, 'min_samples_split': 0.2, 'splitter': 'best'}\n",
      "0.771977 (0.058715) with: {'criterion': 'entropy', 'max_depth': 4, 'max_features': None, 'min_samples_split': 0.2, 'splitter': 'random'}\n"
     ]
    }
   ],
   "source": [
    "model = DecisionTreeClassifier()\n",
    "criterion_vals = ['gini', 'entropy']\n",
    "splitter_vals = [\"best\",\"random\"]\n",
    "max_depth_vals = [2, 3, 4]\n",
    "min_samples_split_vals = [0.01, 0.05, 0.1, 0.15, 0.2]\n",
    "max_features_vals = [\"auto\",\"log2\",\"sqrt\",None]\n",
    "\n",
    "\n",
    "# define grid search\n",
    "grid = dict(criterion=criterion_vals,max_depth=max_depth_vals, min_samples_split=min_samples_split_vals,\n",
    "           max_features=max_features_vals, splitter=splitter_vals)\n",
    "cv = RepeatedStratifiedKFold(n_splits=5, n_repeats=3, random_state=1)\n",
    "grid_search = GridSearchCV(estimator=model, param_grid=grid, n_jobs=-1, cv=cv, scoring='f1',error_score=0)\n",
    "grid_result = grid_search.fit(X_train_after_drop_0_feat_imp_vars, y_train)\n",
    "\n",
    "\n",
    "# summarize results\n",
    "print(\"Best: %f using %s\" % (grid_result.best_score_, grid_result.best_params_))\n",
    "means = grid_result.cv_results_['mean_test_score']\n",
    "stds = grid_result.cv_results_['std_test_score']\n",
    "params = grid_result.cv_results_['params']\n",
    "for mean, stdev, param in zip(means, stds, params):\n",
    "    print(\"%f (%f) with: %r\" % (mean, stdev, param))\n"
   ]
  },
  {
   "cell_type": "code",
   "execution_count": 149,
   "id": "b8a61a40",
   "metadata": {},
   "outputs": [
    {
     "data": {
      "text/plain": [
       "DecisionTreeClassifier(criterion='entropy', max_depth=3, min_samples_split=0.01,\n",
       "                       random_state=42, splitter='random')"
      ]
     },
     "execution_count": 149,
     "metadata": {},
     "output_type": "execute_result"
    }
   ],
   "source": [
    "dt_model_tuned = DecisionTreeClassifier(criterion=grid_result.best_params_['criterion'],\n",
    "                                        max_depth=grid_result.best_params_['max_depth'],\n",
    "                                        min_samples_split=grid_result.best_params_['min_samples_split'],\n",
    "                                        max_features=grid_result.best_params_['max_features'],\n",
    "                                        splitter=grid_result.best_params_['splitter'], random_state=42)\n",
    "dt_model_tuned.fit(X_train_after_drop_0_feat_imp_vars, y_train)"
   ]
  },
  {
   "cell_type": "markdown",
   "id": "60d04cc1",
   "metadata": {},
   "source": [
    "### Predictions on train and test data using tuned decision tree classifier model"
   ]
  },
  {
   "cell_type": "code",
   "execution_count": 150,
   "id": "331b5d68",
   "metadata": {},
   "outputs": [],
   "source": [
    "y_train_pred_dt_model_tuned = dt_model_tuned.predict(X_train_after_drop_0_feat_imp_vars)"
   ]
  },
  {
   "cell_type": "code",
   "execution_count": 151,
   "id": "1dfec61f",
   "metadata": {},
   "outputs": [],
   "source": [
    "y_test_pred_dt_model_tuned = dt_model_tuned.predict(X_test_after_drop_0_feat_imp_vars)"
   ]
  },
  {
   "cell_type": "markdown",
   "id": "1e6b0a4b",
   "metadata": {},
   "source": [
    "### Model evaluation metrics on train and test data using tuned decision tree classifier model"
   ]
  },
  {
   "cell_type": "code",
   "execution_count": 152,
   "id": "b0058d37",
   "metadata": {},
   "outputs": [
    {
     "name": "stdout",
     "output_type": "stream",
     "text": [
      "              precision    recall  f1-score   support\n",
      "\n",
      "           0       0.87      0.75      0.81        97\n",
      "           1       0.81      0.90      0.86       115\n",
      "\n",
      "    accuracy                           0.83       212\n",
      "   macro avg       0.84      0.83      0.83       212\n",
      "weighted avg       0.84      0.83      0.83       212\n",
      "\n"
     ]
    }
   ],
   "source": [
    "print(classification_report(y_train, y_train_pred_dt_model_tuned))"
   ]
  },
  {
   "cell_type": "code",
   "execution_count": 153,
   "id": "824d8e56",
   "metadata": {},
   "outputs": [
    {
     "name": "stdout",
     "output_type": "stream",
     "text": [
      "              precision    recall  f1-score   support\n",
      "\n",
      "           0       0.72      0.63      0.68        41\n",
      "           1       0.73      0.80      0.76        50\n",
      "\n",
      "    accuracy                           0.73        91\n",
      "   macro avg       0.72      0.72      0.72        91\n",
      "weighted avg       0.72      0.73      0.72        91\n",
      "\n"
     ]
    }
   ],
   "source": [
    "print(classification_report(y_test, y_test_pred_dt_model_tuned))"
   ]
  },
  {
   "cell_type": "code",
   "execution_count": 154,
   "id": "4b99d1c8",
   "metadata": {},
   "outputs": [
    {
     "data": {
      "text/plain": [
       "89.06"
      ]
     },
     "execution_count": 154,
     "metadata": {},
     "output_type": "execute_result"
    }
   ],
   "source": [
    "round(roc_auc_score(y_train, dt_model_tuned.predict_proba(X_train_after_drop_0_feat_imp_vars)[:, 1])*100, 2)"
   ]
  },
  {
   "cell_type": "code",
   "execution_count": 155,
   "id": "b51ee60e",
   "metadata": {},
   "outputs": [
    {
     "data": {
      "text/plain": [
       "77.71"
      ]
     },
     "execution_count": 155,
     "metadata": {},
     "output_type": "execute_result"
    }
   ],
   "source": [
    "round(roc_auc_score(y_test, dt_model_tuned.predict_proba(X_test_after_drop_0_feat_imp_vars)[:, 1])*100, 2)"
   ]
  },
  {
   "cell_type": "markdown",
   "id": "3e1e1153",
   "metadata": {},
   "source": [
    "### Plot ROC Curves of train and test data using tuned decision tree classifier model"
   ]
  },
  {
   "cell_type": "code",
   "execution_count": 156,
   "id": "3fabc2ee",
   "metadata": {},
   "outputs": [],
   "source": [
    "train_fpr_dt_model_tuned, train_tpr_dt_model_tuned, _ = roc_curve(y_train,\n",
    "                                                        dt_model_tuned.predict_proba(X_train_after_drop_0_feat_imp_vars)[:, 1])\n",
    "test_fpr_dt_model_tuned, test_tpr_dt_model_tuned, _ = roc_curve(y_test,\n",
    "                                                        dt_model_tuned.predict_proba(X_test_after_drop_0_feat_imp_vars)[:, 1])"
   ]
  },
  {
   "cell_type": "code",
   "execution_count": 157,
   "id": "d21fe50e",
   "metadata": {},
   "outputs": [
    {
     "data": {
      "image/png": "[encoded data removed]",
      "text/plain": [
       "<Figure size 432x288 with 1 Axes>"
      ]
     },
     "metadata": {
      "needs_background": "light"
     },
     "output_type": "display_data"
    }
   ],
   "source": [
    "plt.plot(train_fpr_dt_model_tuned, train_tpr_dt_model_tuned, linestyle='--', label='Train')\n",
    "plt.plot(test_fpr_dt_model_tuned, test_tpr_dt_model_tuned, marker='.', label='Test')\n",
    "\n",
    "plt.xlabel('False Positive Rate')\n",
    "plt.ylabel('True Positive Rate')\n",
    "plt.title('ROC Curve - Tuned Decision Tree Classifier Model')\n",
    "plt.legend()\n",
    "\n",
    "plt.show()"
   ]
  },
  {
   "cell_type": "markdown",
   "id": "224677f4",
   "metadata": {},
   "source": [
    "### Feature Importance of Tuned Decision Tree Classifier Model - We can further simplify the model by dropping zero importance features"
   ]
  },
  {
   "cell_type": "code",
   "execution_count": 158,
   "id": "c83b8e6f",
   "metadata": {},
   "outputs": [
    {
     "data": {
      "image/png": "[encoded data removed]",
      "text/plain": [
       "<Figure size 432x288 with 1 Axes>"
      ]
     },
     "metadata": {
      "needs_background": "light"
     },
     "output_type": "display_data"
    }
   ],
   "source": [
    "dt_model_tuned_features = list(X_train_after_drop_0_feat_imp_vars.columns)\n",
    "dt_model_tuned_feat_importances =dt_model_tuned.feature_importances_\n",
    "indices = np.argsort(dt_model_tuned_feat_importances)\n",
    "\n",
    "plt.title('Feature Importances - Tuned Decision Tree Classifier Model')\n",
    "plt.barh(range(len(indices)), dt_model_tuned_feat_importances[indices], color='b', align='center')\n",
    "plt.yticks(range(len(indices)), [dt_model_tuned_features[i] for i in indices])\n",
    "plt.xlabel('Relative Importance')\n",
    "plt.show()"
   ]
  },
  {
   "cell_type": "code",
   "execution_count": null,
   "id": "30c31d27",
   "metadata": {},
   "outputs": [],
   "source": []
  }
 ],
 "metadata": {
  "kernelspec": {
   "display_name": "Python 3",
   "language": "python",
   "name": "python3"
  },
  "language_info": {
   "codemirror_mode": {
    "name": "ipython",
    "version": 3
   },
   "file_extension": ".py",
   "mimetype": "text/x-python",
   "name": "python",
   "nbconvert_exporter": "python",
   "pygments_lexer": "ipython3",
   "version": "3.8.8"
  }
 },
 "nbformat": 4,
 "nbformat_minor": 5
}
